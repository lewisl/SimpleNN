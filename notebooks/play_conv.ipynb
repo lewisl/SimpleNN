{
 "cells": [
  {
   "cell_type": "code",
   "execution_count": 1,
   "id": "7e70f1d2-e2c4-4019-9318-e15c997fcb2d",
   "metadata": {},
   "outputs": [
    {
     "name": "stderr",
     "output_type": "stream",
     "text": [
      "\u001b[36m\u001b[1m[ \u001b[22m\u001b[39m\u001b[36m\u001b[1mInfo: \u001b[22m\u001b[39mPrecompiling GeneralNN [47e0c118-78ee-11ef-3e02-d9224f55ee60] (cache misses: wrong dep version loaded (2))\n",
      "\u001b[36m\u001b[1m[ \u001b[22m\u001b[39m\u001b[36m\u001b[1mInfo: \u001b[22m\u001b[39mPrecompiling IJuliaExt [2f4121a4-3b3a-5ce6-9c5e-1f2673ce168a] (cache misses: wrong dep version loaded (2))\n",
      "\u001b[36m\u001b[1m[ \u001b[22m\u001b[39m\u001b[36m\u001b[1mInfo: \u001b[22m\u001b[39mPrecompiling BenchmarkTools [6e4b80f9-dd63-53aa-95a3-0cdb28fa8baf] (cache misses: wrong dep version loaded (2))\n"
     ]
    }
   ],
   "source": [
    "using GeneralNN\n",
    "using DelimitedFiles\n",
    "using BenchmarkTools"
   ]
  },
  {
   "cell_type": "code",
   "execution_count": 2,
   "id": "0df30c63",
   "metadata": {},
   "outputs": [
    {
     "data": {
      "text/plain": [
       "\"/Users/lewis/code/nn by hand/notebooks\""
      ]
     },
     "execution_count": 2,
     "metadata": {},
     "output_type": "execute_result"
    }
   ],
   "source": [
    "pwd()"
   ]
  },
  {
   "cell_type": "code",
   "execution_count": 3,
   "id": "495b2301",
   "metadata": {},
   "outputs": [],
   "source": [
    "includet(\"../src/conv_net_funcs.jl\")"
   ]
  },
  {
   "cell_type": "code",
   "execution_count": 4,
   "id": "631c41ce",
   "metadata": {},
   "outputs": [],
   "source": [
    "includet(\"../src/colconv.jl\")"
   ]
  },
  {
   "cell_type": "code",
   "execution_count": 5,
   "id": "343c9bd9",
   "metadata": {},
   "outputs": [],
   "source": [
    "includet(\"../src/simple_conv.jl\")\n"
   ]
  },
  {
   "cell_type": "code",
   "execution_count": 6,
   "id": "f7a7f6f0-e25c-4421-a4b4-6e017046e3ea",
   "metadata": {},
   "outputs": [],
   "source": [
    "for (mod, file) in Revise.included_files\n",
    "    Revise.track(mod, file)\n",
    "end"
   ]
  },
  {
   "cell_type": "code",
   "execution_count": null,
   "id": "823381e3",
   "metadata": {},
   "outputs": [],
   "source": []
  },
  {
   "cell_type": "markdown",
   "id": "98f372b3",
   "metadata": {},
   "source": [
    "#### Load some test data to play with"
   ]
  },
  {
   "cell_type": "code",
   "execution_count": 7,
   "id": "12c7aba0-d640-4066-af5d-3e90868fae4e",
   "metadata": {},
   "outputs": [
    {
     "data": {
      "text/plain": [
       "6×6 Matrix{Float64}:\n",
       " 10.0  10.0  10.0  0.0  0.0  0.0\n",
       " 10.0  10.0  10.0  0.0  0.0  0.0\n",
       " 10.0  10.0  10.0  0.0  0.0  0.0\n",
       " 10.0  10.0  10.0  0.0  0.0  0.0\n",
       " 10.0  10.0  10.0  0.0  0.0  0.0\n",
       " 10.0  10.0  10.0  0.0  0.0  0.0"
      ]
     },
     "execution_count": 7,
     "metadata": {},
     "output_type": "execute_result"
    }
   ],
   "source": [
    "edg = readdlm(\"../tstdata/edg.csv\", ',')"
   ]
  },
  {
   "cell_type": "code",
   "execution_count": 8,
   "id": "8736ed6c",
   "metadata": {},
   "outputs": [
    {
     "data": {
      "text/plain": [
       "6×6×3×1 Array{Float64, 4}:\n",
       "[:, :, 1, 1] =\n",
       " 10.0  10.0  10.0  0.0  0.0  0.0\n",
       " 10.0  10.0  10.0  0.0  0.0  0.0\n",
       " 10.0  10.0  10.0  0.0  0.0  0.0\n",
       " 10.0  10.0  10.0  0.0  0.0  0.0\n",
       " 10.0  10.0  10.0  0.0  0.0  0.0\n",
       " 10.0  10.0  10.0  0.0  0.0  0.0\n",
       "\n",
       "[:, :, 2, 1] =\n",
       " 10.0  10.0  10.0  0.0  0.0  0.0\n",
       " 10.0  10.0  10.0  0.0  0.0  0.0\n",
       " 10.0  10.0  10.0  0.0  0.0  0.0\n",
       " 10.0  10.0  10.0  0.0  0.0  0.0\n",
       " 10.0  10.0  10.0  0.0  0.0  0.0\n",
       " 10.0  10.0  10.0  0.0  0.0  0.0\n",
       "\n",
       "[:, :, 3, 1] =\n",
       " 10.0  10.0  10.0  0.0  0.0  0.0\n",
       " 10.0  10.0  10.0  0.0  0.0  0.0\n",
       " 10.0  10.0  10.0  0.0  0.0  0.0\n",
       " 10.0  10.0  10.0  0.0  0.0  0.0\n",
       " 10.0  10.0  10.0  0.0  0.0  0.0\n",
       " 10.0  10.0  10.0  0.0  0.0  0.0"
      ]
     },
     "execution_count": 8,
     "metadata": {},
     "output_type": "execute_result"
    }
   ],
   "source": [
    "edg_6by6_by3_by1 = reshape(cat(edg, edg,edg,dims=3),(6,6,3,1))"
   ]
  },
  {
   "cell_type": "code",
   "execution_count": 9,
   "id": "a2446291",
   "metadata": {},
   "outputs": [
    {
     "data": {
      "text/plain": [
       "3×3 Matrix{Float64}:\n",
       " 1.0  0.0  -1.0\n",
       " 1.0  0.0  -1.0\n",
       " 1.0  0.0  -1.0"
      ]
     },
     "execution_count": 9,
     "metadata": {},
     "output_type": "execute_result"
    }
   ],
   "source": [
    "v_edge_fil = readdlm(\"../tstdata/v_edge_fil.csv\", ',')"
   ]
  },
  {
   "cell_type": "code",
   "execution_count": 10,
   "id": "02583a4a",
   "metadata": {},
   "outputs": [
    {
     "data": {
      "text/plain": [
       "3×3 Matrix{Float64}:\n",
       "  1.0   1.0   1.0\n",
       "  0.0   0.0   0.0\n",
       " -1.0  -1.0  -1.0"
      ]
     },
     "execution_count": 10,
     "metadata": {},
     "output_type": "execute_result"
    }
   ],
   "source": [
    "h_edge_fil = readdlm(\"../tstdata/h_edge_fil.csv\", ',')"
   ]
  },
  {
   "cell_type": "code",
   "execution_count": 11,
   "id": "8cb75981",
   "metadata": {},
   "outputs": [
    {
     "data": {
      "text/plain": [
       "6×6 Matrix{Float64}:\n",
       " 10.0  10.0  10.0   0.0   0.0   0.0\n",
       " 10.0  10.0  10.0   0.0   0.0   0.0\n",
       " 10.0  10.0  10.0   0.0   0.0   0.0\n",
       "  0.0   0.0   0.0  10.0  10.0  10.0\n",
       "  0.0   0.0   0.0  10.0  10.0  10.0\n",
       "  0.0   0.0   0.0  10.0  10.0  10.0"
      ]
     },
     "execution_count": 11,
     "metadata": {},
     "output_type": "execute_result"
    }
   ],
   "source": [
    "edg2_fil = readdlm(\"../tstdata/edg2_fil.csv\", ',')"
   ]
  },
  {
   "cell_type": "code",
   "execution_count": 12,
   "id": "70c7a640",
   "metadata": {},
   "outputs": [
    {
     "data": {
      "text/plain": [
       "3×3 Matrix{Float64}:\n",
       " 0.0  0.0  0.0\n",
       " 0.0  1.0  0.0\n",
       " 0.0  0.0  0.0"
      ]
     },
     "execution_count": 12,
     "metadata": {},
     "output_type": "execute_result"
    }
   ],
   "source": [
    "same_fil = readdlm(\"../tstdata/same_fil.csv\", ',')"
   ]
  },
  {
   "cell_type": "code",
   "execution_count": 13,
   "id": "36f12106",
   "metadata": {},
   "outputs": [
    {
     "data": {
      "text/plain": [
       "multiply_fil (generic function with 1 method)"
      ]
     },
     "execution_count": 13,
     "metadata": {},
     "output_type": "execute_result"
    }
   ],
   "source": [
    "function multiply_fil(x)\n",
    "x .* [0 0 0;\n",
    "    0 1 0;\n",
    "    0 0 0]\n",
    "end"
   ]
  },
  {
   "cell_type": "code",
   "execution_count": 14,
   "id": "eeda4978",
   "metadata": {},
   "outputs": [
    {
     "data": {
      "text/plain": [
       "3×3 Matrix{Float64}:\n",
       " 0.0  0.0  0.0\n",
       " 0.0  2.0  0.0\n",
       " 0.0  0.0  0.0"
      ]
     },
     "execution_count": 14,
     "metadata": {},
     "output_type": "execute_result"
    }
   ],
   "source": [
    "multiply_fil(2.0)"
   ]
  },
  {
   "cell_type": "code",
   "execution_count": 15,
   "id": "0f7bbed5-979d-4ccd-9faa-30fac579d6b2",
   "metadata": {},
   "outputs": [
    {
     "data": {
      "text/plain": [
       "6×6 Matrix{Float64}:\n",
       " 3.0  0.0  1.0  2.0  7.0  4.0\n",
       " 1.0  5.0  8.0  9.0  3.0  1.0\n",
       " 2.0  7.0  2.0  5.0  1.0  3.0\n",
       " 0.0  1.0  3.0  1.0  7.0  8.0\n",
       " 4.0  2.0  1.0  6.0  2.0  8.0\n",
       " 2.0  4.0  5.0  2.0  3.0  9.0"
      ]
     },
     "execution_count": 15,
     "metadata": {},
     "output_type": "execute_result"
    }
   ],
   "source": [
    "x = readdlm(\"../tstdata/x.csv\", ',')"
   ]
  },
  {
   "cell_type": "code",
   "execution_count": 16,
   "id": "5c58714a",
   "metadata": {},
   "outputs": [
    {
     "data": {
      "text/plain": [
       "3×3 Matrix{Float64}:\n",
       "  3.0  0.0   -3.0\n",
       " 10.0  0.0  -10.0\n",
       "  3.0  0.0   -3.0"
      ]
     },
     "execution_count": 16,
     "metadata": {},
     "output_type": "execute_result"
    }
   ],
   "source": [
    "schorr = readdlm(\"../tstdata/schorr_fil.csv\", ',')"
   ]
  },
  {
   "cell_type": "code",
   "execution_count": 17,
   "id": "39bf2ff5",
   "metadata": {},
   "outputs": [
    {
     "data": {
      "text/plain": [
       "3×3 Matrix{Float64}:\n",
       " 1.0  0.0  -1.0\n",
       " 2.0  0.0  -2.0\n",
       " 1.0  0.0  -1.0"
      ]
     },
     "execution_count": 17,
     "metadata": {},
     "output_type": "execute_result"
    }
   ],
   "source": [
    "sobel = readdlm(\"../tstdata/sobel_fil.csv\", ',')"
   ]
  },
  {
   "cell_type": "code",
   "execution_count": 18,
   "id": "7e23e668",
   "metadata": {},
   "outputs": [
    {
     "data": {
      "text/plain": [
       "6×6 Matrix{Int64}:\n",
       "  1   2   3   4   5   6\n",
       "  7   8   9  10  11  12\n",
       " 13  14  15  16  17  18\n",
       " 19  20  21  22  23  24\n",
       " 25  26  27  28  29  30\n",
       " 31  32  33  34  35  36"
      ]
     },
     "execution_count": 18,
     "metadata": {},
     "output_type": "execute_result"
    }
   ],
   "source": [
    "fiva = collect(reshape(1:25, 5, 5)')\n",
    "sixa = collect(reshape(1:36, 6, 6)')"
   ]
  },
  {
   "cell_type": "code",
   "execution_count": 19,
   "id": "1d53e4c2",
   "metadata": {},
   "outputs": [
    {
     "data": {
      "text/plain": [
       "([7.0 9.0; 17.0 19.0;;;], CartesianIndex{2}[CartesianIndex(2, 2) CartesianIndex(2, 2); CartesianIndex(2, 2) CartesianIndex(2, 2);;;])"
      ]
     },
     "execution_count": 19,
     "metadata": {},
     "output_type": "execute_result"
    }
   ],
   "source": [
    "res6, locs6 = pooling(sixa, stridedims=(2,2))\n",
    "res5, locs5, = pooling(fiva)"
   ]
  },
  {
   "cell_type": "code",
   "execution_count": 20,
   "id": "ebcf7179",
   "metadata": {},
   "outputs": [
    {
     "data": {
      "text/plain": [
       "2×2×1 Array{Float64, 3}:\n",
       "[:, :, 1] =\n",
       "  7.0   9.0\n",
       " 17.0  19.0"
      ]
     },
     "execution_count": 20,
     "metadata": {},
     "output_type": "execute_result"
    }
   ],
   "source": [
    "res5"
   ]
  },
  {
   "cell_type": "code",
   "execution_count": 21,
   "id": "00470bb4",
   "metadata": {},
   "outputs": [
    {
     "data": {
      "text/plain": [
       "2×2×1 Array{CartesianIndex{2}, 3}:\n",
       "[:, :, 1] =\n",
       " CartesianIndex(2, 2)  CartesianIndex(2, 2)\n",
       " CartesianIndex(2, 2)  CartesianIndex(2, 2)"
      ]
     },
     "execution_count": 21,
     "metadata": {},
     "output_type": "execute_result"
    }
   ],
   "source": [
    "locs5"
   ]
  },
  {
   "cell_type": "code",
   "execution_count": 22,
   "id": "9f7c0221",
   "metadata": {},
   "outputs": [
    {
     "data": {
      "text/plain": [
       "6×6×1 Array{Float64, 3}:\n",
       "[:, :, 1] =\n",
       " 0.0   0.0  0.0   0.0  0.0   0.0\n",
       " 0.0   8.0  0.0  10.0  0.0  12.0\n",
       " 0.0   0.0  0.0   0.0  0.0   0.0\n",
       " 0.0  20.0  0.0  22.0  0.0  24.0\n",
       " 0.0   0.0  0.0   0.0  0.0   0.0\n",
       " 0.0  32.0  0.0  34.0  0.0  36.0"
      ]
     },
     "execution_count": 22,
     "metadata": {},
     "output_type": "execute_result"
    }
   ],
   "source": [
    "foo6 = unpooling(res6, locs6, prevdims = (6,6,1), stridedims=(2,2))"
   ]
  },
  {
   "cell_type": "code",
   "execution_count": 23,
   "id": "34bb13c5",
   "metadata": {},
   "outputs": [
    {
     "data": {
      "text/plain": [
       "5×5×1 Array{Float64, 3}:\n",
       "[:, :, 1] =\n",
       " 0.0   0.0  0.0   0.0  0.0\n",
       " 0.0   7.0  0.0   9.0  0.0\n",
       " 0.0   0.0  0.0   0.0  0.0\n",
       " 0.0  17.0  0.0  19.0  0.0\n",
       " 0.0   0.0  0.0   0.0  0.0"
      ]
     },
     "execution_count": 23,
     "metadata": {},
     "output_type": "execute_result"
    }
   ],
   "source": [
    "foo5 = unpooling(res5, locs5, prevdims=(5,5,1))"
   ]
  },
  {
   "cell_type": "code",
   "execution_count": 24,
   "id": "dcb42ad9",
   "metadata": {},
   "outputs": [
    {
     "name": "stdout",
     "output_type": "stream",
     "text": [
      "1\n",
      "2\n",
      "3\n",
      "4\n"
     ]
    }
   ],
   "source": [
    "for xi in 1:1:5-1\n",
    "println(xi)\n",
    "end"
   ]
  },
  {
   "cell_type": "markdown",
   "id": "6d8bb19f",
   "metadata": {},
   "source": [
    "#### Run some functions"
   ]
  },
  {
   "cell_type": "code",
   "execution_count": 25,
   "id": "b3579220",
   "metadata": {},
   "outputs": [
    {
     "name": "stdout",
     "output_type": "stream",
     "text": [
      "stride = 1\n",
      "(typeof(stride), stride) = (Int64, 1)\n",
      "(typeof(stride), stride) = (Int64, 1)\n"
     ]
    },
    {
     "data": {
      "text/plain": [
       "6×6×1 Array{Float64, 3}:\n",
       "[:, :, 1] =\n",
       " -19.0  1.0  21.0  21.0  1.0  1.0\n",
       " -29.0  1.0  31.0  31.0  1.0  1.0\n",
       " -29.0  1.0  31.0  31.0  1.0  1.0\n",
       " -29.0  1.0  31.0  31.0  1.0  1.0\n",
       " -29.0  1.0  31.0  31.0  1.0  1.0\n",
       " -19.0  1.0  21.0  21.0  1.0  1.0"
      ]
     },
     "execution_count": 25,
     "metadata": {},
     "output_type": "execute_result"
    }
   ],
   "source": [
    "convolve_multi(edg, v_edge_fil, [1])"
   ]
  },
  {
   "cell_type": "code",
   "execution_count": 26,
   "id": "774fb27e",
   "metadata": {},
   "outputs": [
    {
     "data": {
      "text/plain": [
       "8×8 Matrix{Float64}:\n",
       " 0.0   0.0   0.0   0.0  0.0  0.0  0.0  0.0\n",
       " 0.0  10.0  10.0  10.0  0.0  0.0  0.0  0.0\n",
       " 0.0  10.0  10.0  10.0  0.0  0.0  0.0  0.0\n",
       " 0.0  10.0  10.0  10.0  0.0  0.0  0.0  0.0\n",
       " 0.0  10.0  10.0  10.0  0.0  0.0  0.0  0.0\n",
       " 0.0  10.0  10.0  10.0  0.0  0.0  0.0  0.0\n",
       " 0.0  10.0  10.0  10.0  0.0  0.0  0.0  0.0\n",
       " 0.0   0.0   0.0   0.0  0.0  0.0  0.0  0.0"
      ]
     },
     "execution_count": 26,
     "metadata": {},
     "output_type": "execute_result"
    }
   ],
   "source": [
    "dopad(edg,(1,1,1,1))"
   ]
  },
  {
   "cell_type": "code",
   "execution_count": 27,
   "id": "1647a2ee",
   "metadata": {},
   "outputs": [
    {
     "data": {
      "text/plain": [
       "([10.0 10.0 0.0; 10.0 10.0 0.0; 10.0 10.0 0.0;;;], CartesianIndex{2}[CartesianIndex(1, 1) CartesianIndex(1, 1) CartesianIndex(1, 1); CartesianIndex(1, 1) CartesianIndex(1, 1) CartesianIndex(1, 1); CartesianIndex(1, 1) CartesianIndex(1, 1) CartesianIndex(1, 1);;;])"
      ]
     },
     "execution_count": 27,
     "metadata": {},
     "output_type": "execute_result"
    }
   ],
   "source": [
    "pooling(edg)"
   ]
  },
  {
   "cell_type": "code",
   "execution_count": 28,
   "id": "8abc92d5",
   "metadata": {},
   "outputs": [
    {
     "name": "stdout",
     "output_type": "stream",
     "text": [
      "stride = 1\n",
      "(typeof(stride), stride) = (Int64, 1)\n",
      "(typeof(stride), stride) = (Int64, 1)\n"
     ]
    },
    {
     "data": {
      "text/plain": [
       "6×6×1 Array{Float64, 3}:\n",
       "[:, :, 1] =\n",
       " 31.0  31.0  31.0  1.0  1.0  1.0\n",
       " 31.0  31.0  31.0  1.0  1.0  1.0\n",
       " 31.0  31.0  31.0  1.0  1.0  1.0\n",
       " 31.0  31.0  31.0  1.0  1.0  1.0\n",
       " 31.0  31.0  31.0  1.0  1.0  1.0\n",
       " 31.0  31.0  31.0  1.0  1.0  1.0"
      ]
     },
     "execution_count": 28,
     "metadata": {},
     "output_type": "execute_result"
    }
   ],
   "source": [
    "convolve_multi(edg, multiply_fil(3.0), [1])"
   ]
  },
  {
   "cell_type": "code",
   "execution_count": 29,
   "id": "a44670fe-d6f5-4863-8b4c-4039819222ad",
   "metadata": {},
   "outputs": [
    {
     "data": {
      "text/plain": [
       "(1, 1, 1, 1)"
      ]
     },
     "execution_count": 29,
     "metadata": {},
     "output_type": "execute_result"
    }
   ],
   "source": [
    "padding_same(edg, v_edge_fil, stride=1)"
   ]
  },
  {
   "cell_type": "code",
   "execution_count": 30,
   "id": "4837954a",
   "metadata": {},
   "outputs": [
    {
     "data": {
      "text/plain": [
       "(1, 1, 1, 1)"
      ]
     },
     "execution_count": 30,
     "metadata": {},
     "output_type": "execute_result"
    }
   ],
   "source": [
    "foo = padding_same(edg, v_edge_fil, stride=1)"
   ]
  },
  {
   "cell_type": "code",
   "execution_count": 31,
   "id": "288059dc",
   "metadata": {},
   "outputs": [
    {
     "data": {
      "text/plain": [
       "(1, 1, 1, 1)"
      ]
     },
     "execution_count": 31,
     "metadata": {},
     "output_type": "execute_result"
    }
   ],
   "source": [
    "pad_r1, pad_r2 = padding_same(edg, v_edge_fil, stride=1)"
   ]
  },
  {
   "cell_type": "code",
   "execution_count": 32,
   "id": "4c5eea02",
   "metadata": {},
   "outputs": [
    {
     "data": {
      "text/plain": [
       "20×20×3 Array{Float64, 3}:\n",
       "[:, :, 1] =\n",
       " 1.0  1.0  1.0  1.0  1.0  1.0  1.0  1.0  …  1.0  1.0  1.0  1.0  1.0  1.0  1.0\n",
       " 1.0  1.0  1.0  1.0  1.0  1.0  1.0  1.0     1.0  1.0  1.0  1.0  1.0  1.0  1.0\n",
       " 1.0  1.0  1.0  1.0  1.0  1.0  1.0  1.0     1.0  1.0  1.0  1.0  1.0  1.0  1.0\n",
       " 1.0  1.0  1.0  1.0  1.0  1.0  1.0  1.0     1.0  1.0  1.0  1.0  1.0  1.0  1.0\n",
       " 1.0  1.0  1.0  1.0  1.0  1.0  1.0  1.0     1.0  1.0  1.0  1.0  1.0  1.0  1.0\n",
       " 1.0  1.0  1.0  1.0  1.0  1.0  1.0  1.0  …  1.0  1.0  1.0  1.0  1.0  1.0  1.0\n",
       " 1.0  1.0  1.0  1.0  1.0  1.0  1.0  1.0     1.0  1.0  1.0  1.0  1.0  1.0  1.0\n",
       " 1.0  1.0  1.0  1.0  1.0  1.0  1.0  1.0     1.0  1.0  1.0  1.0  1.0  1.0  1.0\n",
       " 1.0  1.0  1.0  1.0  1.0  1.0  1.0  1.0     1.0  1.0  1.0  1.0  1.0  1.0  1.0\n",
       " 1.0  1.0  1.0  1.0  1.0  1.0  1.0  1.0     1.0  1.0  1.0  1.0  1.0  1.0  1.0\n",
       " 1.0  1.0  1.0  1.0  1.0  1.0  1.0  1.0  …  1.0  1.0  1.0  1.0  1.0  1.0  1.0\n",
       " 1.0  1.0  1.0  1.0  1.0  1.0  1.0  1.0     1.0  1.0  1.0  1.0  1.0  1.0  1.0\n",
       " 1.0  1.0  1.0  1.0  1.0  1.0  1.0  1.0     1.0  1.0  1.0  1.0  1.0  1.0  1.0\n",
       " 1.0  1.0  1.0  1.0  1.0  1.0  1.0  1.0     1.0  1.0  1.0  1.0  1.0  1.0  1.0\n",
       " 1.0  1.0  1.0  1.0  1.0  1.0  1.0  1.0     1.0  1.0  1.0  1.0  1.0  1.0  1.0\n",
       " 1.0  1.0  1.0  1.0  1.0  1.0  1.0  1.0  …  1.0  1.0  1.0  1.0  1.0  1.0  1.0\n",
       " 1.0  1.0  1.0  1.0  1.0  1.0  1.0  1.0     1.0  1.0  1.0  1.0  1.0  1.0  1.0\n",
       " 1.0  1.0  1.0  1.0  1.0  1.0  1.0  1.0     1.0  1.0  1.0  1.0  1.0  1.0  1.0\n",
       " 1.0  1.0  1.0  1.0  1.0  1.0  1.0  1.0     1.0  1.0  1.0  1.0  1.0  1.0  1.0\n",
       " 1.0  1.0  1.0  1.0  1.0  1.0  1.0  1.0     1.0  1.0  1.0  1.0  1.0  1.0  1.0\n",
       "\n",
       "[:, :, 2] =\n",
       " 2.0  2.0  2.0  2.0  2.0  2.0  2.0  2.0  …  2.0  2.0  2.0  2.0  2.0  2.0  2.0\n",
       " 2.0  2.0  2.0  2.0  2.0  2.0  2.0  2.0     2.0  2.0  2.0  2.0  2.0  2.0  2.0\n",
       " 2.0  2.0  2.0  2.0  2.0  2.0  2.0  2.0     2.0  2.0  2.0  2.0  2.0  2.0  2.0\n",
       " 2.0  2.0  2.0  2.0  2.0  2.0  2.0  2.0     2.0  2.0  2.0  2.0  2.0  2.0  2.0\n",
       " 2.0  2.0  2.0  2.0  2.0  2.0  2.0  2.0     2.0  2.0  2.0  2.0  2.0  2.0  2.0\n",
       " 2.0  2.0  2.0  2.0  2.0  2.0  2.0  2.0  …  2.0  2.0  2.0  2.0  2.0  2.0  2.0\n",
       " 2.0  2.0  2.0  2.0  2.0  2.0  2.0  2.0     2.0  2.0  2.0  2.0  2.0  2.0  2.0\n",
       " 2.0  2.0  2.0  2.0  2.0  2.0  2.0  2.0     2.0  2.0  2.0  2.0  2.0  2.0  2.0\n",
       " 2.0  2.0  2.0  2.0  2.0  2.0  2.0  2.0     2.0  2.0  2.0  2.0  2.0  2.0  2.0\n",
       " 2.0  2.0  2.0  2.0  2.0  2.0  2.0  2.0     2.0  2.0  2.0  2.0  2.0  2.0  2.0\n",
       " 2.0  2.0  2.0  2.0  2.0  2.0  2.0  2.0  …  2.0  2.0  2.0  2.0  2.0  2.0  2.0\n",
       " 2.0  2.0  2.0  2.0  2.0  2.0  2.0  2.0     2.0  2.0  2.0  2.0  2.0  2.0  2.0\n",
       " 2.0  2.0  2.0  2.0  2.0  2.0  2.0  2.0     2.0  2.0  2.0  2.0  2.0  2.0  2.0\n",
       " 2.0  2.0  2.0  2.0  2.0  2.0  2.0  2.0     2.0  2.0  2.0  2.0  2.0  2.0  2.0\n",
       " 2.0  2.0  2.0  2.0  2.0  2.0  2.0  2.0     2.0  2.0  2.0  2.0  2.0  2.0  2.0\n",
       " 2.0  2.0  2.0  2.0  2.0  2.0  2.0  2.0  …  2.0  2.0  2.0  2.0  2.0  2.0  2.0\n",
       " 2.0  2.0  2.0  2.0  2.0  2.0  2.0  2.0     2.0  2.0  2.0  2.0  2.0  2.0  2.0\n",
       " 2.0  2.0  2.0  2.0  2.0  2.0  2.0  2.0     2.0  2.0  2.0  2.0  2.0  2.0  2.0\n",
       " 2.0  2.0  2.0  2.0  2.0  2.0  2.0  2.0     2.0  2.0  2.0  2.0  2.0  2.0  2.0\n",
       " 2.0  2.0  2.0  2.0  2.0  2.0  2.0  2.0     2.0  2.0  2.0  2.0  2.0  2.0  2.0\n",
       "\n",
       "[:, :, 3] =\n",
       " 3.0  3.0  3.0  3.0  3.0  3.0  3.0  3.0  …  3.0  3.0  3.0  3.0  3.0  3.0  3.0\n",
       " 3.0  3.0  3.0  3.0  3.0  3.0  3.0  3.0     3.0  3.0  3.0  3.0  3.0  3.0  3.0\n",
       " 3.0  3.0  3.0  3.0  3.0  3.0  3.0  3.0     3.0  3.0  3.0  3.0  3.0  3.0  3.0\n",
       " 3.0  3.0  3.0  3.0  3.0  3.0  3.0  3.0     3.0  3.0  3.0  3.0  3.0  3.0  3.0\n",
       " 3.0  3.0  3.0  3.0  3.0  3.0  3.0  3.0     3.0  3.0  3.0  3.0  3.0  3.0  3.0\n",
       " 3.0  3.0  3.0  3.0  3.0  3.0  3.0  3.0  …  3.0  3.0  3.0  3.0  3.0  3.0  3.0\n",
       " 3.0  3.0  3.0  3.0  3.0  3.0  3.0  3.0     3.0  3.0  3.0  3.0  3.0  3.0  3.0\n",
       " 3.0  3.0  3.0  3.0  3.0  3.0  3.0  3.0     3.0  3.0  3.0  3.0  3.0  3.0  3.0\n",
       " 3.0  3.0  3.0  3.0  3.0  3.0  3.0  3.0     3.0  3.0  3.0  3.0  3.0  3.0  3.0\n",
       " 3.0  3.0  3.0  3.0  3.0  3.0  3.0  3.0     3.0  3.0  3.0  3.0  3.0  3.0  3.0\n",
       " 3.0  3.0  3.0  3.0  3.0  3.0  3.0  3.0  …  3.0  3.0  3.0  3.0  3.0  3.0  3.0\n",
       " 3.0  3.0  3.0  3.0  3.0  3.0  3.0  3.0     3.0  3.0  3.0  3.0  3.0  3.0  3.0\n",
       " 3.0  3.0  3.0  3.0  3.0  3.0  3.0  3.0     3.0  3.0  3.0  3.0  3.0  3.0  3.0\n",
       " 3.0  3.0  3.0  3.0  3.0  3.0  3.0  3.0     3.0  3.0  3.0  3.0  3.0  3.0  3.0\n",
       " 3.0  3.0  3.0  3.0  3.0  3.0  3.0  3.0     3.0  3.0  3.0  3.0  3.0  3.0  3.0\n",
       " 3.0  3.0  3.0  3.0  3.0  3.0  3.0  3.0  …  3.0  3.0  3.0  3.0  3.0  3.0  3.0\n",
       " 3.0  3.0  3.0  3.0  3.0  3.0  3.0  3.0     3.0  3.0  3.0  3.0  3.0  3.0  3.0\n",
       " 3.0  3.0  3.0  3.0  3.0  3.0  3.0  3.0     3.0  3.0  3.0  3.0  3.0  3.0  3.0\n",
       " 3.0  3.0  3.0  3.0  3.0  3.0  3.0  3.0     3.0  3.0  3.0  3.0  3.0  3.0  3.0\n",
       " 3.0  3.0  3.0  3.0  3.0  3.0  3.0  3.0     3.0  3.0  3.0  3.0  3.0  3.0  3.0"
      ]
     },
     "execution_count": 32,
     "metadata": {},
     "output_type": "execute_result"
    }
   ],
   "source": [
    "tst20by3img = zeros(20,20,3)\n",
    "tst20by3img[:,:,1] .= ones(20,20)\n",
    "tst20by3img[:,:,2] .= fill(2, 20,20)\n",
    "tst20by3img[:,:,3] .= fill(3,20,20)\n",
    "tst20by3img"
   ]
  },
  {
   "cell_type": "code",
   "execution_count": 33,
   "id": "c5edbcd1",
   "metadata": {},
   "outputs": [
    {
     "data": {
      "text/plain": [
       "18×18 Matrix{Float64}:\n",
       " 0.433972   0.727757   0.186255   …  0.9173     0.0737521  0.964377\n",
       " 0.0294257  0.0608047  0.384322      0.362926   0.487544   0.0585121\n",
       " 0.515402   0.366928   0.375159      0.0589943  0.193696   0.967343\n",
       " 0.327537   0.974179   0.0107704     0.0550266  0.871425   0.396937\n",
       " 0.84858    0.56658    0.0779224     0.233871   0.589388   0.814065\n",
       " 0.811784   0.730457   0.455898   …  0.0021287  0.0714399  0.348278\n",
       " 0.139634   0.622982   0.979274      0.860846   0.873954   0.684054\n",
       " 0.978795   0.39101    0.442883      0.488955   0.825551   0.687747\n",
       " 0.51633    0.290917   0.802172      0.216126   0.65301    0.766515\n",
       " 0.195613   0.103164   0.573345      0.981229   0.521362   0.7308\n",
       " 0.609827   0.1672     0.690273   …  0.0263714  0.610881   0.179506\n",
       " 0.170923   0.925889   0.24885       0.29892    0.891393   0.610055\n",
       " 0.102836   0.698026   0.702232      0.495421   0.286726   0.719913\n",
       " 0.073249   0.44365    0.612868      0.654246   0.374134   0.740456\n",
       " 0.285649   0.547978   0.160325      0.388446   0.313499   0.876333\n",
       " 0.278456   0.988108   0.0363154  …  0.43577    0.224815   0.0405259\n",
       " 0.346292   0.33759    0.629995      0.811695   0.790197   0.287086\n",
       " 0.946048   0.341254   0.969798      0.764387   0.994178   0.645061"
      ]
     },
     "execution_count": 33,
     "metadata": {},
     "output_type": "execute_result"
    }
   ],
   "source": [
    "tst18img = rand(18,18)"
   ]
  },
  {
   "cell_type": "code",
   "execution_count": 34,
   "id": "0df2337b",
   "metadata": {},
   "outputs": [
    {
     "data": {
      "text/plain": [
       "5×5 Matrix{Float64}:\n",
       " 0.938453  0.97719     0.751403  0.924256  0.171873\n",
       " 0.4622    0.357874    0.345763  0.943722  0.0194783\n",
       " 0.560886  0.107025    0.494387  0.829282  0.693577\n",
       " 0.458036  0.342218    0.51568   0.358803  0.920442\n",
       " 0.159618  0.00554671  0.154229  0.963905  0.985727"
      ]
     },
     "execution_count": 34,
     "metadata": {},
     "output_type": "execute_result"
    }
   ],
   "source": [
    "randfil = rand(5,5)"
   ]
  },
  {
   "cell_type": "code",
   "execution_count": 35,
   "id": "c40b9f8b",
   "metadata": {},
   "outputs": [
    {
     "data": {
      "text/plain": [
       "2×2 Matrix{Float64}:\n",
       " 0.569496  0.141994\n",
       " 0.616643  0.781731"
      ]
     },
     "execution_count": 35,
     "metadata": {},
     "output_type": "execute_result"
    }
   ],
   "source": [
    "minifil = rand(2,2)"
   ]
  },
  {
   "cell_type": "code",
   "execution_count": 36,
   "id": "decf8414",
   "metadata": {},
   "outputs": [
    {
     "data": {
      "text/plain": [
       "(20, 20, (2, 2, 2, 2))"
      ]
     },
     "execution_count": 36,
     "metadata": {},
     "output_type": "execute_result"
    }
   ],
   "source": [
    "new_img_size(tst20by3img, randfil, padding=:same)"
   ]
  },
  {
   "cell_type": "code",
   "execution_count": 37,
   "id": "0e349132",
   "metadata": {},
   "outputs": [
    {
     "data": {
      "text/plain": [
       "(9, 9, (0, 0, 0, 0))"
      ]
     },
     "execution_count": 37,
     "metadata": {},
     "output_type": "execute_result"
    }
   ],
   "source": [
    "new_img_size(tst18img, minifil, stride=2, padding=:none)"
   ]
  },
  {
   "cell_type": "markdown",
   "id": "25953672",
   "metadata": {},
   "source": [
    "#### Multiple input channels, multiple filters convolutional network with 2 layers"
   ]
  },
  {
   "cell_type": "code",
   "execution_count": 38,
   "id": "9d75515a",
   "metadata": {},
   "outputs": [
    {
     "data": {
      "text/plain": [
       "3×3×5 Array{Float64, 3}:\n",
       "[:, :, 1] =\n",
       " 0.5  0.5  0.5\n",
       " 0.5  0.5  0.5\n",
       " 0.5  0.5  0.5\n",
       "\n",
       "[:, :, 2] =\n",
       " 0.05  0.05  0.05\n",
       " 0.05  0.05  0.05\n",
       " 0.05  0.05  0.05\n",
       "\n",
       "[:, :, 3] =\n",
       " 0.005  0.005  0.005\n",
       " 0.005  0.005  0.005\n",
       " 0.005  0.005  0.005\n",
       "\n",
       "[:, :, 4] =\n",
       " 0.0005  0.0005  0.0005\n",
       " 0.0005  0.0005  0.0005\n",
       " 0.0005  0.0005  0.0005\n",
       "\n",
       "[:, :, 5] =\n",
       " 5.0e-5  5.0e-5  5.0e-5\n",
       " 5.0e-5  5.0e-5  5.0e-5\n",
       " 5.0e-5  5.0e-5  5.0e-5"
      ]
     },
     "execution_count": 38,
     "metadata": {},
     "output_type": "execute_result"
    }
   ],
   "source": [
    "filA3by3by5 = zeros(3,3,5)\n",
    "filA3by3by5[:,:,1] = fill(0.5, 3,3)\n",
    "filA3by3by5[:,:,2] = fill(0.05, 3,3)\n",
    "filA3by3by5[:,:,3] = fill(0.005, 3,3)\n",
    "filA3by3by5[:,:,4] = fill(0.0005, 3,3)\n",
    "filA3by3by5[:,:,5] = fill(0.00005, 3,3)\n",
    "filA3by3by5"
   ]
  },
  {
   "cell_type": "code",
   "execution_count": 39,
   "id": "f69f7fb0",
   "metadata": {},
   "outputs": [
    {
     "data": {
      "text/plain": [
       "5-element Vector{Float64}:\n",
       " 0.2\n",
       " 0.2\n",
       " 0.2\n",
       " 0.2\n",
       " 0.2"
      ]
     },
     "execution_count": 39,
     "metadata": {},
     "output_type": "execute_result"
    }
   ],
   "source": [
    "biasA = fill(0.2, 5)"
   ]
  },
  {
   "cell_type": "code",
   "execution_count": 40,
   "id": "e2ce89ac",
   "metadata": {},
   "outputs": [
    {
     "data": {
      "text/plain": [
       "3×3×5 Array{Float64, 3}:\n",
       "[:, :, 1] =\n",
       " 0.1  0.1  0.1\n",
       " 0.1  0.1  0.1\n",
       " 0.1  0.1  0.1\n",
       "\n",
       "[:, :, 2] =\n",
       " 0.01  0.01  0.01\n",
       " 0.01  0.01  0.01\n",
       " 0.01  0.01  0.01\n",
       "\n",
       "[:, :, 3] =\n",
       " 0.001  0.001  0.001\n",
       " 0.001  0.001  0.001\n",
       " 0.001  0.001  0.001\n",
       "\n",
       "[:, :, 4] =\n",
       " 0.0001  0.0001  0.0001\n",
       " 0.0001  0.0001  0.0001\n",
       " 0.0001  0.0001  0.0001\n",
       "\n",
       "[:, :, 5] =\n",
       " 1.0e-5  1.0e-5  1.0e-5\n",
       " 1.0e-5  1.0e-5  1.0e-5\n",
       " 1.0e-5  1.0e-5  1.0e-5"
      ]
     },
     "execution_count": 40,
     "metadata": {},
     "output_type": "execute_result"
    }
   ],
   "source": [
    "filB3by3by5 = zeros(3,3,5)\n",
    "filB3by3by5[:,:,1] = fill(0.1, 3,3)\n",
    "filB3by3by5[:,:,2] = fill(0.01, 3,3)\n",
    "filB3by3by5[:,:,3] = fill(0.001, 3,3)\n",
    "filB3by3by5[:,:,4] = fill(0.0001, 3,3)\n",
    "filB3by3by5[:,:,5] = fill(0.00001, 3,3)\n",
    "filB3by3by5"
   ]
  },
  {
   "cell_type": "code",
   "execution_count": 41,
   "id": "5e5811a8",
   "metadata": {},
   "outputs": [
    {
     "data": {
      "text/plain": [
       "5-element Vector{Float64}:\n",
       " 0.05\n",
       " 0.05\n",
       " 0.05\n",
       " 0.05\n",
       " 0.05"
      ]
     },
     "execution_count": 41,
     "metadata": {},
     "output_type": "execute_result"
    }
   ],
   "source": [
    "biasB = fill(0.05, 5)"
   ]
  },
  {
   "cell_type": "markdown",
   "id": "9374ac80",
   "metadata": {},
   "source": [
    "##### check dopad with multiple channel image"
   ]
  },
  {
   "cell_type": "code",
   "execution_count": 42,
   "id": "d46da5a9",
   "metadata": {},
   "outputs": [
    {
     "data": {
      "text/plain": [
       "(1, 1, 1, 1)"
      ]
     },
     "execution_count": 42,
     "metadata": {},
     "output_type": "execute_result"
    }
   ],
   "source": [
    "allpads = padding_same(tst20by3img, filA3by3by5)"
   ]
  },
  {
   "cell_type": "code",
   "execution_count": 43,
   "id": "a23ccaf8",
   "metadata": {},
   "outputs": [
    {
     "data": {
      "text/plain": [
       "22×22×3 Array{Float64, 3}:\n",
       "[:, :, 1] =\n",
       " 0.0  0.0  0.0  0.0  0.0  0.0  0.0  0.0  …  0.0  0.0  0.0  0.0  0.0  0.0  0.0\n",
       " 0.0  1.0  1.0  1.0  1.0  1.0  1.0  1.0     1.0  1.0  1.0  1.0  1.0  1.0  0.0\n",
       " 0.0  1.0  1.0  1.0  1.0  1.0  1.0  1.0     1.0  1.0  1.0  1.0  1.0  1.0  0.0\n",
       " 0.0  1.0  1.0  1.0  1.0  1.0  1.0  1.0     1.0  1.0  1.0  1.0  1.0  1.0  0.0\n",
       " 0.0  1.0  1.0  1.0  1.0  1.0  1.0  1.0     1.0  1.0  1.0  1.0  1.0  1.0  0.0\n",
       " 0.0  1.0  1.0  1.0  1.0  1.0  1.0  1.0  …  1.0  1.0  1.0  1.0  1.0  1.0  0.0\n",
       " 0.0  1.0  1.0  1.0  1.0  1.0  1.0  1.0     1.0  1.0  1.0  1.0  1.0  1.0  0.0\n",
       " 0.0  1.0  1.0  1.0  1.0  1.0  1.0  1.0     1.0  1.0  1.0  1.0  1.0  1.0  0.0\n",
       " 0.0  1.0  1.0  1.0  1.0  1.0  1.0  1.0     1.0  1.0  1.0  1.0  1.0  1.0  0.0\n",
       " 0.0  1.0  1.0  1.0  1.0  1.0  1.0  1.0     1.0  1.0  1.0  1.0  1.0  1.0  0.0\n",
       " 0.0  1.0  1.0  1.0  1.0  1.0  1.0  1.0  …  1.0  1.0  1.0  1.0  1.0  1.0  0.0\n",
       " 0.0  1.0  1.0  1.0  1.0  1.0  1.0  1.0     1.0  1.0  1.0  1.0  1.0  1.0  0.0\n",
       " 0.0  1.0  1.0  1.0  1.0  1.0  1.0  1.0     1.0  1.0  1.0  1.0  1.0  1.0  0.0\n",
       " 0.0  1.0  1.0  1.0  1.0  1.0  1.0  1.0     1.0  1.0  1.0  1.0  1.0  1.0  0.0\n",
       " 0.0  1.0  1.0  1.0  1.0  1.0  1.0  1.0     1.0  1.0  1.0  1.0  1.0  1.0  0.0\n",
       " 0.0  1.0  1.0  1.0  1.0  1.0  1.0  1.0  …  1.0  1.0  1.0  1.0  1.0  1.0  0.0\n",
       " 0.0  1.0  1.0  1.0  1.0  1.0  1.0  1.0     1.0  1.0  1.0  1.0  1.0  1.0  0.0\n",
       " 0.0  1.0  1.0  1.0  1.0  1.0  1.0  1.0     1.0  1.0  1.0  1.0  1.0  1.0  0.0\n",
       " 0.0  1.0  1.0  1.0  1.0  1.0  1.0  1.0     1.0  1.0  1.0  1.0  1.0  1.0  0.0\n",
       " 0.0  1.0  1.0  1.0  1.0  1.0  1.0  1.0     1.0  1.0  1.0  1.0  1.0  1.0  0.0\n",
       " 0.0  1.0  1.0  1.0  1.0  1.0  1.0  1.0  …  1.0  1.0  1.0  1.0  1.0  1.0  0.0\n",
       " 0.0  0.0  0.0  0.0  0.0  0.0  0.0  0.0     0.0  0.0  0.0  0.0  0.0  0.0  0.0\n",
       "\n",
       "[:, :, 2] =\n",
       " 0.0  0.0  0.0  0.0  0.0  0.0  0.0  0.0  …  0.0  0.0  0.0  0.0  0.0  0.0  0.0\n",
       " 0.0  2.0  2.0  2.0  2.0  2.0  2.0  2.0     2.0  2.0  2.0  2.0  2.0  2.0  0.0\n",
       " 0.0  2.0  2.0  2.0  2.0  2.0  2.0  2.0     2.0  2.0  2.0  2.0  2.0  2.0  0.0\n",
       " 0.0  2.0  2.0  2.0  2.0  2.0  2.0  2.0     2.0  2.0  2.0  2.0  2.0  2.0  0.0\n",
       " 0.0  2.0  2.0  2.0  2.0  2.0  2.0  2.0     2.0  2.0  2.0  2.0  2.0  2.0  0.0\n",
       " 0.0  2.0  2.0  2.0  2.0  2.0  2.0  2.0  …  2.0  2.0  2.0  2.0  2.0  2.0  0.0\n",
       " 0.0  2.0  2.0  2.0  2.0  2.0  2.0  2.0     2.0  2.0  2.0  2.0  2.0  2.0  0.0\n",
       " 0.0  2.0  2.0  2.0  2.0  2.0  2.0  2.0     2.0  2.0  2.0  2.0  2.0  2.0  0.0\n",
       " 0.0  2.0  2.0  2.0  2.0  2.0  2.0  2.0     2.0  2.0  2.0  2.0  2.0  2.0  0.0\n",
       " 0.0  2.0  2.0  2.0  2.0  2.0  2.0  2.0     2.0  2.0  2.0  2.0  2.0  2.0  0.0\n",
       " 0.0  2.0  2.0  2.0  2.0  2.0  2.0  2.0  …  2.0  2.0  2.0  2.0  2.0  2.0  0.0\n",
       " 0.0  2.0  2.0  2.0  2.0  2.0  2.0  2.0     2.0  2.0  2.0  2.0  2.0  2.0  0.0\n",
       " 0.0  2.0  2.0  2.0  2.0  2.0  2.0  2.0     2.0  2.0  2.0  2.0  2.0  2.0  0.0\n",
       " 0.0  2.0  2.0  2.0  2.0  2.0  2.0  2.0     2.0  2.0  2.0  2.0  2.0  2.0  0.0\n",
       " 0.0  2.0  2.0  2.0  2.0  2.0  2.0  2.0     2.0  2.0  2.0  2.0  2.0  2.0  0.0\n",
       " 0.0  2.0  2.0  2.0  2.0  2.0  2.0  2.0  …  2.0  2.0  2.0  2.0  2.0  2.0  0.0\n",
       " 0.0  2.0  2.0  2.0  2.0  2.0  2.0  2.0     2.0  2.0  2.0  2.0  2.0  2.0  0.0\n",
       " 0.0  2.0  2.0  2.0  2.0  2.0  2.0  2.0     2.0  2.0  2.0  2.0  2.0  2.0  0.0\n",
       " 0.0  2.0  2.0  2.0  2.0  2.0  2.0  2.0     2.0  2.0  2.0  2.0  2.0  2.0  0.0\n",
       " 0.0  2.0  2.0  2.0  2.0  2.0  2.0  2.0     2.0  2.0  2.0  2.0  2.0  2.0  0.0\n",
       " 0.0  2.0  2.0  2.0  2.0  2.0  2.0  2.0  …  2.0  2.0  2.0  2.0  2.0  2.0  0.0\n",
       " 0.0  0.0  0.0  0.0  0.0  0.0  0.0  0.0     0.0  0.0  0.0  0.0  0.0  0.0  0.0\n",
       "\n",
       "[:, :, 3] =\n",
       " 0.0  0.0  0.0  0.0  0.0  0.0  0.0  0.0  …  0.0  0.0  0.0  0.0  0.0  0.0  0.0\n",
       " 0.0  3.0  3.0  3.0  3.0  3.0  3.0  3.0     3.0  3.0  3.0  3.0  3.0  3.0  0.0\n",
       " 0.0  3.0  3.0  3.0  3.0  3.0  3.0  3.0     3.0  3.0  3.0  3.0  3.0  3.0  0.0\n",
       " 0.0  3.0  3.0  3.0  3.0  3.0  3.0  3.0     3.0  3.0  3.0  3.0  3.0  3.0  0.0\n",
       " 0.0  3.0  3.0  3.0  3.0  3.0  3.0  3.0     3.0  3.0  3.0  3.0  3.0  3.0  0.0\n",
       " 0.0  3.0  3.0  3.0  3.0  3.0  3.0  3.0  …  3.0  3.0  3.0  3.0  3.0  3.0  0.0\n",
       " 0.0  3.0  3.0  3.0  3.0  3.0  3.0  3.0     3.0  3.0  3.0  3.0  3.0  3.0  0.0\n",
       " 0.0  3.0  3.0  3.0  3.0  3.0  3.0  3.0     3.0  3.0  3.0  3.0  3.0  3.0  0.0\n",
       " 0.0  3.0  3.0  3.0  3.0  3.0  3.0  3.0     3.0  3.0  3.0  3.0  3.0  3.0  0.0\n",
       " 0.0  3.0  3.0  3.0  3.0  3.0  3.0  3.0     3.0  3.0  3.0  3.0  3.0  3.0  0.0\n",
       " 0.0  3.0  3.0  3.0  3.0  3.0  3.0  3.0  …  3.0  3.0  3.0  3.0  3.0  3.0  0.0\n",
       " 0.0  3.0  3.0  3.0  3.0  3.0  3.0  3.0     3.0  3.0  3.0  3.0  3.0  3.0  0.0\n",
       " 0.0  3.0  3.0  3.0  3.0  3.0  3.0  3.0     3.0  3.0  3.0  3.0  3.0  3.0  0.0\n",
       " 0.0  3.0  3.0  3.0  3.0  3.0  3.0  3.0     3.0  3.0  3.0  3.0  3.0  3.0  0.0\n",
       " 0.0  3.0  3.0  3.0  3.0  3.0  3.0  3.0     3.0  3.0  3.0  3.0  3.0  3.0  0.0\n",
       " 0.0  3.0  3.0  3.0  3.0  3.0  3.0  3.0  …  3.0  3.0  3.0  3.0  3.0  3.0  0.0\n",
       " 0.0  3.0  3.0  3.0  3.0  3.0  3.0  3.0     3.0  3.0  3.0  3.0  3.0  3.0  0.0\n",
       " 0.0  3.0  3.0  3.0  3.0  3.0  3.0  3.0     3.0  3.0  3.0  3.0  3.0  3.0  0.0\n",
       " 0.0  3.0  3.0  3.0  3.0  3.0  3.0  3.0     3.0  3.0  3.0  3.0  3.0  3.0  0.0\n",
       " 0.0  3.0  3.0  3.0  3.0  3.0  3.0  3.0     3.0  3.0  3.0  3.0  3.0  3.0  0.0\n",
       " 0.0  3.0  3.0  3.0  3.0  3.0  3.0  3.0  …  3.0  3.0  3.0  3.0  3.0  3.0  0.0\n",
       " 0.0  0.0  0.0  0.0  0.0  0.0  0.0  0.0     0.0  0.0  0.0  0.0  0.0  0.0  0.0"
      ]
     },
     "execution_count": 43,
     "metadata": {},
     "output_type": "execute_result"
    }
   ],
   "source": [
    "dopad(tst20by3img, allpads)"
   ]
  },
  {
   "cell_type": "code",
   "execution_count": 44,
   "id": "25c59edc",
   "metadata": {},
   "outputs": [
    {
     "name": "stdout",
     "output_type": "stream",
     "text": [
      "stride = 1\n",
      "(typeof(stride), stride) = (Int64, 1)\n",
      "(typeof(stride), stride) = (Int64, 1)\n"
     ]
    },
    {
     "data": {
      "text/plain": [
       "20×20×1 Array{Float64, 3}:\n",
       "[:, :, 1] =\n",
       " 2.66  3.89   3.89   3.89   3.89   3.89   …  3.89   3.89   3.89   3.89   2.66\n",
       " 3.89  5.735  5.735  5.735  5.735  5.735     5.735  5.735  5.735  5.735  3.89\n",
       " 3.89  5.735  5.735  5.735  5.735  5.735     5.735  5.735  5.735  5.735  3.89\n",
       " 3.89  5.735  5.735  5.735  5.735  5.735     5.735  5.735  5.735  5.735  3.89\n",
       " 3.89  5.735  5.735  5.735  5.735  5.735     5.735  5.735  5.735  5.735  3.89\n",
       " 3.89  5.735  5.735  5.735  5.735  5.735  …  5.735  5.735  5.735  5.735  3.89\n",
       " 3.89  5.735  5.735  5.735  5.735  5.735     5.735  5.735  5.735  5.735  3.89\n",
       " 3.89  5.735  5.735  5.735  5.735  5.735     5.735  5.735  5.735  5.735  3.89\n",
       " 3.89  5.735  5.735  5.735  5.735  5.735     5.735  5.735  5.735  5.735  3.89\n",
       " 3.89  5.735  5.735  5.735  5.735  5.735     5.735  5.735  5.735  5.735  3.89\n",
       " 3.89  5.735  5.735  5.735  5.735  5.735  …  5.735  5.735  5.735  5.735  3.89\n",
       " 3.89  5.735  5.735  5.735  5.735  5.735     5.735  5.735  5.735  5.735  3.89\n",
       " 3.89  5.735  5.735  5.735  5.735  5.735     5.735  5.735  5.735  5.735  3.89\n",
       " 3.89  5.735  5.735  5.735  5.735  5.735     5.735  5.735  5.735  5.735  3.89\n",
       " 3.89  5.735  5.735  5.735  5.735  5.735     5.735  5.735  5.735  5.735  3.89\n",
       " 3.89  5.735  5.735  5.735  5.735  5.735  …  5.735  5.735  5.735  5.735  3.89\n",
       " 3.89  5.735  5.735  5.735  5.735  5.735     5.735  5.735  5.735  5.735  3.89\n",
       " 3.89  5.735  5.735  5.735  5.735  5.735     5.735  5.735  5.735  5.735  3.89\n",
       " 3.89  5.735  5.735  5.735  5.735  5.735     5.735  5.735  5.735  5.735  3.89\n",
       " 2.66  3.89   3.89   3.89   3.89   3.89      3.89   3.89   3.89   3.89   2.66"
      ]
     },
     "execution_count": 44,
     "metadata": {},
     "output_type": "execute_result"
    }
   ],
   "source": [
    "conv1out = convolve_multi(tst20by3img, filA3by3by5, biasA)"
   ]
  },
  {
   "cell_type": "code",
   "execution_count": 45,
   "id": "659e6ab5",
   "metadata": {},
   "outputs": [
    {
     "data": {
      "text/plain": [
       "3×3×3 Array{Float64, 3}:\n",
       "[:, :, 1] =\n",
       " 1.0  0.0  -1.0\n",
       " 1.0  0.0  -1.0\n",
       " 1.0  0.0  -1.0\n",
       "\n",
       "[:, :, 2] =\n",
       " 1.0  0.0  -1.0\n",
       " 1.0  0.0  -1.0\n",
       " 1.0  0.0  -1.0\n",
       "\n",
       "[:, :, 3] =\n",
       " 1.0  0.0  -1.0\n",
       " 1.0  0.0  -1.0\n",
       " 1.0  0.0  -1.0"
      ]
     },
     "execution_count": 45,
     "metadata": {},
     "output_type": "execute_result"
    }
   ],
   "source": [
    "v_edge_fil_3_3_3_1 = cat(v_edge_fil, v_edge_fil, v_edge_fil,dims=3)"
   ]
  },
  {
   "cell_type": "code",
   "execution_count": 46,
   "id": "55fd12c1",
   "metadata": {},
   "outputs": [
    {
     "data": {
      "text/plain": [
       "3×3×3×1 Array{Float64, 4}:\n",
       "[:, :, 1, 1] =\n",
       " 1.0  0.0  -1.0\n",
       " 1.0  0.0  -1.0\n",
       " 1.0  0.0  -1.0\n",
       "\n",
       "[:, :, 2, 1] =\n",
       " 1.0  0.0  -1.0\n",
       " 1.0  0.0  -1.0\n",
       " 1.0  0.0  -1.0\n",
       "\n",
       "[:, :, 3, 1] =\n",
       " 1.0  0.0  -1.0\n",
       " 1.0  0.0  -1.0\n",
       " 1.0  0.0  -1.0"
      ]
     },
     "execution_count": 46,
     "metadata": {},
     "output_type": "execute_result"
    }
   ],
   "source": [
    "v_edge_fil_3_3_3_1 = reshape(v_edge_fil_3_3_3_1, (3,3,3,1))"
   ]
  },
  {
   "cell_type": "code",
   "execution_count": 47,
   "id": "4ea4c0fc",
   "metadata": {},
   "outputs": [
    {
     "data": {
      "text/plain": [
       "(6, 6, 3, 1)"
      ]
     },
     "execution_count": 47,
     "metadata": {},
     "output_type": "execute_result"
    }
   ],
   "source": [
    "size(edg_6by6_by3_by1)"
   ]
  },
  {
   "cell_type": "code",
   "execution_count": 48,
   "id": "9f674087",
   "metadata": {},
   "outputs": [
    {
     "ename": "LoadError",
     "evalue": "UndefVarError: `conv_col_out` not defined in `Main`\nSuggestion: check for spelling errors or missing imports.",
     "output_type": "error",
     "traceback": [
      "UndefVarError: `conv_col_out` not defined in `Main`\nSuggestion: check for spelling errors or missing imports.",
      "",
      "Stacktrace:",
      " [1] top-level scope",
      "   @ In[48]:1"
     ]
    }
   ],
   "source": [
    "size(conv_col_out)"
   ]
  },
  {
   "cell_type": "code",
   "execution_count": 49,
   "id": "cdbb5505",
   "metadata": {},
   "outputs": [
    {
     "data": {
      "text/plain": [
       "ConvLayer([1.0 0.0 -1.0; 1.0 0.0 -1.0; 1.0 0.0 -1.0;;; 1.0 0.0 -1.0; 1.0 0.0 -1.0; 1.0 0.0 -1.0;;; 1.0 0.0 -1.0; 1.0 0.0 -1.0; 1.0 0.0 -1.0;;;;], [0.2, 0.2, 0.2], 1, 1)"
      ]
     },
     "execution_count": 49,
     "metadata": {},
     "output_type": "execute_result"
    }
   ],
   "source": [
    "clay = ConvLayer(v_edge_fil_3_3_3_1,fill(0.2,3),1,1)"
   ]
  },
  {
   "cell_type": "code",
   "execution_count": 51,
   "id": "a45ba00e",
   "metadata": {},
   "outputs": [
    {
     "data": {
      "text/plain": [
       "(3, 3, 3, 1)"
      ]
     },
     "metadata": {},
     "output_type": "display_data"
    }
   ],
   "source": [
    "size(clay.weights)"
   ]
  },
  {
   "cell_type": "code",
   "execution_count": 52,
   "id": "b35888ee",
   "metadata": {},
   "outputs": [
    {
     "data": {
      "text/plain": [
       "BenchmarkTools.Trial: 10000 samples with 6 evaluations.\n",
       " Range \u001b[90m(\u001b[39m\u001b[36m\u001b[1mmin\u001b[22m\u001b[39m … \u001b[35mmax\u001b[39m\u001b[90m):  \u001b[39m\u001b[36m\u001b[1m5.431 μs\u001b[22m\u001b[39m … \u001b[35m609.035 μs\u001b[39m  \u001b[90m┊\u001b[39m GC \u001b[90m(\u001b[39mmin … max\u001b[90m): \u001b[39m0.00% … 98.28%\n",
       " Time  \u001b[90m(\u001b[39m\u001b[34m\u001b[1mmedian\u001b[22m\u001b[39m\u001b[90m):     \u001b[39m\u001b[34m\u001b[1m5.889 μs               \u001b[22m\u001b[39m\u001b[90m┊\u001b[39m GC \u001b[90m(\u001b[39mmedian\u001b[90m):    \u001b[39m0.00%\n",
       " Time  \u001b[90m(\u001b[39m\u001b[32m\u001b[1mmean\u001b[22m\u001b[39m ± \u001b[32mσ\u001b[39m\u001b[90m):   \u001b[39m\u001b[32m\u001b[1m6.355 μs\u001b[22m\u001b[39m ± \u001b[32m 10.852 μs\u001b[39m  \u001b[90m┊\u001b[39m GC \u001b[90m(\u001b[39mmean ± σ\u001b[90m):  \u001b[39m5.64% ±  3.61%\n",
       "\n",
       "  \u001b[39m \u001b[39m \u001b[39m \u001b[39m \u001b[39m \u001b[39m \u001b[39m \u001b[39m \u001b[39m█\u001b[34m█\u001b[39m\u001b[39m▄\u001b[39m \u001b[39m \u001b[39m \u001b[39m \u001b[39m \u001b[39m \u001b[39m \u001b[39m \u001b[32m \u001b[39m\u001b[39m \u001b[39m \u001b[39m \u001b[39m \u001b[39m \u001b[39m \u001b[39m \u001b[39m \u001b[39m \u001b[39m \u001b[39m \u001b[39m \u001b[39m \u001b[39m \u001b[39m \u001b[39m \u001b[39m \u001b[39m \u001b[39m \u001b[39m \u001b[39m \u001b[39m \u001b[39m \u001b[39m \u001b[39m \u001b[39m \u001b[39m \u001b[39m \u001b[39m \u001b[39m \u001b[39m \u001b[39m \u001b[39m \u001b[39m \u001b[39m \u001b[39m \u001b[39m \u001b[39m \u001b[39m \u001b[39m \u001b[39m \n",
       "  \u001b[39m▂\u001b[39m█\u001b[39m█\u001b[39m▄\u001b[39m▃\u001b[39m▃\u001b[39m▄\u001b[39m█\u001b[39m█\u001b[34m█\u001b[39m\u001b[39m█\u001b[39m▇\u001b[39m▄\u001b[39m▂\u001b[39m▂\u001b[39m▂\u001b[39m▂\u001b[39m▂\u001b[39m▃\u001b[32m▃\u001b[39m\u001b[39m▂\u001b[39m▂\u001b[39m▂\u001b[39m▂\u001b[39m▁\u001b[39m▁\u001b[39m▁\u001b[39m▁\u001b[39m▁\u001b[39m▁\u001b[39m▁\u001b[39m▁\u001b[39m▁\u001b[39m▁\u001b[39m▁\u001b[39m▁\u001b[39m▁\u001b[39m▁\u001b[39m▁\u001b[39m▁\u001b[39m▁\u001b[39m▁\u001b[39m▁\u001b[39m▁\u001b[39m▁\u001b[39m▁\u001b[39m▁\u001b[39m▁\u001b[39m▁\u001b[39m▁\u001b[39m▁\u001b[39m▁\u001b[39m▁\u001b[39m▁\u001b[39m▁\u001b[39m▁\u001b[39m▁\u001b[39m▁\u001b[39m▁\u001b[39m \u001b[39m▂\n",
       "  5.43 μs\u001b[90m         Histogram: frequency by time\u001b[39m        8.35 μs \u001b[0m\u001b[1m<\u001b[22m\n",
       "\n",
       " Memory estimate\u001b[90m: \u001b[39m\u001b[33m10.91 KiB\u001b[39m, allocs estimate\u001b[90m: \u001b[39m\u001b[33m12\u001b[39m."
      ]
     },
     "metadata": {},
     "output_type": "display_data"
    }
   ],
   "source": [
    "@benchmark forward(clay, edg_6by6_by3_by1)"
   ]
  },
  {
   "cell_type": "code",
   "execution_count": 81,
   "id": "fce76c2f",
   "metadata": {},
   "outputs": [
    {
     "data": {
      "text/plain": [
       "BenchmarkTools.Trial: 10000 samples with 7 evaluations.\n",
       " Range \u001b[90m(\u001b[39m\u001b[36m\u001b[1mmin\u001b[22m\u001b[39m … \u001b[35mmax\u001b[39m\u001b[90m):  \u001b[39m\u001b[36m\u001b[1m4.905 μs\u001b[22m\u001b[39m … \u001b[35m244.351 μs\u001b[39m  \u001b[90m┊\u001b[39m GC \u001b[90m(\u001b[39mmin … max\u001b[90m): \u001b[39m0.00% … 96.85%\n",
       " Time  \u001b[90m(\u001b[39m\u001b[34m\u001b[1mmedian\u001b[22m\u001b[39m\u001b[90m):     \u001b[39m\u001b[34m\u001b[1m5.327 μs               \u001b[22m\u001b[39m\u001b[90m┊\u001b[39m GC \u001b[90m(\u001b[39mmedian\u001b[90m):    \u001b[39m0.00%\n",
       " Time  \u001b[90m(\u001b[39m\u001b[32m\u001b[1mmean\u001b[22m\u001b[39m ± \u001b[32mσ\u001b[39m\u001b[90m):   \u001b[39m\u001b[32m\u001b[1m5.678 μs\u001b[22m\u001b[39m ± \u001b[32m  7.245 μs\u001b[39m  \u001b[90m┊\u001b[39m GC \u001b[90m(\u001b[39mmean ± σ\u001b[90m):  \u001b[39m4.86% ±  3.72%\n",
       "\n",
       "  \u001b[39m \u001b[39m▁\u001b[39m▃\u001b[39m \u001b[39m \u001b[39m \u001b[39m \u001b[39m \u001b[39m█\u001b[34m█\u001b[39m\u001b[39m▄\u001b[39m▂\u001b[39m \u001b[39m \u001b[39m \u001b[39m \u001b[39m \u001b[32m \u001b[39m\u001b[39m \u001b[39m \u001b[39m \u001b[39m \u001b[39m \u001b[39m \u001b[39m \u001b[39m \u001b[39m \u001b[39m \u001b[39m \u001b[39m \u001b[39m \u001b[39m \u001b[39m \u001b[39m \u001b[39m \u001b[39m \u001b[39m \u001b[39m \u001b[39m \u001b[39m \u001b[39m \u001b[39m \u001b[39m \u001b[39m \u001b[39m \u001b[39m \u001b[39m \u001b[39m \u001b[39m \u001b[39m \u001b[39m \u001b[39m \u001b[39m \u001b[39m \u001b[39m \u001b[39m \u001b[39m \u001b[39m \u001b[39m \u001b[39m \u001b[39m \n",
       "  \u001b[39m▂\u001b[39m█\u001b[39m█\u001b[39m▆\u001b[39m▃\u001b[39m▃\u001b[39m▄\u001b[39m█\u001b[39m█\u001b[34m█\u001b[39m\u001b[39m█\u001b[39m█\u001b[39m▆\u001b[39m▄\u001b[39m▃\u001b[39m▂\u001b[39m▂\u001b[32m▂\u001b[39m\u001b[39m▃\u001b[39m▃\u001b[39m▂\u001b[39m▂\u001b[39m▂\u001b[39m▁\u001b[39m▁\u001b[39m▁\u001b[39m▁\u001b[39m▁\u001b[39m▁\u001b[39m▁\u001b[39m▁\u001b[39m▁\u001b[39m▁\u001b[39m▁\u001b[39m▁\u001b[39m▁\u001b[39m▁\u001b[39m▁\u001b[39m▁\u001b[39m▁\u001b[39m▁\u001b[39m▁\u001b[39m▁\u001b[39m▁\u001b[39m▁\u001b[39m▁\u001b[39m▁\u001b[39m▁\u001b[39m▁\u001b[39m▁\u001b[39m▁\u001b[39m▁\u001b[39m▁\u001b[39m▁\u001b[39m▁\u001b[39m▁\u001b[39m▁\u001b[39m▁\u001b[39m▁\u001b[39m \u001b[39m▂\n",
       "  4.9 μs\u001b[90m          Histogram: frequency by time\u001b[39m        7.58 μs \u001b[0m\u001b[1m<\u001b[22m\n",
       "\n",
       " Memory estimate\u001b[90m: \u001b[39m\u001b[33m9.73 KiB\u001b[39m, allocs estimate\u001b[90m: \u001b[39m\u001b[33m8\u001b[39m."
      ]
     },
     "metadata": {},
     "output_type": "display_data"
    }
   ],
   "source": [
    "@benchmark x_col, w_col, bias, out_channels, batch_size, out_height, out_width = prep_forward(clay, edg_6by6_by3_by1)"
   ]
  },
  {
   "cell_type": "code",
   "execution_count": 79,
   "id": "ae5bffed",
   "metadata": {},
   "outputs": [
    {
     "data": {
      "text/plain": [
       "BenchmarkTools.Trial: 10000 samples with 136 evaluations.\n",
       " Range \u001b[90m(\u001b[39m\u001b[36m\u001b[1mmin\u001b[22m\u001b[39m … \u001b[35mmax\u001b[39m\u001b[90m):  \u001b[39m\u001b[36m\u001b[1m721.507 ns\u001b[22m\u001b[39m … \u001b[35m  7.042 μs\u001b[39m  \u001b[90m┊\u001b[39m GC \u001b[90m(\u001b[39mmin … max\u001b[90m): \u001b[39m0.00% … 86.51%\n",
       " Time  \u001b[90m(\u001b[39m\u001b[34m\u001b[1mmedian\u001b[22m\u001b[39m\u001b[90m):     \u001b[39m\u001b[34m\u001b[1m738.051 ns               \u001b[22m\u001b[39m\u001b[90m┊\u001b[39m GC \u001b[90m(\u001b[39mmedian\u001b[90m):    \u001b[39m0.00%\n",
       " Time  \u001b[90m(\u001b[39m\u001b[32m\u001b[1mmean\u001b[22m\u001b[39m ± \u001b[32mσ\u001b[39m\u001b[90m):   \u001b[39m\u001b[32m\u001b[1m773.808 ns\u001b[22m\u001b[39m ± \u001b[32m323.979 ns\u001b[39m  \u001b[90m┊\u001b[39m GC \u001b[90m(\u001b[39mmean ± σ\u001b[90m):  \u001b[39m2.56% ±  5.37%\n",
       "\n",
       "  \u001b[39m▁\u001b[39m▆\u001b[39m█\u001b[39m█\u001b[34m▇\u001b[39m\u001b[39m▆\u001b[39m▅\u001b[39m▃\u001b[39m▃\u001b[39m▄\u001b[39m▃\u001b[39m▃\u001b[39m▂\u001b[32m▂\u001b[39m\u001b[39m▂\u001b[39m▂\u001b[39m▁\u001b[39m▁\u001b[39m▁\u001b[39m▁\u001b[39m▁\u001b[39m▁\u001b[39m \u001b[39m▁\u001b[39m \u001b[39m \u001b[39m \u001b[39m \u001b[39m \u001b[39m \u001b[39m \u001b[39m \u001b[39m \u001b[39m \u001b[39m \u001b[39m \u001b[39m \u001b[39m \u001b[39m \u001b[39m \u001b[39m \u001b[39m \u001b[39m \u001b[39m \u001b[39m \u001b[39m \u001b[39m \u001b[39m \u001b[39m \u001b[39m \u001b[39m \u001b[39m \u001b[39m \u001b[39m \u001b[39m \u001b[39m \u001b[39m \u001b[39m \u001b[39m \u001b[39m \u001b[39m \u001b[39m \u001b[39m▂\n",
       "  \u001b[39m█\u001b[39m█\u001b[39m█\u001b[39m█\u001b[34m█\u001b[39m\u001b[39m█\u001b[39m█\u001b[39m█\u001b[39m█\u001b[39m█\u001b[39m█\u001b[39m█\u001b[39m█\u001b[32m█\u001b[39m\u001b[39m█\u001b[39m█\u001b[39m█\u001b[39m█\u001b[39m█\u001b[39m█\u001b[39m█\u001b[39m█\u001b[39m█\u001b[39m█\u001b[39m█\u001b[39m█\u001b[39m█\u001b[39m█\u001b[39m█\u001b[39m▇\u001b[39m█\u001b[39m▇\u001b[39m█\u001b[39m▇\u001b[39m▇\u001b[39m█\u001b[39m▇\u001b[39m█\u001b[39m▆\u001b[39m▆\u001b[39m▇\u001b[39m▇\u001b[39m▇\u001b[39m▆\u001b[39m▆\u001b[39m▇\u001b[39m▇\u001b[39m▇\u001b[39m▇\u001b[39m▇\u001b[39m▆\u001b[39m▆\u001b[39m▅\u001b[39m▆\u001b[39m▄\u001b[39m▆\u001b[39m▅\u001b[39m▅\u001b[39m▅\u001b[39m▅\u001b[39m▅\u001b[39m \u001b[39m█\n",
       "  722 ns\u001b[90m        \u001b[39m\u001b[90mHistogram: \u001b[39m\u001b[90m\u001b[1mlog(\u001b[22m\u001b[39m\u001b[90mfrequency\u001b[39m\u001b[90m\u001b[1m)\u001b[22m\u001b[39m\u001b[90m by time\u001b[39m        964 ns \u001b[0m\u001b[1m<\u001b[22m\n",
       "\n",
       " Memory estimate\u001b[90m: \u001b[39m\u001b[33m1.34 KiB\u001b[39m, allocs estimate\u001b[90m: \u001b[39m\u001b[33m9\u001b[39m."
      ]
     },
     "metadata": {},
     "output_type": "display_data"
    }
   ],
   "source": [
    "@benchmark forward(x_col, w_col, bias, out_channels, batch_size, out_height, out_width)"
   ]
  },
  {
   "cell_type": "code",
   "execution_count": 78,
   "id": "bb76b575",
   "metadata": {},
   "outputs": [
    {
     "data": {
      "text/plain": [
       "6×6×1×1 Array{Float64, 4}:\n",
       "[:, :, 1, 1] =\n",
       " -59.8  0.2  60.2  60.2  0.2  0.2\n",
       " -89.8  0.2  90.2  90.2  0.2  0.2\n",
       " -89.8  0.2  90.2  90.2  0.2  0.2\n",
       " -89.8  0.2  90.2  90.2  0.2  0.2\n",
       " -89.8  0.2  90.2  90.2  0.2  0.2\n",
       " -59.8  0.2  60.2  60.2  0.2  0.2"
      ]
     },
     "metadata": {},
     "output_type": "display_data"
    }
   ],
   "source": [
    "img_out1 = forward(x_col, w_col, bias, out_channels, batch_size, out_height, out_width)"
   ]
  },
  {
   "cell_type": "code",
   "execution_count": 55,
   "id": "3d75eb4d",
   "metadata": {},
   "outputs": [
    {
     "data": {
      "text/plain": [
       "6×6×1×1 Array{Float64, 4}:\n",
       "[:, :, 1, 1] =\n",
       " -59.8  0.2  60.2  60.2  0.2  0.2\n",
       " -89.8  0.2  90.2  90.2  0.2  0.2\n",
       " -89.8  0.2  90.2  90.2  0.2  0.2\n",
       " -89.8  0.2  90.2  90.2  0.2  0.2\n",
       " -89.8  0.2  90.2  90.2  0.2  0.2\n",
       " -59.8  0.2  60.2  60.2  0.2  0.2"
      ]
     },
     "metadata": {},
     "output_type": "display_data"
    }
   ],
   "source": [
    "img_out1 = forward(clay, edg_6by6_by3_by1)"
   ]
  },
  {
   "cell_type": "code",
   "execution_count": 56,
   "id": "ab32116d",
   "metadata": {},
   "outputs": [
    {
     "data": {
      "text/plain": [
       "(6, 6, 1, 1)"
      ]
     },
     "metadata": {},
     "output_type": "display_data"
    }
   ],
   "source": [
    "size(img_out1)"
   ]
  },
  {
   "cell_type": "code",
   "execution_count": 57,
   "id": "b54f6596",
   "metadata": {},
   "outputs": [
    {
     "name": "stdout",
     "output_type": "stream",
     "text": [
      "(size(x), size(x_col), size(w_col)) = ((6, 6), (27, 36), (27,))\n"
     ]
    },
    {
     "data": {
      "text/plain": [
       "((6, 6), (27, 36), (27,))"
      ]
     },
     "metadata": {},
     "output_type": "display_data"
    }
   ],
   "source": [
    "@show size(x), size(x_col), size(w_col)"
   ]
  },
  {
   "cell_type": "code",
   "execution_count": 58,
   "id": "92d43094",
   "metadata": {},
   "outputs": [
    {
     "ename": "BoundsError",
     "evalue": "BoundsError: attempt to access Tuple{Int64, Int64} at index [3]",
     "output_type": "error",
     "traceback": [
      "BoundsError: attempt to access Tuple{Int64, Int64} at index [3]\n",
      "\n",
      "Stacktrace:\n",
      " [1] indexed_iterate\n",
      "   @ ./tuple.jl:92 [inlined]\n",
      " [2] col2im(col::Matrix{Float64}, x_shape::Tuple{Int64, Int64}, kernel_size::Int64, stride::Int64, pad::Int64)\n",
      "   @ Main ~/Code/nn by hand/src/colconv.jl:67\n",
      " [3] top-level scope\n",
      "   @ ~/Code/nn by hand/notebooks/jl_notebook_cell_df34fa98e69747e1a8f8a730347b8e2f_Y112sZmlsZQ==.jl:1"
     ]
    }
   ],
   "source": [
    "img_out1 = col2im(x[:,:,1,1], size(x), 3, 1, 0)"
   ]
  },
  {
   "cell_type": "code",
   "execution_count": 59,
   "id": "dc89942e",
   "metadata": {},
   "outputs": [
    {
     "data": {
      "text/plain": [
       "20×20×1 Array{Float64, 3}:\n",
       "[:, :, 1] =\n",
       " 2.66  3.89   3.89   3.89   3.89   3.89   …  3.89   3.89   3.89   3.89   2.66\n",
       " 3.89  5.735  5.735  5.735  5.735  5.735     5.735  5.735  5.735  5.735  3.89\n",
       " 3.89  5.735  5.735  5.735  5.735  5.735     5.735  5.735  5.735  5.735  3.89\n",
       " 3.89  5.735  5.735  5.735  5.735  5.735     5.735  5.735  5.735  5.735  3.89\n",
       " 3.89  5.735  5.735  5.735  5.735  5.735     5.735  5.735  5.735  5.735  3.89\n",
       " 3.89  5.735  5.735  5.735  5.735  5.735  …  5.735  5.735  5.735  5.735  3.89\n",
       " 3.89  5.735  5.735  5.735  5.735  5.735     5.735  5.735  5.735  5.735  3.89\n",
       " 3.89  5.735  5.735  5.735  5.735  5.735     5.735  5.735  5.735  5.735  3.89\n",
       " 3.89  5.735  5.735  5.735  5.735  5.735     5.735  5.735  5.735  5.735  3.89\n",
       " 3.89  5.735  5.735  5.735  5.735  5.735     5.735  5.735  5.735  5.735  3.89\n",
       " 3.89  5.735  5.735  5.735  5.735  5.735  …  5.735  5.735  5.735  5.735  3.89\n",
       " 3.89  5.735  5.735  5.735  5.735  5.735     5.735  5.735  5.735  5.735  3.89\n",
       " 3.89  5.735  5.735  5.735  5.735  5.735     5.735  5.735  5.735  5.735  3.89\n",
       " 3.89  5.735  5.735  5.735  5.735  5.735     5.735  5.735  5.735  5.735  3.89\n",
       " 3.89  5.735  5.735  5.735  5.735  5.735     5.735  5.735  5.735  5.735  3.89\n",
       " 3.89  5.735  5.735  5.735  5.735  5.735  …  5.735  5.735  5.735  5.735  3.89\n",
       " 3.89  5.735  5.735  5.735  5.735  5.735     5.735  5.735  5.735  5.735  3.89\n",
       " 3.89  5.735  5.735  5.735  5.735  5.735     5.735  5.735  5.735  5.735  3.89\n",
       " 3.89  5.735  5.735  5.735  5.735  5.735     5.735  5.735  5.735  5.735  3.89\n",
       " 2.66  3.89   3.89   3.89   3.89   3.89      3.89   3.89   3.89   3.89   2.66"
      ]
     },
     "metadata": {},
     "output_type": "display_data"
    }
   ],
   "source": [
    "activ1 = similar(conv1out)\n",
    "GeneralNN.relu!(activ1, conv1out)"
   ]
  },
  {
   "cell_type": "code",
   "execution_count": 60,
   "id": "4eb1fc28",
   "metadata": {},
   "outputs": [
    {
     "data": {
      "text/plain": [
       "18×18×1 Array{Float64, 3}:\n",
       "[:, :, 1] =\n",
       " 4.166  4.658   4.658   4.658   4.658   …  4.658   4.658   4.658   4.166\n",
       " 4.658  5.2115  5.2115  5.2115  5.2115     5.2115  5.2115  5.2115  4.658\n",
       " 4.658  5.2115  5.2115  5.2115  5.2115     5.2115  5.2115  5.2115  4.658\n",
       " 4.658  5.2115  5.2115  5.2115  5.2115     5.2115  5.2115  5.2115  4.658\n",
       " 4.658  5.2115  5.2115  5.2115  5.2115     5.2115  5.2115  5.2115  4.658\n",
       " 4.658  5.2115  5.2115  5.2115  5.2115  …  5.2115  5.2115  5.2115  4.658\n",
       " 4.658  5.2115  5.2115  5.2115  5.2115     5.2115  5.2115  5.2115  4.658\n",
       " 4.658  5.2115  5.2115  5.2115  5.2115     5.2115  5.2115  5.2115  4.658\n",
       " 4.658  5.2115  5.2115  5.2115  5.2115     5.2115  5.2115  5.2115  4.658\n",
       " 4.658  5.2115  5.2115  5.2115  5.2115     5.2115  5.2115  5.2115  4.658\n",
       " 4.658  5.2115  5.2115  5.2115  5.2115  …  5.2115  5.2115  5.2115  4.658\n",
       " 4.658  5.2115  5.2115  5.2115  5.2115     5.2115  5.2115  5.2115  4.658\n",
       " 4.658  5.2115  5.2115  5.2115  5.2115     5.2115  5.2115  5.2115  4.658\n",
       " 4.658  5.2115  5.2115  5.2115  5.2115     5.2115  5.2115  5.2115  4.658\n",
       " 4.658  5.2115  5.2115  5.2115  5.2115     5.2115  5.2115  5.2115  4.658\n",
       " 4.658  5.2115  5.2115  5.2115  5.2115  …  5.2115  5.2115  5.2115  4.658\n",
       " 4.658  5.2115  5.2115  5.2115  5.2115     5.2115  5.2115  5.2115  4.658\n",
       " 4.166  4.658   4.658   4.658   4.658      4.658   4.658   4.658   4.166"
      ]
     },
     "metadata": {},
     "output_type": "display_data"
    }
   ],
   "source": [
    "conv2out = convolve_multi(activ1, filB3by3by5, biasB, padding=:none)"
   ]
  },
  {
   "cell_type": "code",
   "execution_count": 61,
   "id": "2dddf55e",
   "metadata": {},
   "outputs": [
    {
     "data": {
      "text/plain": [
       "18×18×1 Array{Float64, 3}:\n",
       "[:, :, 1] =\n",
       " 4.166  4.658   4.658   4.658   4.658   …  4.658   4.658   4.658   4.166\n",
       " 4.658  5.2115  5.2115  5.2115  5.2115     5.2115  5.2115  5.2115  4.658\n",
       " 4.658  5.2115  5.2115  5.2115  5.2115     5.2115  5.2115  5.2115  4.658\n",
       " 4.658  5.2115  5.2115  5.2115  5.2115     5.2115  5.2115  5.2115  4.658\n",
       " 4.658  5.2115  5.2115  5.2115  5.2115     5.2115  5.2115  5.2115  4.658\n",
       " 4.658  5.2115  5.2115  5.2115  5.2115  …  5.2115  5.2115  5.2115  4.658\n",
       " 4.658  5.2115  5.2115  5.2115  5.2115     5.2115  5.2115  5.2115  4.658\n",
       " 4.658  5.2115  5.2115  5.2115  5.2115     5.2115  5.2115  5.2115  4.658\n",
       " 4.658  5.2115  5.2115  5.2115  5.2115     5.2115  5.2115  5.2115  4.658\n",
       " 4.658  5.2115  5.2115  5.2115  5.2115     5.2115  5.2115  5.2115  4.658\n",
       " 4.658  5.2115  5.2115  5.2115  5.2115  …  5.2115  5.2115  5.2115  4.658\n",
       " 4.658  5.2115  5.2115  5.2115  5.2115     5.2115  5.2115  5.2115  4.658\n",
       " 4.658  5.2115  5.2115  5.2115  5.2115     5.2115  5.2115  5.2115  4.658\n",
       " 4.658  5.2115  5.2115  5.2115  5.2115     5.2115  5.2115  5.2115  4.658\n",
       " 4.658  5.2115  5.2115  5.2115  5.2115     5.2115  5.2115  5.2115  4.658\n",
       " 4.658  5.2115  5.2115  5.2115  5.2115  …  5.2115  5.2115  5.2115  4.658\n",
       " 4.658  5.2115  5.2115  5.2115  5.2115     5.2115  5.2115  5.2115  4.658\n",
       " 4.166  4.658   4.658   4.658   4.658      4.658   4.658   4.658   4.166"
      ]
     },
     "metadata": {},
     "output_type": "display_data"
    }
   ],
   "source": [
    "activ2 = similar(conv2out)\n",
    "GeneralNN.relu!(activ2, conv2out)"
   ]
  },
  {
   "cell_type": "code",
   "execution_count": 62,
   "id": "f7b30e00",
   "metadata": {},
   "outputs": [
    {
     "data": {
      "text/plain": [
       "9×9×1 Array{CartesianIndex{2}, 3}:\n",
       "[:, :, 1] =\n",
       " CartesianIndex(2, 2)  CartesianIndex(2, 1)  …  CartesianIndex(2, 1)\n",
       " CartesianIndex(1, 2)  CartesianIndex(1, 1)     CartesianIndex(1, 1)\n",
       " CartesianIndex(1, 2)  CartesianIndex(1, 1)     CartesianIndex(1, 1)\n",
       " CartesianIndex(1, 2)  CartesianIndex(1, 1)     CartesianIndex(1, 1)\n",
       " CartesianIndex(1, 2)  CartesianIndex(1, 1)     CartesianIndex(1, 1)\n",
       " CartesianIndex(1, 2)  CartesianIndex(1, 1)  …  CartesianIndex(1, 1)\n",
       " CartesianIndex(1, 2)  CartesianIndex(1, 1)     CartesianIndex(1, 1)\n",
       " CartesianIndex(1, 2)  CartesianIndex(1, 1)     CartesianIndex(1, 1)\n",
       " CartesianIndex(1, 2)  CartesianIndex(1, 1)     CartesianIndex(1, 1)"
      ]
     },
     "metadata": {},
     "output_type": "display_data"
    }
   ],
   "source": [
    "locs = pooling(activ2)[2]"
   ]
  },
  {
   "cell_type": "code",
   "execution_count": 63,
   "id": "696278a5",
   "metadata": {},
   "outputs": [
    {
     "data": {
      "text/plain": [
       "9×9×5 Array{Float64, 3}:\n",
       "[:, :, 1] =\n",
       " 5.2115  5.2115  5.2115  5.2115  5.2115  5.2115  5.2115  5.2115  5.2115\n",
       " 5.2115  5.2115  5.2115  5.2115  5.2115  5.2115  5.2115  5.2115  5.2115\n",
       " 5.2115  5.2115  5.2115  5.2115  5.2115  5.2115  5.2115  5.2115  5.2115\n",
       " 5.2115  5.2115  5.2115  5.2115  5.2115  5.2115  5.2115  5.2115  5.2115\n",
       " 5.2115  5.2115  5.2115  5.2115  5.2115  5.2115  5.2115  5.2115  5.2115\n",
       " 5.2115  5.2115  5.2115  5.2115  5.2115  5.2115  5.2115  5.2115  5.2115\n",
       " 5.2115  5.2115  5.2115  5.2115  5.2115  5.2115  5.2115  5.2115  5.2115\n",
       " 5.2115  5.2115  5.2115  5.2115  5.2115  5.2115  5.2115  5.2115  5.2115\n",
       " 5.2115  5.2115  5.2115  5.2115  5.2115  5.2115  5.2115  5.2115  5.2115\n",
       "\n",
       "[:, :, 2] =\n",
       " 5.2115  5.2115  5.2115  5.2115  5.2115  5.2115  5.2115  5.2115  5.2115\n",
       " 5.2115  5.2115  5.2115  5.2115  5.2115  5.2115  5.2115  5.2115  5.2115\n",
       " 5.2115  5.2115  5.2115  5.2115  5.2115  5.2115  5.2115  5.2115  5.2115\n",
       " 5.2115  5.2115  5.2115  5.2115  5.2115  5.2115  5.2115  5.2115  5.2115\n",
       " 5.2115  5.2115  5.2115  5.2115  5.2115  5.2115  5.2115  5.2115  5.2115\n",
       " 5.2115  5.2115  5.2115  5.2115  5.2115  5.2115  5.2115  5.2115  5.2115\n",
       " 5.2115  5.2115  5.2115  5.2115  5.2115  5.2115  5.2115  5.2115  5.2115\n",
       " 5.2115  5.2115  5.2115  5.2115  5.2115  5.2115  5.2115  5.2115  5.2115\n",
       " 5.2115  5.2115  5.2115  5.2115  5.2115  5.2115  5.2115  5.2115  5.2115\n",
       "\n",
       "[:, :, 3] =\n",
       " 5.2115  5.2115  5.2115  5.2115  5.2115  5.2115  5.2115  5.2115  5.2115\n",
       " 5.2115  5.2115  5.2115  5.2115  5.2115  5.2115  5.2115  5.2115  5.2115\n",
       " 5.2115  5.2115  5.2115  5.2115  5.2115  5.2115  5.2115  5.2115  5.2115\n",
       " 5.2115  5.2115  5.2115  5.2115  5.2115  5.2115  5.2115  5.2115  5.2115\n",
       " 5.2115  5.2115  5.2115  5.2115  5.2115  5.2115  5.2115  5.2115  5.2115\n",
       " 5.2115  5.2115  5.2115  5.2115  5.2115  5.2115  5.2115  5.2115  5.2115\n",
       " 5.2115  5.2115  5.2115  5.2115  5.2115  5.2115  5.2115  5.2115  5.2115\n",
       " 5.2115  5.2115  5.2115  5.2115  5.2115  5.2115  5.2115  5.2115  5.2115\n",
       " 5.2115  5.2115  5.2115  5.2115  5.2115  5.2115  5.2115  5.2115  5.2115\n",
       "\n",
       "[:, :, 4] =\n",
       " 5.2115  5.2115  5.2115  5.2115  5.2115  5.2115  5.2115  5.2115  5.2115\n",
       " 5.2115  5.2115  5.2115  5.2115  5.2115  5.2115  5.2115  5.2115  5.2115\n",
       " 5.2115  5.2115  5.2115  5.2115  5.2115  5.2115  5.2115  5.2115  5.2115\n",
       " 5.2115  5.2115  5.2115  5.2115  5.2115  5.2115  5.2115  5.2115  5.2115\n",
       " 5.2115  5.2115  5.2115  5.2115  5.2115  5.2115  5.2115  5.2115  5.2115\n",
       " 5.2115  5.2115  5.2115  5.2115  5.2115  5.2115  5.2115  5.2115  5.2115\n",
       " 5.2115  5.2115  5.2115  5.2115  5.2115  5.2115  5.2115  5.2115  5.2115\n",
       " 5.2115  5.2115  5.2115  5.2115  5.2115  5.2115  5.2115  5.2115  5.2115\n",
       " 5.2115  5.2115  5.2115  5.2115  5.2115  5.2115  5.2115  5.2115  5.2115\n",
       "\n",
       "[:, :, 5] =\n",
       " 5.2115  5.2115  5.2115  5.2115  5.2115  5.2115  5.2115  5.2115  5.2115\n",
       " 5.2115  5.2115  5.2115  5.2115  5.2115  5.2115  5.2115  5.2115  5.2115\n",
       " 5.2115  5.2115  5.2115  5.2115  5.2115  5.2115  5.2115  5.2115  5.2115\n",
       " 5.2115  5.2115  5.2115  5.2115  5.2115  5.2115  5.2115  5.2115  5.2115\n",
       " 5.2115  5.2115  5.2115  5.2115  5.2115  5.2115  5.2115  5.2115  5.2115\n",
       " 5.2115  5.2115  5.2115  5.2115  5.2115  5.2115  5.2115  5.2115  5.2115\n",
       " 5.2115  5.2115  5.2115  5.2115  5.2115  5.2115  5.2115  5.2115  5.2115\n",
       " 5.2115  5.2115  5.2115  5.2115  5.2115  5.2115  5.2115  5.2115  5.2115\n",
       " 5.2115  5.2115  5.2115  5.2115  5.2115  5.2115  5.2115  5.2115  5.2115"
      ]
     },
     "metadata": {},
     "output_type": "display_data"
    }
   ],
   "source": [
    "#pre-allocate pooling output\n",
    "activ3 = zeros(9,9,5)\n",
    "activ3 .= pooling(activ2)[1]"
   ]
  },
  {
   "cell_type": "code",
   "execution_count": 64,
   "id": "7e813eee",
   "metadata": {},
   "outputs": [
    {
     "data": {
      "text/plain": [
       "(18, 18, 1)"
      ]
     },
     "metadata": {},
     "output_type": "display_data"
    }
   ],
   "source": [
    "size(activ2)"
   ]
  },
  {
   "cell_type": "code",
   "execution_count": 65,
   "id": "9f591877",
   "metadata": {},
   "outputs": [
    {
     "data": {
      "text/plain": [
       "405-element Vector{Float64}:\n",
       " 5.211499999999994\n",
       " 5.211499999999994\n",
       " 5.211499999999994\n",
       " 5.211499999999994\n",
       " 5.211499999999994\n",
       " 5.211499999999994\n",
       " 5.211499999999994\n",
       " 5.211499999999994\n",
       " 5.211499999999994\n",
       " 5.211499999999994\n",
       " ⋮\n",
       " 5.211499999999994\n",
       " 5.211499999999994\n",
       " 5.211499999999994\n",
       " 5.211499999999994\n",
       " 5.211499999999994\n",
       " 5.211499999999994\n",
       " 5.211499999999994\n",
       " 5.211499999999994\n",
       " 5.211499999999994"
      ]
     },
     "metadata": {},
     "output_type": "display_data"
    }
   ],
   "source": [
    "activ4 = flatten_img(activ3)"
   ]
  },
  {
   "cell_type": "code",
   "execution_count": 66,
   "id": "0c315182",
   "metadata": {},
   "outputs": [
    {
     "data": {
      "text/plain": [
       "(405,)"
      ]
     },
     "metadata": {},
     "output_type": "display_data"
    }
   ],
   "source": [
    "size(activ4)"
   ]
  },
  {
   "cell_type": "code",
   "execution_count": 67,
   "id": "c1b236fd",
   "metadata": {},
   "outputs": [
    {
     "data": {
      "text/plain": [
       "200×405 Matrix{Float64}:\n",
       " 0.264564   0.499394   0.211401   …  0.0946707  0.546875   0.2166\n",
       " 0.360096   0.0500937  0.296936      0.41763    0.256018   0.574353\n",
       " 0.657589   0.696926   0.413935      0.189194   0.668487   0.913756\n",
       " 0.300441   0.016078   0.786409      0.258176   0.010706   0.757573\n",
       " 0.878701   0.584112   0.325999      0.478353   0.504818   0.819486\n",
       " 0.15461    0.892764   0.69506    …  0.700775   0.977408   0.856586\n",
       " 0.892249   0.863775   0.942808      0.244984   0.0878049  0.247658\n",
       " 0.516092   0.59022    0.506339      0.645829   0.108018   0.742264\n",
       " 0.0928593  0.186991   0.907803      0.835136   0.451242   0.0312118\n",
       " 0.85635    0.0953636  0.28143       0.49357    0.190795   0.903564\n",
       " ⋮                                ⋱                        \n",
       " 0.105336   0.484056   0.316923      0.0550359  0.899936   0.00273768\n",
       " 0.0917554  0.352044   0.759464      0.322118   0.257106   0.260723\n",
       " 0.087632   0.605426   0.813543      0.101973   0.905544   0.912367\n",
       " 0.127454   0.922015   0.848404      0.738485   0.252843   0.451371\n",
       " 0.994579   0.204138   0.517016   …  0.0128362  0.140383   0.571447\n",
       " 0.155824   0.265065   0.847735      0.116725   0.702023   0.149838\n",
       " 0.348579   0.887648   0.324185      0.102634   0.592149   0.533941\n",
       " 0.820744   0.12187    0.658693      0.633689   0.0888901  0.674123\n",
       " 0.680386   0.677762   0.0529023     0.0951934  0.960199   0.79148"
      ]
     },
     "metadata": {},
     "output_type": "display_data"
    }
   ],
   "source": [
    "wgts5 = rand(200,405)"
   ]
  },
  {
   "cell_type": "code",
   "execution_count": 68,
   "id": "ea95c223",
   "metadata": {},
   "outputs": [
    {
     "data": {
      "text/plain": [
       "200-element Vector{Float64}:\n",
       " 1052.0862910604676\n",
       " 1011.4833408063458\n",
       " 1084.1459900668553\n",
       " 1024.6354670783398\n",
       " 1086.4241780945267\n",
       " 1038.9459102673502\n",
       " 1086.9737726409119\n",
       " 1103.462243652272\n",
       " 1033.7556972776943\n",
       " 1035.4419154719337\n",
       "    ⋮\n",
       " 1004.0477709528905\n",
       " 1005.0129106627301\n",
       " 1066.7827702306922\n",
       " 1070.5783707606274\n",
       " 1028.2981851651552\n",
       " 1027.8845170687612\n",
       " 1094.8063374963904\n",
       " 1122.4398702980513\n",
       " 1061.9825218070864"
      ]
     },
     "metadata": {},
     "output_type": "display_data"
    }
   ],
   "source": [
    "activ5 = wgts5 * activ4\n",
    "activ5 = GeneralNN.relu!(activ5, activ5)"
   ]
  },
  {
   "cell_type": "code",
   "execution_count": 69,
   "id": "8f905e45",
   "metadata": {},
   "outputs": [
    {
     "data": {
      "text/plain": [
       "10×200 Matrix{Float64}:\n",
       " 0.331552    0.572976  0.29725    0.418165   …  0.890169  0.447527  0.682387\n",
       " 0.467751    0.738658  0.829962   0.449043      0.285527  0.741934  0.783015\n",
       " 0.64425     0.801554  0.574983   0.790337      0.623312  0.737375  0.248729\n",
       " 0.220639    0.711659  0.0266313  0.481491      0.930344  0.460203  0.539892\n",
       " 0.383283    0.757457  0.0145169  0.132569      0.368832  0.951775  0.910547\n",
       " 0.00137198  0.680266  0.584261   0.683982   …  0.255577  0.734059  0.0386203\n",
       " 0.0351276   0.306318  0.301701   0.488961      0.282703  0.366925  0.861215\n",
       " 0.504309    0.307854  0.109326   0.139228      0.158891  0.807588  0.410015\n",
       " 0.357587    0.939992  0.808697   0.0419406     0.629862  0.888908  0.565451\n",
       " 0.950075    0.457012  0.487158   0.378779      0.968253  0.343991  0.22486"
      ]
     },
     "metadata": {},
     "output_type": "display_data"
    }
   ],
   "source": [
    "wgts6 = rand(10,200)"
   ]
  },
  {
   "cell_type": "code",
   "execution_count": 70,
   "id": "bce4f424",
   "metadata": {},
   "outputs": [
    {
     "data": {
      "text/plain": [
       "10×1 Matrix{Float64}:\n",
       " 111535.77016238925\n",
       " 100882.71476227857\n",
       " 103032.71764570678\n",
       " 106515.37446925184\n",
       " 106819.78752560157\n",
       " 105215.48529494154\n",
       " 109978.42234141764\n",
       " 102931.17993604731\n",
       " 103339.42582091196\n",
       " 107316.85051862412"
      ]
     },
     "metadata": {},
     "output_type": "display_data"
    }
   ],
   "source": [
    "z6 = wgts6 * activ5\n",
    "z6 = reshape(z6,10,1)"
   ]
  },
  {
   "cell_type": "code",
   "execution_count": 71,
   "id": "a90fdb52",
   "metadata": {},
   "outputs": [
    {
     "data": {
      "text/plain": [
       "10×1 Matrix{Float64}:\n",
       " 0.5018134128482533\n",
       " 0.7253681205311583\n",
       " 0.35307149809256655\n",
       " 0.20716418192349328\n",
       " 0.07554750538846955\n",
       " 0.06488128197503651\n",
       " 0.22672128906122768\n",
       " 0.15235918604372478\n",
       " 0.693324586986274\n",
       " 0.7588588803494144"
      ]
     },
     "metadata": {},
     "output_type": "display_data"
    }
   ],
   "source": [
    "preds = rand(10,1)"
   ]
  },
  {
   "cell_type": "code",
   "execution_count": 72,
   "id": "9bc236c1",
   "metadata": {},
   "outputs": [
    {
     "data": {
      "text/plain": [
       "10×1 Matrix{Float64}:\n",
       " 0.1\n",
       " 0.1\n",
       " 0.1\n",
       " 0.1\n",
       " 0.1\n",
       " 0.1\n",
       " 0.1\n",
       " 0.1\n",
       " 0.1\n",
       " 0.1"
      ]
     },
     "metadata": {},
     "output_type": "display_data"
    }
   ],
   "source": [
    "GeneralNN.softmax!(preds,z6)"
   ]
  },
  {
   "cell_type": "code",
   "execution_count": 73,
   "id": "5af36e55",
   "metadata": {},
   "outputs": [],
   "source": [
    "tst = rand(17,17,7);"
   ]
  },
  {
   "cell_type": "code",
   "execution_count": 74,
   "id": "0b867a34",
   "metadata": {},
   "outputs": [
    {
     "data": {
      "text/plain": [
       "19×19×7 Array{Float64, 3}:\n",
       "[:, :, 1] =\n",
       " 0.0  0.0         0.0        0.0        …  0.0        0.0        0.0\n",
       " 0.0  0.0219884   0.201466   0.320216      0.726499   0.438991   0.0\n",
       " 0.0  0.352457    0.893201   0.372787      0.969242   0.073189   0.0\n",
       " 0.0  0.572948    0.910954   0.531168      0.147482   0.0486037  0.0\n",
       " 0.0  0.013658    0.708968   0.145765      0.142169   0.516014   0.0\n",
       " 0.0  0.0448348   0.743023   0.413351   …  0.0516937  0.293739   0.0\n",
       " 0.0  0.00998208  0.994724   0.280085      0.575419   0.201702   0.0\n",
       " 0.0  0.53584     0.106638   0.216921      0.73854    0.423864   0.0\n",
       " 0.0  0.356536    0.0961151  0.362956      0.727439   0.238867   0.0\n",
       " 0.0  0.188512    0.449408   0.626606      0.365238   0.530237   0.0\n",
       " 0.0  0.824555    0.0908351  0.10996    …  0.97494    0.611897   0.0\n",
       " 0.0  0.212892    0.962419   0.646056      0.46545    0.420552   0.0\n",
       " 0.0  0.176541    0.28337    0.0160501     0.336281   0.973338   0.0\n",
       " 0.0  0.0431574   0.952964   0.791317      0.366845   0.798083   0.0\n",
       " 0.0  0.226261    0.0553361  0.990066      0.589695   0.611327   0.0\n",
       " 0.0  0.99597     0.0437615  0.278242   …  0.566974   0.980758   0.0\n",
       " 0.0  0.447809    0.943045   0.775062      0.614919   0.999811   0.0\n",
       " 0.0  0.201706    0.715598   0.685766      0.304239   0.552854   0.0\n",
       " 0.0  0.0         0.0        0.0           0.0        0.0        0.0\n",
       "\n",
       "[:, :, 2] =\n",
       " 0.0  0.0        0.0         0.0        …  0.0        0.0        0.0\n",
       " 0.0  0.790793   0.18301     0.893967      0.428118   0.425229   0.0\n",
       " 0.0  0.874519   0.439856    0.384507      0.0833188  0.0622587  0.0\n",
       " 0.0  0.19424    0.878773    0.310698      0.569639   0.804023   0.0\n",
       " 0.0  0.687646   0.942398    0.34334       0.665995   0.0903899  0.0\n",
       " 0.0  0.643422   0.561971    0.266171   …  0.936088   0.848696   0.0\n",
       " 0.0  0.551608   0.812823    0.221459      0.260646   0.803625   0.0\n",
       " 0.0  0.43938    0.521216    0.863336      0.160089   0.0178367  0.0\n",
       " 0.0  0.588569   0.7266      0.525328      0.0957037  0.339775   0.0\n",
       " 0.0  0.0993124  0.926853    0.0472686     0.871043   0.611874   0.0\n",
       " 0.0  0.0614948  0.273095    0.100486   …  0.141414   0.416747   0.0\n",
       " 0.0  0.151037   0.635619    0.0116202     0.729389   0.599686   0.0\n",
       " 0.0  0.275732   0.828128    0.510379      0.645092   0.749336   0.0\n",
       " 0.0  0.81177    0.00688726  0.628656      0.783187   0.265875   0.0\n",
       " 0.0  0.256726   0.251175    0.721372      0.385948   0.0905461  0.0\n",
       " 0.0  0.473609   0.114686    0.97673    …  0.185903   0.438906   0.0\n",
       " 0.0  0.64443    0.725766    0.522405      0.46204    0.0493664  0.0\n",
       " 0.0  0.206355   0.116034    0.219387      0.512609   0.830955   0.0\n",
       " 0.0  0.0        0.0         0.0           0.0        0.0        0.0\n",
       "\n",
       "[:, :, 3] =\n",
       " 0.0  0.0        0.0        …  0.0       0.0        0.0        0.0\n",
       " 0.0  0.764721   0.807325      0.187102  0.715775   0.565755   0.0\n",
       " 0.0  0.513801   0.609906      0.501772  0.934102   0.0818095  0.0\n",
       " 0.0  0.530025   0.503921      0.509987  0.770753   0.699976   0.0\n",
       " 0.0  0.434494   0.466911      0.692419  0.697586   0.417915   0.0\n",
       " 0.0  0.0834835  0.0903893  …  0.89302   0.523987   0.664265   0.0\n",
       " 0.0  0.876947   0.750485      0.377934  0.0214583  0.434437   0.0\n",
       " 0.0  0.191491   0.613506      0.366172  0.329564   0.309026   0.0\n",
       " 0.0  0.0852914  0.601261      0.455425  0.726749   0.775353   0.0\n",
       " 0.0  0.515773   0.26965       0.885351  0.421531   0.0457446  0.0\n",
       " 0.0  0.752976   0.41242    …  0.979235  0.472809   0.892613   0.0\n",
       " 0.0  0.599322   0.570567      0.637742  0.441387   0.954658   0.0\n",
       " 0.0  0.906212   0.258156      0.492458  0.129206   0.200902   0.0\n",
       " 0.0  0.561107   0.0403993     0.180973  0.234886   0.358703   0.0\n",
       " 0.0  0.77077    0.48508       0.663681  0.799018   0.131681   0.0\n",
       " 0.0  0.551574   0.644872   …  0.864362  0.196106   0.5231     0.0\n",
       " 0.0  0.674192   0.602256      0.353236  0.638069   0.905989   0.0\n",
       " 0.0  0.778641   0.16995       0.206198  0.0507578  0.816731   0.0\n",
       " 0.0  0.0        0.0           0.0       0.0        0.0        0.0\n",
       "\n",
       "[:, :, 4] =\n",
       " 0.0  0.0        0.0       0.0         …  0.0       0.0        0.0       0.0\n",
       " 0.0  0.760944   0.785101  0.881259       0.61093   0.0167744  0.216957  0.0\n",
       " 0.0  0.120031   0.6282    0.320077       0.683263  0.756905   0.176646  0.0\n",
       " 0.0  0.880263   0.501009  0.906427       0.609474  0.309985   0.117426  0.0\n",
       " 0.0  0.911238   0.858169  0.634543       0.864702  0.487124   0.619727  0.0\n",
       " 0.0  0.229187   0.611162  0.628426    …  0.595985  0.986527   0.333268  0.0\n",
       " 0.0  0.988759   0.722644  0.115404       0.616213  0.483823   0.209105  0.0\n",
       " 0.0  0.495994   0.774361  0.634893       0.702995  0.271334   0.389392  0.0\n",
       " 0.0  0.940117   0.978693  0.861555       0.76531   0.240103   0.307695  0.0\n",
       " 0.0  0.644002   0.298494  0.964308       0.861509  0.34891    0.472615  0.0\n",
       " 0.0  0.546796   0.713936  0.656147    …  0.704462  0.288799   0.535509  0.0\n",
       " 0.0  0.0668807  0.968663  0.0631753      0.472858  0.752857   0.810976  0.0\n",
       " 0.0  0.227003   0.422133  0.80581        0.448941  0.469324   0.940947  0.0\n",
       " 0.0  0.154754   0.988902  0.00611758     0.86534   0.523311   0.859534  0.0\n",
       " 0.0  0.0869939  0.150589  0.385246       0.32133   0.430942   0.758525  0.0\n",
       " 0.0  0.982461   0.303621  0.0380237   …  0.411102  0.729852   0.345966  0.0\n",
       " 0.0  0.933211   0.389245  0.693837       0.229943  0.0209283  0.177124  0.0\n",
       " 0.0  0.128332   0.583271  0.860363       0.22056   0.928183   0.508247  0.0\n",
       " 0.0  0.0        0.0       0.0            0.0       0.0        0.0       0.0\n",
       "\n",
       "[:, :, 5] =\n",
       " 0.0  0.0        0.0        0.0        …  0.0       0.0       0.0       0.0\n",
       " 0.0  0.989662   0.579142   0.594299      0.159898  0.839582  0.266613  0.0\n",
       " 0.0  0.63298    0.950101   0.128714      0.767026  0.744979  0.456519  0.0\n",
       " 0.0  0.244851   0.815552   0.517591      0.353316  0.983421  0.666554  0.0\n",
       " 0.0  0.718889   0.134113   0.554236      0.386427  0.454299  0.452682  0.0\n",
       " 0.0  0.402783   0.0813916  0.510094   …  0.868083  0.851474  0.335172  0.0\n",
       " 0.0  0.903535   0.620921   0.429251      0.52789   0.90678   0.399804  0.0\n",
       " 0.0  0.309725   0.773007   0.329103      0.416918  0.362278  0.317014  0.0\n",
       " 0.0  0.568601   0.28511    0.469981      0.19668   0.909141  0.991346  0.0\n",
       " 0.0  0.0263425  0.565997   0.937082      0.507866  0.510904  0.153657  0.0\n",
       " 0.0  0.880124   0.124185   0.238109   …  0.383237  0.229698  0.413813  0.0\n",
       " 0.0  0.623704   0.42783    0.066998      0.231225  0.469437  0.478729  0.0\n",
       " 0.0  0.0914908  0.989119   0.857273      0.596202  0.739638  0.563718  0.0\n",
       " 0.0  0.532985   0.308689   0.31859       0.38646   0.987091  0.242707  0.0\n",
       " 0.0  0.154483   0.196432   0.482807      0.938761  0.018828  0.592436  0.0\n",
       " 0.0  0.966276   0.233587   0.751397   …  0.475794  0.318941  0.668524  0.0\n",
       " 0.0  0.45892    0.0272557  0.0625302     0.28306   0.531622  0.246878  0.0\n",
       " 0.0  0.154697   0.202442   0.289927      0.599491  0.236601  0.476586  0.0\n",
       " 0.0  0.0        0.0        0.0           0.0       0.0       0.0       0.0\n",
       "\n",
       "[:, :, 6] =\n",
       " 0.0  0.0        0.0        0.0        …  0.0        0.0        0.0\n",
       " 0.0  0.446737   0.623676   0.408368      0.426294   0.351837   0.0\n",
       " 0.0  0.445382   0.538275   0.872315      0.979171   0.930743   0.0\n",
       " 0.0  0.304439   0.327681   0.427918      0.982647   0.745407   0.0\n",
       " 0.0  0.844526   0.0419909  0.922846      0.054802   0.532345   0.0\n",
       " 0.0  0.0607068  0.779767   0.0170756  …  0.480743   0.296036   0.0\n",
       " 0.0  0.189691   0.124008   0.936853      0.65933    0.775421   0.0\n",
       " 0.0  0.167894   0.708952   0.75859       0.563654   0.345701   0.0\n",
       " 0.0  0.322355   0.862176   0.459058      0.3886     0.765602   0.0\n",
       " 0.0  0.686854   0.23198    0.524218      0.78527    0.584895   0.0\n",
       " 0.0  0.514738   0.229899   0.362372   …  0.963861   0.150529   0.0\n",
       " 0.0  0.777563   0.350756   0.622271      0.789349   0.20963    0.0\n",
       " 0.0  0.429546   0.648189   0.670507      0.494294   0.163282   0.0\n",
       " 0.0  0.196084   0.761679   0.324894      0.595598   0.659089   0.0\n",
       " 0.0  0.829406   0.0530609  0.699838      0.007412   0.87341    0.0\n",
       " 0.0  0.971366   0.225274   0.539363   …  0.799529   0.176714   0.0\n",
       " 0.0  0.352544   0.258762   0.296163      0.0145051  0.0231413  0.0\n",
       " 0.0  0.0788725  0.707751   0.502119      0.916297   0.303281   0.0\n",
       " 0.0  0.0        0.0        0.0           0.0        0.0        0.0\n",
       "\n",
       "[:, :, 7] =\n",
       " 0.0  0.0         0.0        0.0        …  0.0         0.0        0.0\n",
       " 0.0  0.446154    0.982734   0.421248      0.089826    0.508371   0.0\n",
       " 0.0  0.810905    0.73805    0.788918      0.00245077  0.884622   0.0\n",
       " 0.0  0.513401    0.643744   0.244174      0.20347     0.600627   0.0\n",
       " 0.0  0.659052    0.219536   0.959389      0.650554    0.489191   0.0\n",
       " 0.0  0.142422    0.230593   0.283883   …  0.146084    0.943874   0.0\n",
       " 0.0  0.847526    0.101879   0.391243      0.777709    0.0915343  0.0\n",
       " 0.0  0.496655    0.418279   0.0871017     0.858676    0.863361   0.0\n",
       " 0.0  0.579022    0.770652   0.270195      0.950631    0.176739   0.0\n",
       " 0.0  0.887265    0.685868   0.597353      0.983653    0.0179858  0.0\n",
       " 0.0  0.942624    0.105304   0.0225705  …  0.30018     0.762506   0.0\n",
       " 0.0  0.730405    0.253004   0.690121      0.666142    0.918747   0.0\n",
       " 0.0  0.950548    0.459264   0.183139      0.794804    0.460308   0.0\n",
       " 0.0  0.00972894  0.0456853  0.294888      0.074083    0.200979   0.0\n",
       " 0.0  0.160369    0.587499   0.171405      0.590588    0.515508   0.0\n",
       " 0.0  0.85538     0.479799   0.159699   …  0.207018    0.267737   0.0\n",
       " 0.0  0.921771    0.737347   0.279978      0.833124    0.087031   0.0\n",
       " 0.0  0.958457    0.299827   0.193246      0.19737     0.361885   0.0\n",
       " 0.0  0.0         0.0        0.0           0.0         0.0        0.0"
      ]
     },
     "metadata": {},
     "output_type": "display_data"
    }
   ],
   "source": [
    "dopad(tst, (1,1,1,1))"
   ]
  }
 ],
 "metadata": {
  "kernelspec": {
   "display_name": "Julia 1.11.3",
   "language": "julia",
   "name": "julia-1.11"
  },
  "language_info": {
   "file_extension": ".jl",
   "mimetype": "application/julia",
   "name": "julia",
   "version": "1.11.3"
  }
 },
 "nbformat": 4,
 "nbformat_minor": 5
}
