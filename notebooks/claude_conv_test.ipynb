{
 "cells": [
  {
   "cell_type": "code",
   "execution_count": 1,
   "id": "7e70f1d2-e2c4-4019-9318-e15c997fcb2d",
   "metadata": {},
   "outputs": [],
   "source": [
    "using GeneralNN\n",
    "using DelimitedFiles\n",
    "using BenchmarkTools\n",
    "using DataFrames"
   ]
  },
  {
   "cell_type": "code",
   "execution_count": 2,
   "id": "0df30c63",
   "metadata": {},
   "outputs": [
    {
     "data": {
      "text/plain": [
       "\"/Users/lewis/Code/nn by hand/notebooks\""
      ]
     },
     "metadata": {},
     "output_type": "display_data"
    }
   ],
   "source": [
    "pwd()"
   ]
  },
  {
   "cell_type": "code",
   "execution_count": 3,
   "id": "495b2301",
   "metadata": {},
   "outputs": [],
   "source": [
    "includet(\"../src/colconv.jl\")"
   ]
  },
  {
   "cell_type": "code",
   "execution_count": 4,
   "id": "f7a7f6f0-e25c-4421-a4b4-6e017046e3ea",
   "metadata": {},
   "outputs": [],
   "source": [
    "for (mod, file) in Revise.included_files\n",
    "    Revise.track(mod, file)\n",
    "end"
   ]
  },
  {
   "cell_type": "markdown",
   "id": "98f372b3",
   "metadata": {},
   "source": [
    "#### Load some test data to play with"
   ]
  },
  {
   "cell_type": "code",
   "execution_count": 5,
   "id": "12c7aba0-d640-4066-af5d-3e90868fae4e",
   "metadata": {},
   "outputs": [
    {
     "data": {
      "text/plain": [
       "6×6 Matrix{Float64}:\n",
       " 10.0  10.0  10.0  0.0  0.0  0.0\n",
       " 10.0  10.0  10.0  0.0  0.0  0.0\n",
       " 10.0  10.0  10.0  0.0  0.0  0.0\n",
       " 10.0  10.0  10.0  0.0  0.0  0.0\n",
       " 10.0  10.0  10.0  0.0  0.0  0.0\n",
       " 10.0  10.0  10.0  0.0  0.0  0.0"
      ]
     },
     "metadata": {},
     "output_type": "display_data"
    }
   ],
   "source": [
    "edg = readdlm(\"../tstdata/edg.csv\", ',')"
   ]
  },
  {
   "cell_type": "code",
   "execution_count": 6,
   "id": "8736ed6c",
   "metadata": {},
   "outputs": [
    {
     "data": {
      "text/plain": [
       "6×6×3×1 Array{Float64, 4}:\n",
       "[:, :, 1, 1] =\n",
       " 10.0  10.0  10.0  0.0  0.0  0.0\n",
       " 10.0  10.0  10.0  0.0  0.0  0.0\n",
       " 10.0  10.0  10.0  0.0  0.0  0.0\n",
       " 10.0  10.0  10.0  0.0  0.0  0.0\n",
       " 10.0  10.0  10.0  0.0  0.0  0.0\n",
       " 10.0  10.0  10.0  0.0  0.0  0.0\n",
       "\n",
       "[:, :, 2, 1] =\n",
       " 10.0  10.0  10.0  0.0  0.0  0.0\n",
       " 10.0  10.0  10.0  0.0  0.0  0.0\n",
       " 10.0  10.0  10.0  0.0  0.0  0.0\n",
       " 10.0  10.0  10.0  0.0  0.0  0.0\n",
       " 10.0  10.0  10.0  0.0  0.0  0.0\n",
       " 10.0  10.0  10.0  0.0  0.0  0.0\n",
       "\n",
       "[:, :, 3, 1] =\n",
       " 10.0  10.0  10.0  0.0  0.0  0.0\n",
       " 10.0  10.0  10.0  0.0  0.0  0.0\n",
       " 10.0  10.0  10.0  0.0  0.0  0.0\n",
       " 10.0  10.0  10.0  0.0  0.0  0.0\n",
       " 10.0  10.0  10.0  0.0  0.0  0.0\n",
       " 10.0  10.0  10.0  0.0  0.0  0.0"
      ]
     },
     "metadata": {},
     "output_type": "display_data"
    }
   ],
   "source": [
    "edg_6by6_by3_by1 = reshape(cat(edg, edg,edg,dims=3),(6,6,3,1))"
   ]
  },
  {
   "cell_type": "code",
   "execution_count": 7,
   "id": "a2446291",
   "metadata": {},
   "outputs": [
    {
     "data": {
      "text/plain": [
       "3×3 Matrix{Float64}:\n",
       " 1.0  0.0  -1.0\n",
       " 1.0  0.0  -1.0\n",
       " 1.0  0.0  -1.0"
      ]
     },
     "metadata": {},
     "output_type": "display_data"
    }
   ],
   "source": [
    "v_edge_fil = readdlm(\"../tstdata/v_edge_fil.csv\", ',')"
   ]
  },
  {
   "cell_type": "code",
   "execution_count": 8,
   "id": "3ce30ba6",
   "metadata": {},
   "outputs": [
    {
     "data": {
      "text/plain": [
       "3×3×3×1 Array{Float64, 4}:\n",
       "[:, :, 1, 1] =\n",
       " 1.0  0.0  -1.0\n",
       " 1.0  0.0  -1.0\n",
       " 1.0  0.0  -1.0\n",
       "\n",
       "[:, :, 2, 1] =\n",
       " 1.0  0.0  -1.0\n",
       " 1.0  0.0  -1.0\n",
       " 1.0  0.0  -1.0\n",
       "\n",
       "[:, :, 3, 1] =\n",
       " 1.0  0.0  -1.0\n",
       " 1.0  0.0  -1.0\n",
       " 1.0  0.0  -1.0"
      ]
     },
     "metadata": {},
     "output_type": "display_data"
    }
   ],
   "source": [
    "v_edge_fil_by3 = reshape(repeat(v_edge_fil, 1,3),3,3,3,1)"
   ]
  },
  {
   "cell_type": "code",
   "execution_count": 9,
   "id": "b4ec6b1b",
   "metadata": {},
   "outputs": [
    {
     "data": {
      "text/plain": [
       "3×3×3×3 Array{Float64, 4}:\n",
       "[:, :, 1, 1] =\n",
       " 1.0  0.0  -1.0\n",
       " 1.0  0.0  -1.0\n",
       " 1.0  0.0  -1.0\n",
       "\n",
       "[:, :, 2, 1] =\n",
       " 1.0  0.0  -1.0\n",
       " 1.0  0.0  -1.0\n",
       " 1.0  0.0  -1.0\n",
       "\n",
       "[:, :, 3, 1] =\n",
       " 1.0  0.0  -1.0\n",
       " 1.0  0.0  -1.0\n",
       " 1.0  0.0  -1.0\n",
       "\n",
       "[:, :, 1, 2] =\n",
       " 1.0  0.0  -1.0\n",
       " 1.0  0.0  -1.0\n",
       " 1.0  0.0  -1.0\n",
       "\n",
       "[:, :, 2, 2] =\n",
       " 1.0  0.0  -1.0\n",
       " 1.0  0.0  -1.0\n",
       " 1.0  0.0  -1.0\n",
       "\n",
       "[:, :, 3, 2] =\n",
       " 1.0  0.0  -1.0\n",
       " 1.0  0.0  -1.0\n",
       " 1.0  0.0  -1.0\n",
       "\n",
       "[:, :, 1, 3] =\n",
       " 1.0  0.0  -1.0\n",
       " 1.0  0.0  -1.0\n",
       " 1.0  0.0  -1.0\n",
       "\n",
       "[:, :, 2, 3] =\n",
       " 1.0  0.0  -1.0\n",
       " 1.0  0.0  -1.0\n",
       " 1.0  0.0  -1.0\n",
       "\n",
       "[:, :, 3, 3] =\n",
       " 1.0  0.0  -1.0\n",
       " 1.0  0.0  -1.0\n",
       " 1.0  0.0  -1.0"
      ]
     },
     "metadata": {},
     "output_type": "display_data"
    }
   ],
   "source": [
    "# now with 3 output channels\n",
    "v_edge_fil_by3_by3 = reshape(repeat(v_edge_fil, 1, 9),3,3,3,3)"
   ]
  },
  {
   "cell_type": "code",
   "execution_count": 10,
   "id": "02583a4a",
   "metadata": {},
   "outputs": [
    {
     "data": {
      "text/plain": [
       "3×3 Matrix{Float64}:\n",
       "  1.0   1.0   1.0\n",
       "  0.0   0.0   0.0\n",
       " -1.0  -1.0  -1.0"
      ]
     },
     "metadata": {},
     "output_type": "display_data"
    }
   ],
   "source": [
    "h_edge_fil = readdlm(\"../tstdata/h_edge_fil.csv\", ',')"
   ]
  },
  {
   "cell_type": "code",
   "execution_count": 11,
   "id": "8cb75981",
   "metadata": {},
   "outputs": [
    {
     "data": {
      "text/plain": [
       "6×6 Matrix{Float64}:\n",
       " 10.0  10.0  10.0   0.0   0.0   0.0\n",
       " 10.0  10.0  10.0   0.0   0.0   0.0\n",
       " 10.0  10.0  10.0   0.0   0.0   0.0\n",
       "  0.0   0.0   0.0  10.0  10.0  10.0\n",
       "  0.0   0.0   0.0  10.0  10.0  10.0\n",
       "  0.0   0.0   0.0  10.0  10.0  10.0"
      ]
     },
     "metadata": {},
     "output_type": "display_data"
    }
   ],
   "source": [
    "edg2_fil = readdlm(\"../tstdata/edg2_fil.csv\", ',')"
   ]
  },
  {
   "cell_type": "code",
   "execution_count": 12,
   "id": "70c7a640",
   "metadata": {},
   "outputs": [
    {
     "data": {
      "text/plain": [
       "3×3 Matrix{Float64}:\n",
       " 0.0  0.0  0.0\n",
       " 0.0  1.0  0.0\n",
       " 0.0  0.0  0.0"
      ]
     },
     "metadata": {},
     "output_type": "display_data"
    }
   ],
   "source": [
    "same_fil = readdlm(\"../tstdata/same_fil.csv\", ',')"
   ]
  },
  {
   "cell_type": "code",
   "execution_count": 13,
   "id": "36f12106",
   "metadata": {},
   "outputs": [
    {
     "data": {
      "text/plain": [
       "multiply_fil (generic function with 1 method)"
      ]
     },
     "metadata": {},
     "output_type": "display_data"
    }
   ],
   "source": [
    "function multiply_fil(x)\n",
    "x .* [0 0 0;\n",
    "    0 1 0;\n",
    "    0 0 0]\n",
    "end"
   ]
  },
  {
   "cell_type": "code",
   "execution_count": 14,
   "id": "eeda4978",
   "metadata": {},
   "outputs": [
    {
     "data": {
      "text/plain": [
       "3×3 Matrix{Float64}:\n",
       " 0.0  0.0  0.0\n",
       " 0.0  2.0  0.0\n",
       " 0.0  0.0  0.0"
      ]
     },
     "metadata": {},
     "output_type": "display_data"
    }
   ],
   "source": [
    "multiply_fil(2.0)"
   ]
  },
  {
   "cell_type": "code",
   "execution_count": 15,
   "id": "0f7bbed5-979d-4ccd-9faa-30fac579d6b2",
   "metadata": {},
   "outputs": [
    {
     "data": {
      "text/plain": [
       "6×6 Matrix{Float64}:\n",
       " 3.0  0.0  1.0  2.0  7.0  4.0\n",
       " 1.0  5.0  8.0  9.0  3.0  1.0\n",
       " 2.0  7.0  2.0  5.0  1.0  3.0\n",
       " 0.0  1.0  3.0  1.0  7.0  8.0\n",
       " 4.0  2.0  1.0  6.0  2.0  8.0\n",
       " 2.0  4.0  5.0  2.0  3.0  9.0"
      ]
     },
     "metadata": {},
     "output_type": "display_data"
    }
   ],
   "source": [
    "x = readdlm(\"../tstdata/x.csv\", ',')"
   ]
  },
  {
   "cell_type": "code",
   "execution_count": 16,
   "id": "5c58714a",
   "metadata": {},
   "outputs": [
    {
     "data": {
      "text/plain": [
       "3×3 Matrix{Float64}:\n",
       "  3.0  0.0   -3.0\n",
       " 10.0  0.0  -10.0\n",
       "  3.0  0.0   -3.0"
      ]
     },
     "metadata": {},
     "output_type": "display_data"
    }
   ],
   "source": [
    "schorr = readdlm(\"../tstdata/schorr_fil.csv\", ',')"
   ]
  },
  {
   "cell_type": "code",
   "execution_count": 17,
   "id": "39bf2ff5",
   "metadata": {},
   "outputs": [
    {
     "data": {
      "text/plain": [
       "3×3 Matrix{Float64}:\n",
       " 1.0  0.0  -1.0\n",
       " 2.0  0.0  -2.0\n",
       " 1.0  0.0  -1.0"
      ]
     },
     "metadata": {},
     "output_type": "display_data"
    }
   ],
   "source": [
    "sobel = readdlm(\"../tstdata/sobel_fil.csv\", ',')"
   ]
  },
  {
   "cell_type": "code",
   "execution_count": 18,
   "id": "7e23e668",
   "metadata": {},
   "outputs": [
    {
     "data": {
      "text/plain": [
       "6×6 Matrix{Int64}:\n",
       "  1   2   3   4   5   6\n",
       "  7   8   9  10  11  12\n",
       " 13  14  15  16  17  18\n",
       " 19  20  21  22  23  24\n",
       " 25  26  27  28  29  30\n",
       " 31  32  33  34  35  36"
      ]
     },
     "metadata": {},
     "output_type": "display_data"
    }
   ],
   "source": [
    "fiva = collect(reshape(1:25, 5, 5)')\n",
    "sixa = collect(reshape(1:36, 6, 6)')"
   ]
  },
  {
   "cell_type": "markdown",
   "id": "6d8bb19f",
   "metadata": {},
   "source": [
    "#### Run some functions"
   ]
  },
  {
   "cell_type": "code",
   "execution_count": 19,
   "id": "80ac58fb",
   "metadata": {},
   "outputs": [
    {
     "data": {
      "text/plain": [
       "3×3×3×1 Array{Float64, 4}:\n",
       "[:, :, 1, 1] =\n",
       " 1.0  0.0  -1.0\n",
       " 1.0  0.0  -1.0\n",
       " 1.0  0.0  -1.0\n",
       "\n",
       "[:, :, 2, 1] =\n",
       " 1.0  0.0  -1.0\n",
       " 1.0  0.0  -1.0\n",
       " 1.0  0.0  -1.0\n",
       "\n",
       "[:, :, 3, 1] =\n",
       " 1.0  0.0  -1.0\n",
       " 1.0  0.0  -1.0\n",
       " 1.0  0.0  -1.0"
      ]
     },
     "metadata": {},
     "output_type": "display_data"
    }
   ],
   "source": [
    "edge_fil_layer3 = ConvLayer(v_edge_fil_by3, [0.2], 1, 1)\n",
    "display(edge_fil_layer3.weights)"
   ]
  },
  {
   "cell_type": "code",
   "execution_count": 80,
   "id": "9fd0f0ee",
   "metadata": {},
   "outputs": [
    {
     "data": {
      "text/plain": [
       "(conv_inputs = (x_col = [0.0 0.0 … 0.0 0.0; 0.0 10.0 … 0.0 0.0; … ; 10.0 10.0 … 0.0 0.0; 10.0 10.0 … 0.0 0.0], w_col = [1.0; 1.0; … ; -1.0; -1.0;;], bias = [0.2], out_channels = 1, batch_size = 1, out_height = 6, out_width = 6), img_size = (height = 6, width = 6, in_channels = 3, batch_size = 1))"
      ]
     },
     "metadata": {},
     "output_type": "display_data"
    }
   ],
   "source": [
    "conv_inputs3, img_size3 = prep_forward(edge_fil_layer3, edg_6by6_by3_by1)"
   ]
  },
  {
   "cell_type": "code",
   "execution_count": 21,
   "id": "43d9277a",
   "metadata": {},
   "outputs": [
    {
     "data": {
      "text/plain": [
       "ConvLayer([1.0 0.0 -1.0; 1.0 0.0 -1.0; 1.0 0.0 -1.0;;; 1.0 0.0 -1.0; 1.0 0.0 -1.0; 1.0 0.0 -1.0;;; 1.0 0.0 -1.0; 1.0 0.0 -1.0; 1.0 0.0 -1.0;;;; 1.0 0.0 -1.0; 1.0 0.0 -1.0; 1.0 0.0 -1.0;;; 1.0 0.0 -1.0; 1.0 0.0 -1.0; 1.0 0.0 -1.0;;; 1.0 0.0 -1.0; 1.0 0.0 -1.0; 1.0 0.0 -1.0;;;; 1.0 0.0 -1.0; 1.0 0.0 -1.0; 1.0 0.0 -1.0;;; 1.0 0.0 -1.0; 1.0 0.0 -1.0; 1.0 0.0 -1.0;;; 1.0 0.0 -1.0; 1.0 0.0 -1.0; 1.0 0.0 -1.0], [0.2, 0.2, 0.2], 1, 1)"
      ]
     },
     "metadata": {},
     "output_type": "display_data"
    }
   ],
   "source": [
    "edge_fil_layer33 = ConvLayer(v_edge_fil_by3_by3, [0.2, 0.2, 0.2], 1, 1)"
   ]
  },
  {
   "cell_type": "code",
   "execution_count": 91,
   "id": "68826b8e",
   "metadata": {},
   "outputs": [
    {
     "data": {
      "text/plain": [
       "BenchmarkTools.Trial: 10000 samples with 10 evaluations.\n",
       " Range \u001b[90m(\u001b[39m\u001b[36m\u001b[1mmin\u001b[22m\u001b[39m … \u001b[35mmax\u001b[39m\u001b[90m):  \u001b[39m\u001b[36m\u001b[1m1.288 μs\u001b[22m\u001b[39m … \u001b[35m174.996 μs\u001b[39m  \u001b[90m┊\u001b[39m GC \u001b[90m(\u001b[39mmin … max\u001b[90m): \u001b[39m 0.00% … 98.35%\n",
       " Time  \u001b[90m(\u001b[39m\u001b[34m\u001b[1mmedian\u001b[22m\u001b[39m\u001b[90m):     \u001b[39m\u001b[34m\u001b[1m1.663 μs               \u001b[22m\u001b[39m\u001b[90m┊\u001b[39m GC \u001b[90m(\u001b[39mmedian\u001b[90m):    \u001b[39m 0.00%\n",
       " Time  \u001b[90m(\u001b[39m\u001b[32m\u001b[1mmean\u001b[22m\u001b[39m ± \u001b[32mσ\u001b[39m\u001b[90m):   \u001b[39m\u001b[32m\u001b[1m1.940 μs\u001b[22m\u001b[39m ± \u001b[32m  5.764 μs\u001b[39m  \u001b[90m┊\u001b[39m GC \u001b[90m(\u001b[39mmean ± σ\u001b[90m):  \u001b[39m13.32% ±  4.48%\n",
       "\n",
       "  \u001b[39m \u001b[39m▁\u001b[39m \u001b[39m \u001b[39m \u001b[39m \u001b[39m \u001b[39m \u001b[39m \u001b[39m \u001b[39m \u001b[39m \u001b[39m▅\u001b[39m▄\u001b[39m▄\u001b[34m█\u001b[39m\u001b[39m▅\u001b[39m▁\u001b[39m \u001b[39m \u001b[39m \u001b[39m \u001b[39m \u001b[39m \u001b[39m \u001b[39m \u001b[39m \u001b[32m \u001b[39m\u001b[39m \u001b[39m \u001b[39m \u001b[39m \u001b[39m \u001b[39m \u001b[39m \u001b[39m \u001b[39m \u001b[39m \u001b[39m \u001b[39m \u001b[39m \u001b[39m \u001b[39m \u001b[39m \u001b[39m \u001b[39m \u001b[39m \u001b[39m \u001b[39m \u001b[39m \u001b[39m \u001b[39m \u001b[39m \u001b[39m \u001b[39m \u001b[39m \u001b[39m \u001b[39m \u001b[39m \u001b[39m \u001b[39m \n",
       "  \u001b[39m▅\u001b[39m█\u001b[39m▆\u001b[39m▄\u001b[39m▃\u001b[39m▂\u001b[39m▂\u001b[39m▂\u001b[39m▂\u001b[39m▃\u001b[39m▄\u001b[39m▇\u001b[39m█\u001b[39m█\u001b[39m█\u001b[34m█\u001b[39m\u001b[39m█\u001b[39m█\u001b[39m█\u001b[39m▆\u001b[39m▅\u001b[39m▄\u001b[39m▄\u001b[39m▃\u001b[39m▃\u001b[39m▃\u001b[39m▃\u001b[32m▂\u001b[39m\u001b[39m▂\u001b[39m▂\u001b[39m▂\u001b[39m▂\u001b[39m▁\u001b[39m▂\u001b[39m▂\u001b[39m▂\u001b[39m▁\u001b[39m▂\u001b[39m▁\u001b[39m▁\u001b[39m▁\u001b[39m▁\u001b[39m▁\u001b[39m▁\u001b[39m▁\u001b[39m▁\u001b[39m▁\u001b[39m▁\u001b[39m▁\u001b[39m▁\u001b[39m▁\u001b[39m▁\u001b[39m▁\u001b[39m▁\u001b[39m▁\u001b[39m▁\u001b[39m▁\u001b[39m▁\u001b[39m▁\u001b[39m \u001b[39m▃\n",
       "  1.29 μs\u001b[90m         Histogram: frequency by time\u001b[39m        2.74 μs \u001b[0m\u001b[1m<\u001b[22m\n",
       "\n",
       " Memory estimate\u001b[90m: \u001b[39m\u001b[33m9.66 KiB\u001b[39m, allocs estimate\u001b[90m: \u001b[39m\u001b[33m6\u001b[39m."
      ]
     },
     "metadata": {},
     "output_type": "display_data"
    }
   ],
   "source": [
    "@benchmark prep_forward(edge_fil_layer33, edg_6by6_by3_by1)"
   ]
  },
  {
   "cell_type": "code",
   "execution_count": 86,
   "id": "d9a6c26d",
   "metadata": {},
   "outputs": [
    {
     "data": {
      "text/plain": [
       "(conv_inputs = (x_col = [0.0 0.0 … 0.0 0.0; 0.0 10.0 … 0.0 0.0; … ; 10.0 10.0 … 0.0 0.0; 10.0 10.0 … 0.0 0.0], w_col = [1.0 1.0 1.0; 1.0 1.0 1.0; … ; -1.0 -1.0 -1.0; -1.0 -1.0 -1.0], bias = [0.2, 0.2, 0.2], out_channels = 3, batch_size = 1, out_height = 6, out_width = 6), img_size = (height = 6, width = 6, in_channels = 3, batch_size = 1))"
      ]
     },
     "metadata": {},
     "output_type": "display_data"
    }
   ],
   "source": [
    "conv_inputs33, img_size33 = prep_forward(edge_fil_layer33, edg_6by6_by3_by1)\n",
    "# # DataFrame(conv_inputs33.x_col, :auto)\n",
    "# img_size33"
   ]
  },
  {
   "cell_type": "code",
   "execution_count": 23,
   "id": "db6a8a60",
   "metadata": {},
   "outputs": [
    {
     "data": {
      "text/plain": [
       "debug (generic function with 1 method)"
      ]
     },
     "metadata": {},
     "output_type": "display_data"
    }
   ],
   "source": [
    "function debug(col)\n",
    "    for test_col in 1:5  # first few columns\n",
    "        for test_row in 1:9  # full window for first channel\n",
    "            println(\"col[$test_row, $test_col] = \", col[test_row, test_col])\n",
    "        end\n",
    "        println()\n",
    "    end\n",
    "end"
   ]
  },
  {
   "cell_type": "code",
   "execution_count": 24,
   "id": "e7eea2be",
   "metadata": {},
   "outputs": [
    {
     "ename": "UndefVarError",
     "evalue": "UndefVarError: `conv_inputs33` not defined",
     "output_type": "error",
     "traceback": [
      "UndefVarError: `conv_inputs33` not defined\n",
      "\n",
      "Stacktrace:\n",
      " [1] top-level scope\n",
      "   @ ~/Code/nn by hand/notebooks/jl_notebook_cell_df34fa98e69747e1a8f8a730347b8e2f_X34sZmlsZQ==.jl:1"
     ]
    }
   ],
   "source": [
    "debug(conv_inputs33.x_col)"
   ]
  },
  {
   "cell_type": "code",
   "execution_count": 82,
   "id": "c4a83d85",
   "metadata": {},
   "outputs": [
    {
     "data": {
      "text/plain": [
       "6×6×3×1 Array{Float64, 4}:\n",
       "[:, :, 1, 1] =\n",
       " 10.0  10.0  10.0  0.0  0.0  0.0\n",
       " 10.0  10.0  10.0  0.0  0.0  0.0\n",
       " 10.0  10.0  10.0  0.0  0.0  0.0\n",
       " 10.0  10.0  10.0  0.0  0.0  0.0\n",
       " 10.0  10.0  10.0  0.0  0.0  0.0\n",
       " 10.0  10.0  10.0  0.0  0.0  0.0\n",
       "\n",
       "[:, :, 2, 1] =\n",
       " 10.0  10.0  10.0  0.0  0.0  0.0\n",
       " 10.0  10.0  10.0  0.0  0.0  0.0\n",
       " 10.0  10.0  10.0  0.0  0.0  0.0\n",
       " 10.0  10.0  10.0  0.0  0.0  0.0\n",
       " 10.0  10.0  10.0  0.0  0.0  0.0\n",
       " 10.0  10.0  10.0  0.0  0.0  0.0\n",
       "\n",
       "[:, :, 3, 1] =\n",
       " 10.0  10.0  10.0  0.0  0.0  0.0\n",
       " 10.0  10.0  10.0  0.0  0.0  0.0\n",
       " 10.0  10.0  10.0  0.0  0.0  0.0\n",
       " 10.0  10.0  10.0  0.0  0.0  0.0\n",
       " 10.0  10.0  10.0  0.0  0.0  0.0\n",
       " 10.0  10.0  10.0  0.0  0.0  0.0"
      ]
     },
     "metadata": {},
     "output_type": "display_data"
    }
   ],
   "source": [
    "# test col2im\n",
    "col2im(conv_inputs33.x_col, img_size33, 3,1,1)"
   ]
  },
  {
   "cell_type": "code",
   "execution_count": 26,
   "id": "a3a945a8",
   "metadata": {},
   "outputs": [
    {
     "ename": "UndefVarError",
     "evalue": "UndefVarError: `conv_inputs33` not defined",
     "output_type": "error",
     "traceback": [
      "UndefVarError: `conv_inputs33` not defined\n",
      "\n",
      "Stacktrace:\n",
      " [1] top-level scope\n",
      "   @ ~/Code/nn by hand/notebooks/jl_notebook_cell_df34fa98e69747e1a8f8a730347b8e2f_X36sZmlsZQ==.jl:1"
     ]
    }
   ],
   "source": [
    "for it in conv_inputs33\n",
    "    println(it)\n",
    "    println(size(it))\n",
    "end"
   ]
  },
  {
   "cell_type": "code",
   "execution_count": 81,
   "id": "b3579220",
   "metadata": {},
   "outputs": [
    {
     "data": {
      "text/plain": [
       "6×6×1×1 Array{Float64, 4}:\n",
       "[:, :, 1, 1] =\n",
       " -59.8  0.2  60.2  60.2  0.2  0.2\n",
       " -89.8  0.2  90.2  90.2  0.2  0.2\n",
       " -89.8  0.2  90.2  90.2  0.2  0.2\n",
       " -89.8  0.2  90.2  90.2  0.2  0.2\n",
       " -89.8  0.2  90.2  90.2  0.2  0.2\n",
       " -59.8  0.2  60.2  60.2  0.2  0.2"
      ]
     },
     "metadata": {},
     "output_type": "display_data"
    }
   ],
   "source": [
    "f3 = forward_conv(conv_inputs3...)"
   ]
  },
  {
   "cell_type": "code",
   "execution_count": 88,
   "id": "711d4303",
   "metadata": {},
   "outputs": [
    {
     "data": {
      "text/plain": [
       "BenchmarkTools.Trial: 10000 samples with 141 evaluations.\n",
       " Range \u001b[90m(\u001b[39m\u001b[36m\u001b[1mmin\u001b[22m\u001b[39m … \u001b[35mmax\u001b[39m\u001b[90m):  \u001b[39m\u001b[36m\u001b[1m703.901 ns\u001b[22m\u001b[39m … \u001b[35m  3.962 μs\u001b[39m  \u001b[90m┊\u001b[39m GC \u001b[90m(\u001b[39mmin … max\u001b[90m): \u001b[39m0.00% … 74.27%\n",
       " Time  \u001b[90m(\u001b[39m\u001b[34m\u001b[1mmedian\u001b[22m\u001b[39m\u001b[90m):     \u001b[39m\u001b[34m\u001b[1m737.000 ns               \u001b[22m\u001b[39m\u001b[90m┊\u001b[39m GC \u001b[90m(\u001b[39mmedian\u001b[90m):    \u001b[39m0.00%\n",
       " Time  \u001b[90m(\u001b[39m\u001b[32m\u001b[1mmean\u001b[22m\u001b[39m ± \u001b[32mσ\u001b[39m\u001b[90m):   \u001b[39m\u001b[32m\u001b[1m770.029 ns\u001b[22m\u001b[39m ± \u001b[32m194.673 ns\u001b[39m  \u001b[90m┊\u001b[39m GC \u001b[90m(\u001b[39mmean ± σ\u001b[90m):  \u001b[39m1.88% ±  5.80%\n",
       "\n",
       "  \u001b[39m \u001b[39m▂\u001b[39m▄\u001b[39m▇\u001b[39m█\u001b[39m█\u001b[39m▇\u001b[34m▆\u001b[39m\u001b[39m▇\u001b[39m▆\u001b[39m▅\u001b[39m▄\u001b[39m▃\u001b[39m▃\u001b[39m▃\u001b[32m▄\u001b[39m\u001b[39m▃\u001b[39m▃\u001b[39m▄\u001b[39m▃\u001b[39m▃\u001b[39m▃\u001b[39m▂\u001b[39m▂\u001b[39m▁\u001b[39m▂\u001b[39m▁\u001b[39m▁\u001b[39m▂\u001b[39m▁\u001b[39m▁\u001b[39m▂\u001b[39m▁\u001b[39m▂\u001b[39m▂\u001b[39m▁\u001b[39m \u001b[39m▁\u001b[39m▁\u001b[39m \u001b[39m▁\u001b[39m \u001b[39m \u001b[39m \u001b[39m \u001b[39m \u001b[39m \u001b[39m \u001b[39m \u001b[39m \u001b[39m \u001b[39m \u001b[39m \u001b[39m \u001b[39m \u001b[39m \u001b[39m \u001b[39m \u001b[39m \u001b[39m \u001b[39m \u001b[39m \u001b[39m▃\n",
       "  \u001b[39m▇\u001b[39m█\u001b[39m█\u001b[39m█\u001b[39m█\u001b[39m█\u001b[39m█\u001b[34m█\u001b[39m\u001b[39m█\u001b[39m█\u001b[39m█\u001b[39m█\u001b[39m█\u001b[39m█\u001b[39m█\u001b[32m█\u001b[39m\u001b[39m█\u001b[39m█\u001b[39m█\u001b[39m█\u001b[39m█\u001b[39m█\u001b[39m█\u001b[39m█\u001b[39m█\u001b[39m█\u001b[39m█\u001b[39m█\u001b[39m█\u001b[39m█\u001b[39m█\u001b[39m█\u001b[39m█\u001b[39m█\u001b[39m█\u001b[39m█\u001b[39m█\u001b[39m█\u001b[39m█\u001b[39m█\u001b[39m█\u001b[39m▇\u001b[39m█\u001b[39m█\u001b[39m▇\u001b[39m▇\u001b[39m▆\u001b[39m▆\u001b[39m▇\u001b[39m▆\u001b[39m▅\u001b[39m▄\u001b[39m▄\u001b[39m▄\u001b[39m▄\u001b[39m▅\u001b[39m▃\u001b[39m▄\u001b[39m▃\u001b[39m▃\u001b[39m▅\u001b[39m \u001b[39m█\n",
       "  704 ns\u001b[90m        \u001b[39m\u001b[90mHistogram: \u001b[39m\u001b[90m\u001b[1mlog(\u001b[22m\u001b[39m\u001b[90mfrequency\u001b[39m\u001b[90m\u001b[1m)\u001b[22m\u001b[39m\u001b[90m by time\u001b[39m        975 ns \u001b[0m\u001b[1m<\u001b[22m\n",
       "\n",
       " Memory estimate\u001b[90m: \u001b[39m\u001b[33m2.02 KiB\u001b[39m, allocs estimate\u001b[90m: \u001b[39m\u001b[33m3\u001b[39m."
      ]
     },
     "metadata": {},
     "output_type": "display_data"
    }
   ],
   "source": [
    "@benchmark forward_conv(conv_inputs33...)\n",
    "# f33 = forward_conv(conv_inputs33...)"
   ]
  },
  {
   "cell_type": "code",
   "execution_count": 29,
   "id": "5e9a1229",
   "metadata": {},
   "outputs": [
    {
     "name": "stdout",
     "output_type": "stream",
     "text": [
      "Running forward pass...\n",
      "Forward pass output shape: (6, 6, 3, 2)\n",
      "\n",
      "Running backward pass...\n",
      "\n",
      "Gradient shapes:\n",
      "dL_dx: (6, 6, 2, 2)\n",
      "dL_dw: (3, 3, 2, 3)\n",
      "dL_db: (3,)\n",
      "\n",
      "All shape checks passed!\n"
     ]
    },
    {
     "data": {
      "text/plain": [
       "true"
      ]
     },
     "metadata": {},
     "output_type": "display_data"
    }
   ],
   "source": [
    "test_conv()"
   ]
  },
  {
   "cell_type": "code",
   "execution_count": 30,
   "id": "9c8be545",
   "metadata": {},
   "outputs": [
    {
     "ename": "UndefVarError",
     "evalue": "UndefVarError: `f33` not defined",
     "output_type": "error",
     "traceback": [
      "UndefVarError: `f33` not defined\n",
      "\n",
      "Stacktrace:\n",
      " [1] top-level scope\n",
      "   @ ~/Code/nn by hand/notebooks/jl_notebook_cell_df34fa98e69747e1a8f8a730347b8e2f_X43sZmlsZQ==.jl:3"
     ]
    }
   ],
   "source": [
    "# test max pooling\n",
    "pl = PoolLayer(2,2, :mean)\n",
    "poolout, locations = forward_pool(f33, pl)\n",
    "@show size(locations)\n",
    "poolout"
   ]
  },
  {
   "cell_type": "code",
   "execution_count": 31,
   "id": "a1f92ba8",
   "metadata": {},
   "outputs": [
    {
     "ename": "UndefVarError",
     "evalue": "UndefVarError: `poolout` not defined",
     "output_type": "error",
     "traceback": [
      "UndefVarError: `poolout` not defined\n",
      "\n",
      "Stacktrace:\n",
      " [1] top-level scope\n",
      "   @ ~/Code/nn by hand/notebooks/jl_notebook_cell_df34fa98e69747e1a8f8a730347b8e2f_X44sZmlsZQ==.jl:1"
     ]
    }
   ],
   "source": [
    "backward_pool(pl, poolout,(6,6,3,1),locations)"
   ]
  },
  {
   "cell_type": "code",
   "execution_count": 32,
   "id": "8d88fd29",
   "metadata": {},
   "outputs": [
    {
     "ename": "UndefVarError",
     "evalue": "UndefVarError: `f33` not defined",
     "output_type": "error",
     "traceback": [
      "UndefVarError: `f33` not defined\n",
      "\n",
      "Stacktrace:\n",
      " [1] top-level scope\n",
      "   @ ~/Code/nn by hand/notebooks/jl_notebook_cell_df34fa98e69747e1a8f8a730347b8e2f_X45sZmlsZQ==.jl:1"
     ]
    }
   ],
   "source": [
    "dL_dx33, dL_dw33, dL_db33 = backward_conv(edge_fil_layer33, f33, img_size33, conv_inputs33)\n",
    "@show size(dL_dx33)\n",
    "@show size(dL_dw33)\n",
    "@show size(dL_db33)"
   ]
  },
  {
   "cell_type": "code",
   "execution_count": 33,
   "id": "4c5eea02",
   "metadata": {},
   "outputs": [
    {
     "data": {
      "text/plain": [
       "20×20×3 Array{Float64, 3}:\n",
       "[:, :, 1] =\n",
       " 1.0  1.0  1.0  1.0  1.0  1.0  1.0  1.0  …  1.0  1.0  1.0  1.0  1.0  1.0  1.0\n",
       " 1.0  1.0  1.0  1.0  1.0  1.0  1.0  1.0     1.0  1.0  1.0  1.0  1.0  1.0  1.0\n",
       " 1.0  1.0  1.0  1.0  1.0  1.0  1.0  1.0     1.0  1.0  1.0  1.0  1.0  1.0  1.0\n",
       " 1.0  1.0  1.0  1.0  1.0  1.0  1.0  1.0     1.0  1.0  1.0  1.0  1.0  1.0  1.0\n",
       " 1.0  1.0  1.0  1.0  1.0  1.0  1.0  1.0     1.0  1.0  1.0  1.0  1.0  1.0  1.0\n",
       " 1.0  1.0  1.0  1.0  1.0  1.0  1.0  1.0  …  1.0  1.0  1.0  1.0  1.0  1.0  1.0\n",
       " 1.0  1.0  1.0  1.0  1.0  1.0  1.0  1.0     1.0  1.0  1.0  1.0  1.0  1.0  1.0\n",
       " 1.0  1.0  1.0  1.0  1.0  1.0  1.0  1.0     1.0  1.0  1.0  1.0  1.0  1.0  1.0\n",
       " 1.0  1.0  1.0  1.0  1.0  1.0  1.0  1.0     1.0  1.0  1.0  1.0  1.0  1.0  1.0\n",
       " 1.0  1.0  1.0  1.0  1.0  1.0  1.0  1.0     1.0  1.0  1.0  1.0  1.0  1.0  1.0\n",
       " 1.0  1.0  1.0  1.0  1.0  1.0  1.0  1.0  …  1.0  1.0  1.0  1.0  1.0  1.0  1.0\n",
       " 1.0  1.0  1.0  1.0  1.0  1.0  1.0  1.0     1.0  1.0  1.0  1.0  1.0  1.0  1.0\n",
       " 1.0  1.0  1.0  1.0  1.0  1.0  1.0  1.0     1.0  1.0  1.0  1.0  1.0  1.0  1.0\n",
       " 1.0  1.0  1.0  1.0  1.0  1.0  1.0  1.0     1.0  1.0  1.0  1.0  1.0  1.0  1.0\n",
       " 1.0  1.0  1.0  1.0  1.0  1.0  1.0  1.0     1.0  1.0  1.0  1.0  1.0  1.0  1.0\n",
       " 1.0  1.0  1.0  1.0  1.0  1.0  1.0  1.0  …  1.0  1.0  1.0  1.0  1.0  1.0  1.0\n",
       " 1.0  1.0  1.0  1.0  1.0  1.0  1.0  1.0     1.0  1.0  1.0  1.0  1.0  1.0  1.0\n",
       " 1.0  1.0  1.0  1.0  1.0  1.0  1.0  1.0     1.0  1.0  1.0  1.0  1.0  1.0  1.0\n",
       " 1.0  1.0  1.0  1.0  1.0  1.0  1.0  1.0     1.0  1.0  1.0  1.0  1.0  1.0  1.0\n",
       " 1.0  1.0  1.0  1.0  1.0  1.0  1.0  1.0     1.0  1.0  1.0  1.0  1.0  1.0  1.0\n",
       "\n",
       "[:, :, 2] =\n",
       " 2.0  2.0  2.0  2.0  2.0  2.0  2.0  2.0  …  2.0  2.0  2.0  2.0  2.0  2.0  2.0\n",
       " 2.0  2.0  2.0  2.0  2.0  2.0  2.0  2.0     2.0  2.0  2.0  2.0  2.0  2.0  2.0\n",
       " 2.0  2.0  2.0  2.0  2.0  2.0  2.0  2.0     2.0  2.0  2.0  2.0  2.0  2.0  2.0\n",
       " 2.0  2.0  2.0  2.0  2.0  2.0  2.0  2.0     2.0  2.0  2.0  2.0  2.0  2.0  2.0\n",
       " 2.0  2.0  2.0  2.0  2.0  2.0  2.0  2.0     2.0  2.0  2.0  2.0  2.0  2.0  2.0\n",
       " 2.0  2.0  2.0  2.0  2.0  2.0  2.0  2.0  …  2.0  2.0  2.0  2.0  2.0  2.0  2.0\n",
       " 2.0  2.0  2.0  2.0  2.0  2.0  2.0  2.0     2.0  2.0  2.0  2.0  2.0  2.0  2.0\n",
       " 2.0  2.0  2.0  2.0  2.0  2.0  2.0  2.0     2.0  2.0  2.0  2.0  2.0  2.0  2.0\n",
       " 2.0  2.0  2.0  2.0  2.0  2.0  2.0  2.0     2.0  2.0  2.0  2.0  2.0  2.0  2.0\n",
       " 2.0  2.0  2.0  2.0  2.0  2.0  2.0  2.0     2.0  2.0  2.0  2.0  2.0  2.0  2.0\n",
       " 2.0  2.0  2.0  2.0  2.0  2.0  2.0  2.0  …  2.0  2.0  2.0  2.0  2.0  2.0  2.0\n",
       " 2.0  2.0  2.0  2.0  2.0  2.0  2.0  2.0     2.0  2.0  2.0  2.0  2.0  2.0  2.0\n",
       " 2.0  2.0  2.0  2.0  2.0  2.0  2.0  2.0     2.0  2.0  2.0  2.0  2.0  2.0  2.0\n",
       " 2.0  2.0  2.0  2.0  2.0  2.0  2.0  2.0     2.0  2.0  2.0  2.0  2.0  2.0  2.0\n",
       " 2.0  2.0  2.0  2.0  2.0  2.0  2.0  2.0     2.0  2.0  2.0  2.0  2.0  2.0  2.0\n",
       " 2.0  2.0  2.0  2.0  2.0  2.0  2.0  2.0  …  2.0  2.0  2.0  2.0  2.0  2.0  2.0\n",
       " 2.0  2.0  2.0  2.0  2.0  2.0  2.0  2.0     2.0  2.0  2.0  2.0  2.0  2.0  2.0\n",
       " 2.0  2.0  2.0  2.0  2.0  2.0  2.0  2.0     2.0  2.0  2.0  2.0  2.0  2.0  2.0\n",
       " 2.0  2.0  2.0  2.0  2.0  2.0  2.0  2.0     2.0  2.0  2.0  2.0  2.0  2.0  2.0\n",
       " 2.0  2.0  2.0  2.0  2.0  2.0  2.0  2.0     2.0  2.0  2.0  2.0  2.0  2.0  2.0\n",
       "\n",
       "[:, :, 3] =\n",
       " 3.0  3.0  3.0  3.0  3.0  3.0  3.0  3.0  …  3.0  3.0  3.0  3.0  3.0  3.0  3.0\n",
       " 3.0  3.0  3.0  3.0  3.0  3.0  3.0  3.0     3.0  3.0  3.0  3.0  3.0  3.0  3.0\n",
       " 3.0  3.0  3.0  3.0  3.0  3.0  3.0  3.0     3.0  3.0  3.0  3.0  3.0  3.0  3.0\n",
       " 3.0  3.0  3.0  3.0  3.0  3.0  3.0  3.0     3.0  3.0  3.0  3.0  3.0  3.0  3.0\n",
       " 3.0  3.0  3.0  3.0  3.0  3.0  3.0  3.0     3.0  3.0  3.0  3.0  3.0  3.0  3.0\n",
       " 3.0  3.0  3.0  3.0  3.0  3.0  3.0  3.0  …  3.0  3.0  3.0  3.0  3.0  3.0  3.0\n",
       " 3.0  3.0  3.0  3.0  3.0  3.0  3.0  3.0     3.0  3.0  3.0  3.0  3.0  3.0  3.0\n",
       " 3.0  3.0  3.0  3.0  3.0  3.0  3.0  3.0     3.0  3.0  3.0  3.0  3.0  3.0  3.0\n",
       " 3.0  3.0  3.0  3.0  3.0  3.0  3.0  3.0     3.0  3.0  3.0  3.0  3.0  3.0  3.0\n",
       " 3.0  3.0  3.0  3.0  3.0  3.0  3.0  3.0     3.0  3.0  3.0  3.0  3.0  3.0  3.0\n",
       " 3.0  3.0  3.0  3.0  3.0  3.0  3.0  3.0  …  3.0  3.0  3.0  3.0  3.0  3.0  3.0\n",
       " 3.0  3.0  3.0  3.0  3.0  3.0  3.0  3.0     3.0  3.0  3.0  3.0  3.0  3.0  3.0\n",
       " 3.0  3.0  3.0  3.0  3.0  3.0  3.0  3.0     3.0  3.0  3.0  3.0  3.0  3.0  3.0\n",
       " 3.0  3.0  3.0  3.0  3.0  3.0  3.0  3.0     3.0  3.0  3.0  3.0  3.0  3.0  3.0\n",
       " 3.0  3.0  3.0  3.0  3.0  3.0  3.0  3.0     3.0  3.0  3.0  3.0  3.0  3.0  3.0\n",
       " 3.0  3.0  3.0  3.0  3.0  3.0  3.0  3.0  …  3.0  3.0  3.0  3.0  3.0  3.0  3.0\n",
       " 3.0  3.0  3.0  3.0  3.0  3.0  3.0  3.0     3.0  3.0  3.0  3.0  3.0  3.0  3.0\n",
       " 3.0  3.0  3.0  3.0  3.0  3.0  3.0  3.0     3.0  3.0  3.0  3.0  3.0  3.0  3.0\n",
       " 3.0  3.0  3.0  3.0  3.0  3.0  3.0  3.0     3.0  3.0  3.0  3.0  3.0  3.0  3.0\n",
       " 3.0  3.0  3.0  3.0  3.0  3.0  3.0  3.0     3.0  3.0  3.0  3.0  3.0  3.0  3.0"
      ]
     },
     "metadata": {},
     "output_type": "display_data"
    }
   ],
   "source": [
    "tst20by3img = zeros(20,20,3)\n",
    "tst20by3img[:,:,1] .= ones(20,20)\n",
    "tst20by3img[:,:,2] .= fill(2, 20,20)\n",
    "tst20by3img[:,:,3] .= fill(3,20,20)\n",
    "tst20by3img"
   ]
  },
  {
   "cell_type": "code",
   "execution_count": 34,
   "id": "c5edbcd1",
   "metadata": {},
   "outputs": [
    {
     "data": {
      "text/plain": [
       "18×18 Matrix{Float64}:\n",
       " 0.0881134  0.676777    0.480706    …  0.750697   0.809443    0.44228\n",
       " 0.412366   0.631301    0.49138        0.133106   0.914616    0.834437\n",
       " 0.784264   0.155286    0.243079       0.881591   0.279382    0.130741\n",
       " 0.371202   0.0746554   0.00741568     0.0934285  0.432301    0.128386\n",
       " 0.823099   0.0259874   0.749725       0.867014   0.944564    0.965968\n",
       " 0.878897   0.893831    0.352451    …  0.242571   0.450111    0.64346\n",
       " 0.435428   0.325272    0.437278       0.815045   0.755899    0.650262\n",
       " 0.955877   0.0984725   0.740674       0.287817   0.683211    0.987564\n",
       " 0.97958    0.00472116  0.915768       0.144596   0.455732    0.0182037\n",
       " 0.0490256  0.0288925   0.709784       0.283579   0.727969    0.312581\n",
       " 0.972924   0.0169117   0.980513    …  0.650416   0.30429     0.69949\n",
       " 0.708151   0.390642    0.531154       0.583577   0.216675    0.623533\n",
       " 0.47738    0.73247     0.851928       0.380757   0.178795    0.669996\n",
       " 0.144837   0.694514    0.92019        0.816681   0.891763    0.660859\n",
       " 0.776827   0.774846    0.897548       0.469076   0.00853853  0.551968\n",
       " 0.223892   0.116806    0.553644    …  0.568083   0.146725    0.563781\n",
       " 0.442298   0.85391     0.45149        0.795243   0.24406     0.815629\n",
       " 0.53214    0.224341    0.7584         0.695334   0.188854    0.164926"
      ]
     },
     "metadata": {},
     "output_type": "display_data"
    }
   ],
   "source": [
    "tst18img = rand(18,18)"
   ]
  },
  {
   "cell_type": "code",
   "execution_count": 35,
   "id": "0df2337b",
   "metadata": {},
   "outputs": [
    {
     "data": {
      "text/plain": [
       "5×5 Matrix{Float64}:\n",
       " 0.146592  0.944478  0.868187  0.0521619  0.0677293\n",
       " 0.152395  0.772871  0.122176  0.943185   0.415284\n",
       " 0.42803   0.207367  0.128208  0.222298   0.783393\n",
       " 0.369662  0.752558  0.516789  0.168285   0.0854036\n",
       " 0.123069  0.551205  0.922088  0.885319   0.956932"
      ]
     },
     "metadata": {},
     "output_type": "display_data"
    }
   ],
   "source": [
    "randfil = rand(5,5)"
   ]
  },
  {
   "cell_type": "code",
   "execution_count": 36,
   "id": "c40b9f8b",
   "metadata": {},
   "outputs": [
    {
     "data": {
      "text/plain": [
       "2×2 Matrix{Float64}:\n",
       " 0.00822957  0.400916\n",
       " 0.447507    0.0353594"
      ]
     },
     "metadata": {},
     "output_type": "display_data"
    }
   ],
   "source": [
    "minifil = rand(2,2)"
   ]
  },
  {
   "cell_type": "markdown",
   "id": "25953672",
   "metadata": {},
   "source": [
    "#### Multiple input channels, multiple filters convolutional network with 2 layers"
   ]
  },
  {
   "cell_type": "code",
   "execution_count": 37,
   "id": "9d75515a",
   "metadata": {},
   "outputs": [
    {
     "data": {
      "text/plain": [
       "3×3×5 Array{Float64, 3}:\n",
       "[:, :, 1] =\n",
       " 0.5  0.5  0.5\n",
       " 0.5  0.5  0.5\n",
       " 0.5  0.5  0.5\n",
       "\n",
       "[:, :, 2] =\n",
       " 0.05  0.05  0.05\n",
       " 0.05  0.05  0.05\n",
       " 0.05  0.05  0.05\n",
       "\n",
       "[:, :, 3] =\n",
       " 0.005  0.005  0.005\n",
       " 0.005  0.005  0.005\n",
       " 0.005  0.005  0.005\n",
       "\n",
       "[:, :, 4] =\n",
       " 0.0005  0.0005  0.0005\n",
       " 0.0005  0.0005  0.0005\n",
       " 0.0005  0.0005  0.0005\n",
       "\n",
       "[:, :, 5] =\n",
       " 5.0e-5  5.0e-5  5.0e-5\n",
       " 5.0e-5  5.0e-5  5.0e-5\n",
       " 5.0e-5  5.0e-5  5.0e-5"
      ]
     },
     "metadata": {},
     "output_type": "display_data"
    }
   ],
   "source": [
    "filA3by3by5 = zeros(3,3,5)\n",
    "filA3by3by5[:,:,1] = fill(0.5, 3,3)\n",
    "filA3by3by5[:,:,2] = fill(0.05, 3,3)\n",
    "filA3by3by5[:,:,3] = fill(0.005, 3,3)\n",
    "filA3by3by5[:,:,4] = fill(0.0005, 3,3)\n",
    "filA3by3by5[:,:,5] = fill(0.00005, 3,3)\n",
    "filA3by3by5"
   ]
  },
  {
   "cell_type": "code",
   "execution_count": 38,
   "id": "f69f7fb0",
   "metadata": {},
   "outputs": [
    {
     "data": {
      "text/plain": [
       "5-element Vector{Float64}:\n",
       " 0.2\n",
       " 0.2\n",
       " 0.2\n",
       " 0.2\n",
       " 0.2"
      ]
     },
     "metadata": {},
     "output_type": "display_data"
    }
   ],
   "source": [
    "biasA = fill(0.2, 5)"
   ]
  },
  {
   "cell_type": "code",
   "execution_count": 39,
   "id": "e2ce89ac",
   "metadata": {},
   "outputs": [
    {
     "data": {
      "text/plain": [
       "3×3×5 Array{Float64, 3}:\n",
       "[:, :, 1] =\n",
       " 0.1  0.1  0.1\n",
       " 0.1  0.1  0.1\n",
       " 0.1  0.1  0.1\n",
       "\n",
       "[:, :, 2] =\n",
       " 0.01  0.01  0.01\n",
       " 0.01  0.01  0.01\n",
       " 0.01  0.01  0.01\n",
       "\n",
       "[:, :, 3] =\n",
       " 0.001  0.001  0.001\n",
       " 0.001  0.001  0.001\n",
       " 0.001  0.001  0.001\n",
       "\n",
       "[:, :, 4] =\n",
       " 0.0001  0.0001  0.0001\n",
       " 0.0001  0.0001  0.0001\n",
       " 0.0001  0.0001  0.0001\n",
       "\n",
       "[:, :, 5] =\n",
       " 1.0e-5  1.0e-5  1.0e-5\n",
       " 1.0e-5  1.0e-5  1.0e-5\n",
       " 1.0e-5  1.0e-5  1.0e-5"
      ]
     },
     "metadata": {},
     "output_type": "display_data"
    }
   ],
   "source": [
    "filB3by3by5 = zeros(3,3,5)\n",
    "filB3by3by5[:,:,1] = fill(0.1, 3,3)\n",
    "filB3by3by5[:,:,2] = fill(0.01, 3,3)\n",
    "filB3by3by5[:,:,3] = fill(0.001, 3,3)\n",
    "filB3by3by5[:,:,4] = fill(0.0001, 3,3)\n",
    "filB3by3by5[:,:,5] = fill(0.00001, 3,3)\n",
    "filB3by3by5"
   ]
  },
  {
   "cell_type": "code",
   "execution_count": 40,
   "id": "5e5811a8",
   "metadata": {},
   "outputs": [
    {
     "data": {
      "text/plain": [
       "5-element Vector{Float64}:\n",
       " 0.05\n",
       " 0.05\n",
       " 0.05\n",
       " 0.05\n",
       " 0.05"
      ]
     },
     "metadata": {},
     "output_type": "display_data"
    }
   ],
   "source": [
    "biasB = fill(0.05, 5)"
   ]
  },
  {
   "cell_type": "markdown",
   "id": "9374ac80",
   "metadata": {},
   "source": [
    "##### check dopad with multiple channel image"
   ]
  },
  {
   "cell_type": "code",
   "execution_count": 41,
   "id": "d46da5a9",
   "metadata": {},
   "outputs": [
    {
     "ename": "UndefVarError",
     "evalue": "UndefVarError: `padding_same` not defined",
     "output_type": "error",
     "traceback": [
      "UndefVarError: `padding_same` not defined\n",
      "\n",
      "Stacktrace:\n",
      " [1] top-level scope\n",
      "   @ ~/Code/nn by hand/notebooks/jl_notebook_cell_df34fa98e69747e1a8f8a730347b8e2f_X62sZmlsZQ==.jl:1"
     ]
    }
   ],
   "source": [
    "allpads = padding_same(tst20by3img, filA3by3by5)"
   ]
  },
  {
   "cell_type": "code",
   "execution_count": 42,
   "id": "a23ccaf8",
   "metadata": {},
   "outputs": [
    {
     "ename": "UndefVarError",
     "evalue": "UndefVarError: `dopad` not defined",
     "output_type": "error",
     "traceback": [
      "UndefVarError: `dopad` not defined\n",
      "\n",
      "Stacktrace:\n",
      " [1] top-level scope\n",
      "   @ ~/Code/nn by hand/notebooks/jl_notebook_cell_df34fa98e69747e1a8f8a730347b8e2f_X63sZmlsZQ==.jl:1"
     ]
    }
   ],
   "source": [
    "dopad(tst20by3img, allpads)"
   ]
  },
  {
   "cell_type": "code",
   "execution_count": 43,
   "id": "25c59edc",
   "metadata": {},
   "outputs": [
    {
     "ename": "UndefVarError",
     "evalue": "UndefVarError: `convolve_multi` not defined",
     "output_type": "error",
     "traceback": [
      "UndefVarError: `convolve_multi` not defined\n",
      "\n",
      "Stacktrace:\n",
      " [1] top-level scope\n",
      "   @ ~/Code/nn by hand/notebooks/jl_notebook_cell_df34fa98e69747e1a8f8a730347b8e2f_X64sZmlsZQ==.jl:1"
     ]
    }
   ],
   "source": [
    "conv1out = convolve_multi(tst20by3img, filA3by3by5, biasA)"
   ]
  },
  {
   "cell_type": "code",
   "execution_count": 44,
   "id": "659e6ab5",
   "metadata": {},
   "outputs": [
    {
     "data": {
      "text/plain": [
       "3×3×3 Array{Float64, 3}:\n",
       "[:, :, 1] =\n",
       " 1.0  0.0  -1.0\n",
       " 1.0  0.0  -1.0\n",
       " 1.0  0.0  -1.0\n",
       "\n",
       "[:, :, 2] =\n",
       " 1.0  0.0  -1.0\n",
       " 1.0  0.0  -1.0\n",
       " 1.0  0.0  -1.0\n",
       "\n",
       "[:, :, 3] =\n",
       " 1.0  0.0  -1.0\n",
       " 1.0  0.0  -1.0\n",
       " 1.0  0.0  -1.0"
      ]
     },
     "metadata": {},
     "output_type": "display_data"
    }
   ],
   "source": [
    "v_edge_fil_3_3_3_1 = cat(v_edge_fil, v_edge_fil, v_edge_fil,dims=3)"
   ]
  },
  {
   "cell_type": "code",
   "execution_count": 45,
   "id": "55fd12c1",
   "metadata": {},
   "outputs": [
    {
     "data": {
      "text/plain": [
       "3×3×3×1 Array{Float64, 4}:\n",
       "[:, :, 1, 1] =\n",
       " 1.0  0.0  -1.0\n",
       " 1.0  0.0  -1.0\n",
       " 1.0  0.0  -1.0\n",
       "\n",
       "[:, :, 2, 1] =\n",
       " 1.0  0.0  -1.0\n",
       " 1.0  0.0  -1.0\n",
       " 1.0  0.0  -1.0\n",
       "\n",
       "[:, :, 3, 1] =\n",
       " 1.0  0.0  -1.0\n",
       " 1.0  0.0  -1.0\n",
       " 1.0  0.0  -1.0"
      ]
     },
     "metadata": {},
     "output_type": "display_data"
    }
   ],
   "source": [
    "v_edge_fil_3_3_3_1 = reshape(v_edge_fil_3_3_3_1, (3,3,3,1))"
   ]
  },
  {
   "cell_type": "code",
   "execution_count": 46,
   "id": "4ea4c0fc",
   "metadata": {},
   "outputs": [
    {
     "data": {
      "text/plain": [
       "(6, 6, 3, 1)"
      ]
     },
     "metadata": {},
     "output_type": "display_data"
    }
   ],
   "source": [
    "size(edg_6by6_by3_by1)"
   ]
  },
  {
   "cell_type": "code",
   "execution_count": 47,
   "id": "9f674087",
   "metadata": {},
   "outputs": [
    {
     "ename": "UndefVarError",
     "evalue": "UndefVarError: `conv_col_out` not defined",
     "output_type": "error",
     "traceback": [
      "UndefVarError: `conv_col_out` not defined\n",
      "\n",
      "Stacktrace:\n",
      " [1] top-level scope\n",
      "   @ ~/Code/nn by hand/notebooks/jl_notebook_cell_df34fa98e69747e1a8f8a730347b8e2f_Y101sZmlsZQ==.jl:1"
     ]
    }
   ],
   "source": [
    "size(conv_col_out)"
   ]
  },
  {
   "cell_type": "code",
   "execution_count": 48,
   "id": "cdbb5505",
   "metadata": {},
   "outputs": [
    {
     "data": {
      "text/plain": [
       "ConvLayer([1.0 0.0 -1.0; 1.0 0.0 -1.0; 1.0 0.0 -1.0;;; 1.0 0.0 -1.0; 1.0 0.0 -1.0; 1.0 0.0 -1.0;;; 1.0 0.0 -1.0; 1.0 0.0 -1.0; 1.0 0.0 -1.0;;;;], [0.2, 0.2, 0.2], 1, 1)"
      ]
     },
     "metadata": {},
     "output_type": "display_data"
    }
   ],
   "source": [
    "clay = ConvLayer(v_edge_fil_3_3_3_1,fill(0.2,3),1,1)"
   ]
  },
  {
   "cell_type": "code",
   "execution_count": 49,
   "id": "a45ba00e",
   "metadata": {},
   "outputs": [
    {
     "data": {
      "text/plain": [
       "(3, 3, 3, 1)"
      ]
     },
     "metadata": {},
     "output_type": "display_data"
    }
   ],
   "source": [
    "size(clay.weights)"
   ]
  },
  {
   "cell_type": "code",
   "execution_count": 50,
   "id": "b35888ee",
   "metadata": {},
   "outputs": [
    {
     "ename": "UndefVarError",
     "evalue": "UndefVarError: `forward` not defined",
     "output_type": "error",
     "traceback": [
      "UndefVarError: `forward` not defined\n",
      "\n",
      "Stacktrace:\n",
      "  [1] var\"##core#232\"()\n",
      "    @ Main ~/.julia/packages/BenchmarkTools/QNsku/src/execution.jl:561\n",
      "  [2] var\"##sample#233\"(::Tuple{}, __params::BenchmarkTools.Parameters)\n",
      "    @ Main ~/.julia/packages/BenchmarkTools/QNsku/src/execution.jl:570\n",
      "  [3] _lineartrial(b::BenchmarkTools.Benchmark, p::BenchmarkTools.Parameters; maxevals::Int64, kwargs::@Kwargs{})\n",
      "    @ BenchmarkTools ~/.julia/packages/BenchmarkTools/QNsku/src/execution.jl:187\n",
      "  [4] _lineartrial(b::BenchmarkTools.Benchmark, p::BenchmarkTools.Parameters)\n",
      "    @ BenchmarkTools ~/.julia/packages/BenchmarkTools/QNsku/src/execution.jl:182\n",
      "  [5] #invokelatest#2\n",
      "    @ ./essentials.jl:892 [inlined]\n",
      "  [6] invokelatest\n",
      "    @ ./essentials.jl:889 [inlined]\n",
      "  [7] #lineartrial#46\n",
      "    @ ~/.julia/packages/BenchmarkTools/QNsku/src/execution.jl:51 [inlined]\n",
      "  [8] lineartrial\n",
      "    @ ~/.julia/packages/BenchmarkTools/QNsku/src/execution.jl:50 [inlined]\n",
      "  [9] tune!(b::BenchmarkTools.Benchmark, p::BenchmarkTools.Parameters; progressid::Nothing, nleaves::Float64, ndone::Float64, verbose::Bool, pad::String, kwargs::@Kwargs{})\n",
      "    @ BenchmarkTools ~/.julia/packages/BenchmarkTools/QNsku/src/execution.jl:300\n",
      " [10] tune!\n",
      "    @ ~/.julia/packages/BenchmarkTools/QNsku/src/execution.jl:289 [inlined]\n",
      " [11] tune!(b::BenchmarkTools.Benchmark)\n",
      "    @ BenchmarkTools ~/.julia/packages/BenchmarkTools/QNsku/src/execution.jl:289\n",
      " [12] top-level scope\n",
      "    @ ~/.julia/packages/BenchmarkTools/QNsku/src/execution.jl:447"
     ]
    }
   ],
   "source": [
    "@benchmark forward(clay, edg_6by6_by3_by1)"
   ]
  },
  {
   "cell_type": "code",
   "execution_count": 51,
   "id": "fce76c2f",
   "metadata": {},
   "outputs": [
    {
     "ename": "BoundsError",
     "evalue": "BoundsError: attempt to access @NamedTuple{conv_inputs::@NamedTuple{x_col::Matrix{Float64}, w_col::Matrix{Float64}, bias::Vector{Float64}, out_channels::Int64, batch_size::Int64, out_height::Int64, out_width::Int64}, img_size::@NamedTuple{height::Int64, width::Int64, in_channels::Int64, batch_size::Int64}} at index [3]",
     "output_type": "error",
     "traceback": [
      "BoundsError: attempt to access @NamedTuple{conv_inputs::@NamedTuple{x_col::Matrix{Float64}, w_col::Matrix{Float64}, bias::Vector{Float64}, out_channels::Int64, batch_size::Int64, out_height::Int64, out_width::Int64}, img_size::@NamedTuple{height::Int64, width::Int64, in_channels::Int64, batch_size::Int64}} at index [3]\n",
      "\n",
      "Stacktrace:\n",
      "  [1] indexed_iterate\n",
      "    @ ./namedtuple.jl:172 [inlined]\n",
      "  [2] var\"##core#235\"()\n",
      "    @ Main ~/.julia/packages/BenchmarkTools/QNsku/src/execution.jl:561\n",
      "  [3] var\"##sample#236\"(::Tuple{}, __params::BenchmarkTools.Parameters)\n",
      "    @ Main ~/.julia/packages/BenchmarkTools/QNsku/src/execution.jl:570\n",
      "  [4] _lineartrial(b::BenchmarkTools.Benchmark, p::BenchmarkTools.Parameters; maxevals::Int64, kwargs::@Kwargs{})\n",
      "    @ BenchmarkTools ~/.julia/packages/BenchmarkTools/QNsku/src/execution.jl:187\n",
      "  [5] _lineartrial(b::BenchmarkTools.Benchmark, p::BenchmarkTools.Parameters)\n",
      "    @ BenchmarkTools ~/.julia/packages/BenchmarkTools/QNsku/src/execution.jl:182\n",
      "  [6] #invokelatest#2\n",
      "    @ ./essentials.jl:892 [inlined]\n",
      "  [7] invokelatest\n",
      "    @ ./essentials.jl:889 [inlined]\n",
      "  [8] #lineartrial#46\n",
      "    @ ~/.julia/packages/BenchmarkTools/QNsku/src/execution.jl:51 [inlined]\n",
      "  [9] lineartrial\n",
      "    @ ~/.julia/packages/BenchmarkTools/QNsku/src/execution.jl:50 [inlined]\n",
      " [10] tune!(b::BenchmarkTools.Benchmark, p::BenchmarkTools.Parameters; progressid::Nothing, nleaves::Float64, ndone::Float64, verbose::Bool, pad::String, kwargs::@Kwargs{})\n",
      "    @ BenchmarkTools ~/.julia/packages/BenchmarkTools/QNsku/src/execution.jl:300\n",
      " [11] tune!\n",
      "    @ ~/.julia/packages/BenchmarkTools/QNsku/src/execution.jl:289 [inlined]\n",
      " [12] tune!(b::BenchmarkTools.Benchmark)\n",
      "    @ BenchmarkTools ~/.julia/packages/BenchmarkTools/QNsku/src/execution.jl:289\n",
      " [13] top-level scope\n",
      "    @ ~/.julia/packages/BenchmarkTools/QNsku/src/execution.jl:447"
     ]
    }
   ],
   "source": [
    "@benchmark x_col, w_col, bias, out_channels, batch_size, out_height, out_width = prep_forward(clay, edg_6by6_by3_by1)"
   ]
  },
  {
   "cell_type": "code",
   "execution_count": 52,
   "id": "ae5bffed",
   "metadata": {},
   "outputs": [
    {
     "ename": "UndefVarError",
     "evalue": "UndefVarError: `forward` not defined",
     "output_type": "error",
     "traceback": [
      "UndefVarError: `forward` not defined\n",
      "\n",
      "Stacktrace:\n",
      "  [1] var\"##core#238\"()\n",
      "    @ Main ~/.julia/packages/BenchmarkTools/QNsku/src/execution.jl:561\n",
      "  [2] var\"##sample#239\"(::Tuple{}, __params::BenchmarkTools.Parameters)\n",
      "    @ Main ~/.julia/packages/BenchmarkTools/QNsku/src/execution.jl:570\n",
      "  [3] _lineartrial(b::BenchmarkTools.Benchmark, p::BenchmarkTools.Parameters; maxevals::Int64, kwargs::@Kwargs{})\n",
      "    @ BenchmarkTools ~/.julia/packages/BenchmarkTools/QNsku/src/execution.jl:187\n",
      "  [4] _lineartrial(b::BenchmarkTools.Benchmark, p::BenchmarkTools.Parameters)\n",
      "    @ BenchmarkTools ~/.julia/packages/BenchmarkTools/QNsku/src/execution.jl:182\n",
      "  [5] #invokelatest#2\n",
      "    @ ./essentials.jl:892 [inlined]\n",
      "  [6] invokelatest\n",
      "    @ ./essentials.jl:889 [inlined]\n",
      "  [7] #lineartrial#46\n",
      "    @ ~/.julia/packages/BenchmarkTools/QNsku/src/execution.jl:51 [inlined]\n",
      "  [8] lineartrial\n",
      "    @ ~/.julia/packages/BenchmarkTools/QNsku/src/execution.jl:50 [inlined]\n",
      "  [9] tune!(b::BenchmarkTools.Benchmark, p::BenchmarkTools.Parameters; progressid::Nothing, nleaves::Float64, ndone::Float64, verbose::Bool, pad::String, kwargs::@Kwargs{})\n",
      "    @ BenchmarkTools ~/.julia/packages/BenchmarkTools/QNsku/src/execution.jl:300\n",
      " [10] tune!\n",
      "    @ ~/.julia/packages/BenchmarkTools/QNsku/src/execution.jl:289 [inlined]\n",
      " [11] tune!(b::BenchmarkTools.Benchmark)\n",
      "    @ BenchmarkTools ~/.julia/packages/BenchmarkTools/QNsku/src/execution.jl:289\n",
      " [12] top-level scope\n",
      "    @ ~/.julia/packages/BenchmarkTools/QNsku/src/execution.jl:447"
     ]
    }
   ],
   "source": [
    "@benchmark forward(x_col, w_col, bias, out_channels, batch_size, out_height, out_width)"
   ]
  },
  {
   "cell_type": "code",
   "execution_count": 53,
   "id": "bb76b575",
   "metadata": {},
   "outputs": [
    {
     "ename": "UndefVarError",
     "evalue": "UndefVarError: `forward` not defined",
     "output_type": "error",
     "traceback": [
      "UndefVarError: `forward` not defined\n",
      "\n",
      "Stacktrace:\n",
      " [1] top-level scope\n",
      "   @ ~/Code/nn by hand/notebooks/jl_notebook_cell_df34fa98e69747e1a8f8a730347b8e2f_Y110sZmlsZQ==.jl:1"
     ]
    }
   ],
   "source": [
    "img_out1 = forward(x_col, w_col, bias, out_channels, batch_size, out_height, out_width)"
   ]
  },
  {
   "cell_type": "code",
   "execution_count": 54,
   "id": "3d75eb4d",
   "metadata": {},
   "outputs": [
    {
     "ename": "UndefVarError",
     "evalue": "UndefVarError: `forward` not defined",
     "output_type": "error",
     "traceback": [
      "UndefVarError: `forward` not defined\n",
      "\n",
      "Stacktrace:\n",
      " [1] top-level scope\n",
      "   @ ~/Code/nn by hand/notebooks/jl_notebook_cell_df34fa98e69747e1a8f8a730347b8e2f_Y111sZmlsZQ==.jl:1"
     ]
    }
   ],
   "source": [
    "img_out1 = forward(clay, edg_6by6_by3_by1)"
   ]
  },
  {
   "cell_type": "code",
   "execution_count": 55,
   "id": "ab32116d",
   "metadata": {},
   "outputs": [
    {
     "ename": "UndefVarError",
     "evalue": "UndefVarError: `img_out1` not defined",
     "output_type": "error",
     "traceback": [
      "UndefVarError: `img_out1` not defined\n",
      "\n",
      "Stacktrace:\n",
      " [1] top-level scope\n",
      "   @ ~/Code/nn by hand/notebooks/jl_notebook_cell_df34fa98e69747e1a8f8a730347b8e2f_Y112sZmlsZQ==.jl:1"
     ]
    }
   ],
   "source": [
    "size(img_out1)"
   ]
  },
  {
   "cell_type": "code",
   "execution_count": 56,
   "id": "b54f6596",
   "metadata": {},
   "outputs": [
    {
     "ename": "UndefVarError",
     "evalue": "UndefVarError: `x_col` not defined",
     "output_type": "error",
     "traceback": [
      "UndefVarError: `x_col` not defined\n",
      "\n",
      "Stacktrace:\n",
      " [1] macro expansion\n",
      "   @ show.jl:1181 [inlined]\n",
      " [2] top-level scope\n",
      "   @ ~/Code/nn by hand/notebooks/jl_notebook_cell_df34fa98e69747e1a8f8a730347b8e2f_Y113sZmlsZQ==.jl:1"
     ]
    }
   ],
   "source": [
    "@show size(x), size(x_col), size(w_col)"
   ]
  },
  {
   "cell_type": "code",
   "execution_count": 57,
   "id": "92d43094",
   "metadata": {},
   "outputs": [
    {
     "ename": "MethodError",
     "evalue": "MethodError: no method matching col2im(::Matrix{Float64}, ::Tuple{Int64, Int64}, ::Int64, ::Int64, ::Int64)\n\nClosest candidates are:\n  col2im(::Matrix{Float64}, !Matched::NamedTuple, ::Int64, ::Int64, ::Int64)\n   @ Main ~/Code/nn by hand/src/colconv.jl:86\n",
     "output_type": "error",
     "traceback": [
      "MethodError: no method matching col2im(::Matrix{Float64}, ::Tuple{Int64, Int64}, ::Int64, ::Int64, ::Int64)\n",
      "\n",
      "Closest candidates are:\n",
      "  col2im(::Matrix{Float64}, !Matched::NamedTuple, ::Int64, ::Int64, ::Int64)\n",
      "   @ Main ~/Code/nn by hand/src/colconv.jl:86\n",
      "\n",
      "\n",
      "Stacktrace:\n",
      " [1] top-level scope\n",
      "   @ ~/Code/nn by hand/notebooks/jl_notebook_cell_df34fa98e69747e1a8f8a730347b8e2f_Y114sZmlsZQ==.jl:1"
     ]
    }
   ],
   "source": [
    "img_out1 = col2im(x[:,:,1,1], size(x), 3, 1, 0)"
   ]
  },
  {
   "cell_type": "code",
   "execution_count": 58,
   "id": "dc89942e",
   "metadata": {},
   "outputs": [
    {
     "ename": "UndefVarError",
     "evalue": "UndefVarError: `conv1out` not defined",
     "output_type": "error",
     "traceback": [
      "UndefVarError: `conv1out` not defined\n",
      "\n",
      "Stacktrace:\n",
      " [1] top-level scope\n",
      "   @ ~/Code/nn by hand/notebooks/jl_notebook_cell_df34fa98e69747e1a8f8a730347b8e2f_Y115sZmlsZQ==.jl:1"
     ]
    }
   ],
   "source": [
    "activ1 = similar(conv1out)\n",
    "GeneralNN.relu!(activ1, conv1out)"
   ]
  },
  {
   "cell_type": "code",
   "execution_count": 59,
   "id": "4eb1fc28",
   "metadata": {},
   "outputs": [
    {
     "ename": "UndefVarError",
     "evalue": "UndefVarError: `convolve_multi` not defined",
     "output_type": "error",
     "traceback": [
      "UndefVarError: `convolve_multi` not defined\n",
      "\n",
      "Stacktrace:\n",
      " [1] top-level scope\n",
      "   @ ~/Code/nn by hand/notebooks/jl_notebook_cell_df34fa98e69747e1a8f8a730347b8e2f_Y116sZmlsZQ==.jl:1"
     ]
    }
   ],
   "source": [
    "conv2out = convolve_multi(activ1, filB3by3by5, biasB, padding=:none)"
   ]
  },
  {
   "cell_type": "code",
   "execution_count": 60,
   "id": "2dddf55e",
   "metadata": {},
   "outputs": [
    {
     "ename": "UndefVarError",
     "evalue": "UndefVarError: `conv2out` not defined",
     "output_type": "error",
     "traceback": [
      "UndefVarError: `conv2out` not defined\n",
      "\n",
      "Stacktrace:\n",
      " [1] top-level scope\n",
      "   @ ~/Code/nn by hand/notebooks/jl_notebook_cell_df34fa98e69747e1a8f8a730347b8e2f_Y120sZmlsZQ==.jl:1"
     ]
    }
   ],
   "source": [
    "activ2 = similar(conv2out)\n",
    "GeneralNN.relu!(activ2, conv2out)"
   ]
  },
  {
   "cell_type": "code",
   "execution_count": 61,
   "id": "f7b30e00",
   "metadata": {},
   "outputs": [
    {
     "ename": "UndefVarError",
     "evalue": "UndefVarError: `pooling` not defined",
     "output_type": "error",
     "traceback": [
      "UndefVarError: `pooling` not defined\n",
      "\n",
      "Stacktrace:\n",
      " [1] top-level scope\n",
      "   @ ~/Code/nn by hand/notebooks/jl_notebook_cell_df34fa98e69747e1a8f8a730347b8e2f_Y121sZmlsZQ==.jl:1"
     ]
    }
   ],
   "source": [
    "locs = pooling(activ2)[2]"
   ]
  },
  {
   "cell_type": "code",
   "execution_count": 62,
   "id": "696278a5",
   "metadata": {},
   "outputs": [
    {
     "ename": "UndefVarError",
     "evalue": "UndefVarError: `pooling` not defined",
     "output_type": "error",
     "traceback": [
      "UndefVarError: `pooling` not defined\n",
      "\n",
      "Stacktrace:\n",
      " [1] top-level scope\n",
      "   @ ~/Code/nn by hand/notebooks/jl_notebook_cell_df34fa98e69747e1a8f8a730347b8e2f_Y122sZmlsZQ==.jl:3"
     ]
    }
   ],
   "source": [
    "#pre-allocate pooling output\n",
    "activ3 = zeros(9,9,5)\n",
    "activ3 .= pooling(activ2)[1]"
   ]
  },
  {
   "cell_type": "code",
   "execution_count": 63,
   "id": "7e813eee",
   "metadata": {},
   "outputs": [
    {
     "ename": "UndefVarError",
     "evalue": "UndefVarError: `activ2` not defined",
     "output_type": "error",
     "traceback": [
      "UndefVarError: `activ2` not defined\n",
      "\n",
      "Stacktrace:\n",
      " [1] top-level scope\n",
      "   @ ~/Code/nn by hand/notebooks/jl_notebook_cell_df34fa98e69747e1a8f8a730347b8e2f_Y123sZmlsZQ==.jl:1"
     ]
    }
   ],
   "source": [
    "size(activ2)"
   ]
  },
  {
   "cell_type": "code",
   "execution_count": 64,
   "id": "9f591877",
   "metadata": {},
   "outputs": [
    {
     "ename": "MethodError",
     "evalue": "MethodError: no method matching flatten_img(::Array{Float64, 3})\n\nClosest candidates are:\n  flatten_img(!Matched::Array{Float64, 4})\n   @ Main ~/Code/nn by hand/src/colconv.jl:325\n",
     "output_type": "error",
     "traceback": [
      "MethodError: no method matching flatten_img(::Array{Float64, 3})\n",
      "\n",
      "Closest candidates are:\n",
      "  flatten_img(!Matched::Array{Float64, 4})\n",
      "   @ Main ~/Code/nn by hand/src/colconv.jl:325\n",
      "\n",
      "\n",
      "Stacktrace:\n",
      " [1] top-level scope\n",
      "   @ ~/Code/nn by hand/notebooks/jl_notebook_cell_df34fa98e69747e1a8f8a730347b8e2f_Y124sZmlsZQ==.jl:1"
     ]
    }
   ],
   "source": [
    "activ4 = flatten_img(activ3)"
   ]
  },
  {
   "cell_type": "code",
   "execution_count": 65,
   "id": "0c315182",
   "metadata": {},
   "outputs": [
    {
     "ename": "UndefVarError",
     "evalue": "UndefVarError: `activ4` not defined",
     "output_type": "error",
     "traceback": [
      "UndefVarError: `activ4` not defined\n",
      "\n",
      "Stacktrace:\n",
      " [1] top-level scope\n",
      "   @ ~/Code/nn by hand/notebooks/jl_notebook_cell_df34fa98e69747e1a8f8a730347b8e2f_Y125sZmlsZQ==.jl:1"
     ]
    }
   ],
   "source": [
    "size(activ4)"
   ]
  },
  {
   "cell_type": "code",
   "execution_count": 66,
   "id": "c1b236fd",
   "metadata": {},
   "outputs": [
    {
     "data": {
      "text/plain": [
       "200×405 Matrix{Float64}:\n",
       " 0.646883   0.421438   0.142428     …  0.346117   0.482316  0.802152\n",
       " 0.426532   0.178853   0.84086         0.112768   0.705712  0.0805154\n",
       " 0.102085   0.0153629  0.190794        0.727624   0.585659  0.556974\n",
       " 0.596068   0.61783    0.679374        0.446353   0.758449  0.930363\n",
       " 0.379293   0.431791   0.000495342     0.622339   0.344967  0.437815\n",
       " 0.472632   0.131828   0.960911     …  0.15644    0.17155   0.741937\n",
       " 0.378237   0.983458   0.202904        0.101453   0.857301  0.811441\n",
       " 0.789564   0.75732    0.994583        0.980416   0.210115  0.795127\n",
       " 0.298385   0.228861   0.5205          0.837007   0.60399   0.0142391\n",
       " 0.881035   0.307167   0.167078        0.562535   0.740627  0.363101\n",
       " ⋮                                  ⋱                       \n",
       " 0.0472736  0.4342     0.290392        0.917041   0.547251  0.704935\n",
       " 0.406971   0.574213   0.824196        0.434479   0.510669  0.544984\n",
       " 0.911642   0.286315   0.425479        0.0340833  0.895915  0.860684\n",
       " 0.233084   0.335862   0.264503        0.0920049  0.250815  0.736844\n",
       " 0.927208   0.925111   0.897735     …  0.815646   0.316864  0.530292\n",
       " 0.0417064  0.595308   0.976455        0.29215    0.583031  0.694602\n",
       " 0.167989   0.040049   0.147492        0.321765   0.132448  0.364435\n",
       " 0.419131   0.617306   0.108436        0.476947   0.876023  0.210406\n",
       " 0.975072   0.0880933  0.356421        0.37503    0.614317  0.476651"
      ]
     },
     "metadata": {},
     "output_type": "display_data"
    }
   ],
   "source": [
    "wgts5 = rand(200,405)"
   ]
  },
  {
   "cell_type": "code",
   "execution_count": 67,
   "id": "ea95c223",
   "metadata": {},
   "outputs": [
    {
     "ename": "UndefVarError",
     "evalue": "UndefVarError: `activ4` not defined",
     "output_type": "error",
     "traceback": [
      "UndefVarError: `activ4` not defined\n",
      "\n",
      "Stacktrace:\n",
      " [1] top-level scope\n",
      "   @ ~/Code/nn by hand/notebooks/jl_notebook_cell_df34fa98e69747e1a8f8a730347b8e2f_Y130sZmlsZQ==.jl:1"
     ]
    }
   ],
   "source": [
    "activ5 = wgts5 * activ4\n",
    "activ5 = GeneralNN.relu!(activ5, activ5)"
   ]
  },
  {
   "cell_type": "code",
   "execution_count": 68,
   "id": "8f905e45",
   "metadata": {},
   "outputs": [
    {
     "data": {
      "text/plain": [
       "10×200 Matrix{Float64}:\n",
       " 0.804187   0.546986   0.342474   …  0.204938    0.625381   0.249864\n",
       " 0.152      0.365376   0.611283      0.373716    0.666272   0.457069\n",
       " 0.194875   0.0545965  0.892972      0.504166    0.208233   0.403177\n",
       " 0.599801   0.848794   0.0409828     0.570232    0.394409   0.728875\n",
       " 0.667175   0.800829   0.921543      0.0265449   0.71511    0.22902\n",
       " 0.0732125  0.680689   0.750667   …  0.0580188   0.524868   0.0522477\n",
       " 0.861609   0.901591   0.465569      0.324301    0.509505   0.411188\n",
       " 0.225395   0.426842   0.0752757     0.11155     0.0257198  0.715908\n",
       " 0.410488   0.132916   0.612848      0.00758087  0.512784   0.342405\n",
       " 0.473577   0.399384   0.0142694     0.928063    0.385437   0.452478"
      ]
     },
     "metadata": {},
     "output_type": "display_data"
    }
   ],
   "source": [
    "wgts6 = rand(10,200)"
   ]
  },
  {
   "cell_type": "code",
   "execution_count": 69,
   "id": "bce4f424",
   "metadata": {},
   "outputs": [
    {
     "ename": "UndefVarError",
     "evalue": "UndefVarError: `activ5` not defined",
     "output_type": "error",
     "traceback": [
      "UndefVarError: `activ5` not defined\n",
      "\n",
      "Stacktrace:\n",
      " [1] top-level scope\n",
      "   @ ~/Code/nn by hand/notebooks/jl_notebook_cell_df34fa98e69747e1a8f8a730347b8e2f_Y132sZmlsZQ==.jl:1"
     ]
    }
   ],
   "source": [
    "z6 = wgts6 * activ5\n",
    "z6 = reshape(z6,10,1)"
   ]
  },
  {
   "cell_type": "code",
   "execution_count": 70,
   "id": "a90fdb52",
   "metadata": {},
   "outputs": [
    {
     "data": {
      "text/plain": [
       "10×1 Matrix{Float64}:\n",
       " 0.7814277304076037\n",
       " 0.9986020382440848\n",
       " 0.7372355132984786\n",
       " 0.05106643622047713\n",
       " 0.8278535813283877\n",
       " 0.21451631293099538\n",
       " 0.15705277774961146\n",
       " 0.028280406480288622\n",
       " 0.7536186092208396\n",
       " 0.6707493685958246"
      ]
     },
     "metadata": {},
     "output_type": "display_data"
    }
   ],
   "source": [
    "preds = rand(10,1)"
   ]
  },
  {
   "cell_type": "code",
   "execution_count": 71,
   "id": "9bc236c1",
   "metadata": {},
   "outputs": [
    {
     "ename": "UndefVarError",
     "evalue": "UndefVarError: `z6` not defined",
     "output_type": "error",
     "traceback": [
      "UndefVarError: `z6` not defined\n",
      "\n",
      "Stacktrace:\n",
      " [1] top-level scope\n",
      "   @ ~/Code/nn by hand/notebooks/jl_notebook_cell_df34fa98e69747e1a8f8a730347b8e2f_Y134sZmlsZQ==.jl:1"
     ]
    }
   ],
   "source": [
    "GeneralNN.softmax!(preds,z6)"
   ]
  },
  {
   "cell_type": "code",
   "execution_count": 72,
   "id": "5af36e55",
   "metadata": {},
   "outputs": [],
   "source": [
    "tst = rand(17,17,7);"
   ]
  },
  {
   "cell_type": "code",
   "execution_count": 73,
   "id": "0b867a34",
   "metadata": {},
   "outputs": [
    {
     "ename": "UndefVarError",
     "evalue": "UndefVarError: `dopad` not defined",
     "output_type": "error",
     "traceback": [
      "UndefVarError: `dopad` not defined\n",
      "\n",
      "Stacktrace:\n",
      " [1] top-level scope\n",
      "   @ ~/Code/nn by hand/notebooks/jl_notebook_cell_df34fa98e69747e1a8f8a730347b8e2f_Y136sZmlsZQ==.jl:1"
     ]
    }
   ],
   "source": [
    "dopad(tst, (1,1,1,1))"
   ]
  }
 ],
 "metadata": {
  "kernelspec": {
   "display_name": "Julia 1.10.7",
   "language": "julia",
   "name": "julia-1.10"
  },
  "language_info": {
   "file_extension": ".jl",
   "mimetype": "application/julia",
   "name": "julia",
   "version": "1.10.7"
  }
 },
 "nbformat": 4,
 "nbformat_minor": 5
}
