{
 "cells": [
  {
   "cell_type": "code",
   "execution_count": 1,
   "metadata": {},
   "outputs": [
    {
     "data": {
      "text/plain": [
       "\"/Users/lewis/Code/nn by hand/notebooks\""
      ]
     },
     "metadata": {},
     "output_type": "display_data"
    }
   ],
   "source": [
    "pwd()"
   ]
  },
  {
   "cell_type": "code",
   "execution_count": 2,
   "metadata": {},
   "outputs": [],
   "source": [
    "includet(\"../src/simple_conv.jl\")\n",
    "for (mod, file) in Revise.included_files\n",
    "    Revise.track(mod, file)\n",
    "end"
   ]
  },
  {
   "cell_type": "code",
   "execution_count": 13,
   "metadata": {},
   "outputs": [
    {
     "name": "stdout",
     "output_type": "stream",
     "text": [
      "size train_x (400, 5000)\n",
      "size train_y (10, 5000)\n",
      "size test_x (0, 0)\n",
      "size test_y (0, 0)\n",
      "(size(x_col3), size(w_col3)) = ((108, 2000000), (108, 8))\n",
      "Current cost: 2.425546961002111 accuracy 0.139 iteration 1\n",
      "size(dL_dout) = (20, 20, 8, 5000)\n",
      "size(dL_dout_permuted) = (8, 20, 20, 5000)\n"
     ]
    },
    {
     "ename": "BoundsError",
     "evalue": "BoundsError: attempt to access 108×2000000 Matrix{Float64} at index [109, 1]",
     "output_type": "error",
     "traceback": [
      "BoundsError: attempt to access 108×2000000 Matrix{Float64} at index [109, 1]\n",
      "\n",
      "Stacktrace:\n",
      " [1] setindex!\n",
      "   @ ./array.jl:1024 [inlined]\n",
      " [2] im2col!(x_col::Matrix{Float64}, x_img::Array{Float64, 4}, kernel_size::Int64, stride::Int64, pad::Int64)\n",
      "   @ Main ~/Code/nn by hand/src/colconv.jl:106\n",
      " [3] backward_conv!(backprop::ConvBackpropArrays, layer::ConvLayer, dL_dout::Array{Float64, 4}, input_img_size::ImgSize, conv_inputs::ConvInputs)\n",
      "   @ Main ~/Code/nn by hand/src/colconv.jl:385\n",
      " [4] basic(matfname::String; norm_mode::String, epochs::Int64, alpha::Float64, scale::Float64, verbose::Bool)\n",
      "   @ Main ~/Code/nn by hand/src/simple_conv.jl:496\n",
      " [5] top-level scope\n",
      "   @ ~/Code/nn by hand/notebooks/jl_notebook_cell_df34fa98e69747e1a8f8a730347b8e2f_W2sZmlsZQ==.jl:1"
     ]
    }
   ],
   "source": [
    "basic(\"../data/digits5000by400.mat\", alpha=0.6,epochs=1, scale=2.0, verbose=false);"
   ]
  }
 ],
 "metadata": {
  "kernelspec": {
   "display_name": "Julia 1.10.7",
   "language": "julia",
   "name": "julia-1.10"
  },
  "language_info": {
   "file_extension": ".jl",
   "mimetype": "application/julia",
   "name": "julia",
   "version": "1.10.7"
  }
 },
 "nbformat": 4,
 "nbformat_minor": 2
}
